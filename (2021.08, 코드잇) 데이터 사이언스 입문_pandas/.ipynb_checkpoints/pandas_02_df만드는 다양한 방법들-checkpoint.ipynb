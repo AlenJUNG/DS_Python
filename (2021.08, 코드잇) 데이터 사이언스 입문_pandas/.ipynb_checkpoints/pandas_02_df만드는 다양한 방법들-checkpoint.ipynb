{
 "cells": [
  {
   "cell_type": "markdown",
   "metadata": {},
   "source": [
    "---"
   ]
  },
  {
   "cell_type": "markdown",
   "metadata": {},
   "source": [
    " # 2차원 리스트나 2차원 numpy array로 DataFrame을 만들 수 있음\n",
    " 1. ㅣㅑㄴ"
   ]
  },
  {
   "cell_type": "code",
   "execution_count": 2,
   "metadata": {},
   "outputs": [],
   "source": [
    "import numpy as np\n",
    "import pandas as pd"
   ]
  },
  {
   "cell_type": "code",
   "execution_count": 3,
   "metadata": {},
   "outputs": [],
   "source": [
    "two_dimensional_list = [['dongwook', 50, 86], ['sineui', 86, 31], ['ikjoong', 68, 91], ['yoonsoo', 88, 75]]"
   ]
  },
  {
   "cell_type": "code",
   "execution_count": 4,
   "metadata": {},
   "outputs": [],
   "source": [
    "two_dimensional_array = np.array(two_dimensional_list)"
   ]
  },
  {
   "cell_type": "markdown",
   "metadata": {},
   "source": [
    "- 1차원 pandas > Series"
   ]
  },
  {
   "cell_type": "code",
   "execution_count": 5,
   "metadata": {},
   "outputs": [],
   "source": [
    "list_of_series = [\n",
    "    pd.Series(['dongwook', 50, 86]),\n",
    "    pd.Series(['sineui', 86, 31]),\n",
    "    pd.Series(['ikjoong', 68, 91]),\n",
    "    pd.Series(['yoonsoo', 88, 75]),\n",
    "]"
   ]
  },
  {
   "cell_type": "code",
   "execution_count": 6,
   "metadata": {},
   "outputs": [],
   "source": [
    "# 리스트를 df화\n",
    "df1 = pd.DataFrame(two_dimensional_list)"
   ]
  },
  {
   "cell_type": "code",
   "execution_count": 7,
   "metadata": {},
   "outputs": [],
   "source": [
    "# numpy array를 df화\n",
    "df2 = pd.DataFrame(two_dimensional_array)"
   ]
  },
  {
   "cell_type": "code",
   "execution_count": 8,
   "metadata": {},
   "outputs": [],
   "source": [
    "# series를 df화\n",
    "df3 = pd.DataFrame(list_of_series)"
   ]
  },
  {
   "cell_type": "code",
   "execution_count": 8,
   "metadata": {},
   "outputs": [
    {
     "name": "stdout",
     "output_type": "stream",
     "text": [
      "          0   1   2\n",
      "0  dongwook  50  86\n",
      "1    sineui  86  31\n",
      "2   ikjoong  68  91\n",
      "3   yoonsoo  88  75\n"
     ]
    }
   ],
   "source": [
    "print(df1)"
   ]
  },
  {
   "cell_type": "code",
   "execution_count": 9,
   "metadata": {},
   "outputs": [
    {
     "name": "stdout",
     "output_type": "stream",
     "text": [
      "          0   1   2\n",
      "0  dongwook  50  86\n",
      "1    sineui  86  31\n",
      "2   ikjoong  68  91\n",
      "3   yoonsoo  88  75\n"
     ]
    }
   ],
   "source": [
    "print(df2)"
   ]
  },
  {
   "cell_type": "code",
   "execution_count": 10,
   "metadata": {},
   "outputs": [
    {
     "name": "stdout",
     "output_type": "stream",
     "text": [
      "          0   1   2\n",
      "0  dongwook  50  86\n",
      "1    sineui  86  31\n",
      "2   ikjoong  68  91\n",
      "3   yoonsoo  88  75\n"
     ]
    }
   ],
   "source": [
    "print(df3)"
   ]
  },
  {
   "cell_type": "code",
   "execution_count": null,
   "metadata": {},
   "outputs": [],
   "source": []
  }
 ],
 "metadata": {
  "kernelspec": {
   "display_name": "Python 3",
   "language": "python",
   "name": "python3"
  },
  "language_info": {
   "codemirror_mode": {
    "name": "ipython",
    "version": 3
   },
   "file_extension": ".py",
   "mimetype": "text/x-python",
   "name": "python",
   "nbconvert_exporter": "python",
   "pygments_lexer": "ipython3",
   "version": "3.7.4"
  }
 },
 "nbformat": 4,
 "nbformat_minor": 2
}
