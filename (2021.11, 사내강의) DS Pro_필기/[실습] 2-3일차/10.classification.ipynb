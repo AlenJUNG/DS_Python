{
 "cells": [
  {
   "cell_type": "markdown",
   "metadata": {
    "id": "9vjy8g6GOIHN"
   },
   "source": [
    "# 다범주 분류 분석 "
   ]
  },
  {
   "cell_type": "code",
   "execution_count": null,
   "metadata": {
    "colab": {
     "base_uri": "https://localhost:8080/"
    },
    "executionInfo": {
     "elapsed": 886,
     "status": "ok",
     "timestamp": 1609900440224,
     "user": {
      "displayName": "­김현중(전임교원/상경대학 응용통계학)",
      "photoUrl": "https://lh3.googleusercontent.com/a-/AOh14Gi0m7bMi4WYdjhXlCstTEEPsywlLI4VtjLesI7FhQ=s64",
      "userId": "10361547238773279348"
     },
     "user_tz": -540
    },
    "id": "quaKLkwrSXj_",
    "outputId": "803776cf-e9e0-4068-ffe1-f27611ad9652",
    "scrolled": false
   },
   "outputs": [],
   "source": [
    "import numpy as np \n",
    "import pandas as pd \n",
    "import matplotlib.pyplot as plt\n",
    "import seaborn as sns\n",
    "from warnings import simplefilter\n",
    "simplefilter(action='ignore', category=FutureWarning)"
   ]
  },
  {
   "cell_type": "code",
   "execution_count": null,
   "metadata": {
    "id": "dWYvQi_5OIHN"
   },
   "outputs": [],
   "source": [
    "iris = pd.read_csv(\"iris.csv\")\n",
    "iris"
   ]
  },
  {
   "cell_type": "code",
   "execution_count": null,
   "metadata": {
    "id": "E0CFVzXeOIHO",
    "scrolled": true
   },
   "outputs": [],
   "source": [
    "sns.scatterplot(data=iris, x='Sepal_Length', y='Petal_Length', hue='Species', palette=\"Set2\")\n",
    "plt.show()"
   ]
  },
  {
   "cell_type": "code",
   "execution_count": null,
   "metadata": {
    "id": "dWYvQi_5OIHN"
   },
   "outputs": [],
   "source": [
    "X = iris.drop('Species',axis = 1)\n",
    "y = iris['Species']"
   ]
  },
  {
   "cell_type": "markdown",
   "metadata": {
    "id": "8qi1-4IAOIHQ"
   },
   "source": [
    "## 로지스틱 회귀분석"
   ]
  },
  {
   "cell_type": "code",
   "execution_count": null,
   "metadata": {},
   "outputs": [],
   "source": [
    "from sklearn.linear_model import LogisticRegression\n",
    "model = LogisticRegression(multi_class='ovr') # ovr = one-vs-rest\n",
    "model.fit(X, y)\n",
    "yhat = model.predict(X)\n",
    "yhat"
   ]
  },
  {
   "cell_type": "markdown",
   "metadata": {},
   "source": [
    "## SVM"
   ]
  },
  {
   "cell_type": "code",
   "execution_count": null,
   "metadata": {},
   "outputs": [],
   "source": [
    "# linear kernel 이용 \n",
    "from sklearn.svm import SVC\n",
    "model_svm = SVC(kernel='linear', decision_function_shape='ovr')\n",
    "linear_svm= model_svm.fit(X, y)\n",
    "linear_svm.predict(X)"
   ]
  },
  {
   "cell_type": "markdown",
   "metadata": {},
   "source": [
    "# 불균형 데이터 처리방법"
   ]
  },
  {
   "cell_type": "code",
   "execution_count": null,
   "metadata": {},
   "outputs": [],
   "source": [
    "#!pip install imbalanced-learn"
   ]
  },
  {
   "cell_type": "code",
   "execution_count": null,
   "metadata": {},
   "outputs": [],
   "source": [
    "from imblearn.over_sampling import SMOTE\n",
    "from collections import Counter    # class 갯수 확인 \n",
    "import numpy as np \n",
    "import pandas as pd \n",
    "import matplotlib.pyplot as plt\n",
    "import seaborn as sns"
   ]
  },
  {
   "cell_type": "code",
   "execution_count": null,
   "metadata": {},
   "outputs": [],
   "source": [
    "df = pd.read_csv('product.csv')\n",
    "print(df.shape)\n",
    "print(df.isnull().sum().sum())\n",
    "X = df.drop('Defect', axis=1)\n",
    "y = df['Defect']\n",
    "y = np.where(y==\"NG\", 1, 0)\n",
    "xvar = X.columns\n",
    "xvar"
   ]
  },
  {
   "cell_type": "code",
   "execution_count": null,
   "metadata": {},
   "outputs": [],
   "source": [
    "counter = Counter(y)\n",
    "print(counter)"
   ]
  },
  {
   "cell_type": "markdown",
   "metadata": {},
   "source": [
    "## Train/Test 분할"
   ]
  },
  {
   "cell_type": "code",
   "execution_count": null,
   "metadata": {},
   "outputs": [],
   "source": [
    "from sklearn.model_selection import train_test_split\n",
    "def data_split (x, y) : \n",
    "    X_train, X_test, Y_train, Y_test = train_test_split(x, y, test_size=0.5, random_state=1234, stratify=y)\n",
    "    print(\"Ratio of the event: Training dataset:\",round( sum(Y_train)/len(Y_train)*100,2),\"%, Test dataset:\",\n",
    "          round( sum(Y_test)/len(Y_test)*100,2), \"%\") \n",
    "    return X_train, X_test, Y_train, Y_test"
   ]
  },
  {
   "cell_type": "code",
   "execution_count": null,
   "metadata": {},
   "outputs": [],
   "source": [
    "X_train, X_test, y_train, y_test=data_split (X, y)"
   ]
  },
  {
   "cell_type": "code",
   "execution_count": null,
   "metadata": {},
   "outputs": [],
   "source": [
    "counter_train = Counter(y_train) \n",
    "counter_test = Counter(y_test)\n",
    "print(\"train: \", counter_train, \",   test:\", counter_test)"
   ]
  },
  {
   "cell_type": "markdown",
   "metadata": {},
   "source": [
    "### SMOTE"
   ]
  },
  {
   "cell_type": "code",
   "execution_count": null,
   "metadata": {},
   "outputs": [],
   "source": [
    "# transform the dataset\n",
    "smote = SMOTE(random_state=0)\n",
    "X_smote, y_smote = smote.fit_resample(X_train, y_train)\n",
    "# summarize the new class distribution\n",
    "counter = Counter(y_smote)\n",
    "print(counter)"
   ]
  },
  {
   "cell_type": "markdown",
   "metadata": {},
   "source": [
    "#### 의사결정나무"
   ]
  },
  {
   "cell_type": "code",
   "execution_count": null,
   "metadata": {},
   "outputs": [],
   "source": [
    "from sklearn.tree import DecisionTreeClassifier\n",
    "model_tree = DecisionTreeClassifier() \n",
    "original_tree = model_tree.fit(X_train, y_train)\n",
    "model_tree_s = DecisionTreeClassifier() \n",
    "smote_tree = model_tree_s.fit(X_smote, y_smote)"
   ]
  },
  {
   "cell_type": "markdown",
   "metadata": {},
   "source": [
    "#### SVM"
   ]
  },
  {
   "cell_type": "code",
   "execution_count": null,
   "metadata": {},
   "outputs": [],
   "source": [
    "from sklearn.svm import SVC\n",
    "# linear kernel 이용 \n",
    "model_svm = SVC(kernel='linear', probability=True, random_state=0)\n",
    "original_svm = model_svm.fit(X_train, y_train)\n",
    "model_svm_s = SVC(kernel='linear', probability=True, random_state=0)\n",
    "smote_svm = model_svm_s.fit(X_smote, y_smote)"
   ]
  },
  {
   "cell_type": "markdown",
   "metadata": {},
   "source": [
    "## ROC curve 와 AUC"
   ]
  },
  {
   "cell_type": "code",
   "execution_count": null,
   "metadata": {},
   "outputs": [],
   "source": [
    "from sklearn.metrics import roc_curve \n",
    "from sklearn.metrics import roc_auc_score \n",
    "# sensitivity & specificity\n",
    "fpr1, tpr1, th1 = roc_curve(y_test, model_tree.predict_proba(X_test)[:,1])\n",
    "fpr2, tpr2, th2 = roc_curve(y_test, model_svm.predict_proba(X_test)[:,1])\n",
    "fpr3, tpr3, th3 = roc_curve(y_test, model_tree_s.predict_proba(X_test)[:,1])\n",
    "fpr4, tpr4, th4 = roc_curve(y_test, model_svm_s.predict_proba(X_test)[:,1])\n",
    "# AUROC\n",
    "roc_auc1 = roc_auc_score(y_test, model_tree.predict_proba(X_test)[:,1] )\n",
    "roc_auc2 = roc_auc_score(y_test, model_svm.predict_proba(X_test)[:,1] )\n",
    "roc_auc3 = roc_auc_score(y_test, model_tree_s.predict_proba(X_test)[:,1] )\n",
    "roc_auc4 = roc_auc_score(y_test, model_svm_s.predict_proba(X_test)[:,1] )\n",
    "# Curve plotting\n",
    "plt.figure()\n",
    "plt.plot(fpr1, tpr1, label='Tree (area = %0.2f)' % roc_auc1)\n",
    "plt.plot(fpr2, tpr2, label='SVM (area = %0.2f)' % roc_auc2)\n",
    "plt.plot(fpr3, tpr3, label='Tree Smote (area = %0.2f)' % roc_auc3)\n",
    "plt.plot(fpr4, tpr4, label='SVM Smote (area = %0.2f)' % roc_auc3)\n",
    "plt.plot([0, 1], [0, 1],'r--')\n",
    "plt.xlabel('False Positive Rate')\n",
    "plt.ylabel('True Positive Rate')\n",
    "plt.title('Receiver operating characteristic')\n",
    "plt.legend(loc=\"lower right\")\n",
    "plt.show()"
   ]
  },
  {
   "cell_type": "code",
   "execution_count": null,
   "metadata": {},
   "outputs": [],
   "source": []
  }
 ],
 "metadata": {
  "colab": {
   "collapsed_sections": [],
   "name": "feature_eng.ipynb",
   "provenance": []
  },
  "kernelspec": {
   "display_name": "Python 3",
   "language": "python",
   "name": "python3"
  },
  "language_info": {
   "codemirror_mode": {
    "name": "ipython",
    "version": 3
   },
   "file_extension": ".py",
   "mimetype": "text/x-python",
   "name": "python",
   "nbconvert_exporter": "python",
   "pygments_lexer": "ipython3",
   "version": "3.7.4"
  }
 },
 "nbformat": 4,
 "nbformat_minor": 1
}
