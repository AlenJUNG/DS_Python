{
 "cells": [
  {
   "cell_type": "markdown",
   "metadata": {},
   "source": [
    "# Clustering 예제\n",
    "## 신용카드를 소지한 고객데이터: 17개 변수로 구성 \n",
    "예: 구매액, 현금서비스, 사용한도금액, 최소결제금액, 완납비율, 보유기간 등"
   ]
  },
  {
   "cell_type": "code",
   "execution_count": null,
   "metadata": {},
   "outputs": [],
   "source": [
    "import numpy as np \n",
    "import pandas as pd \n",
    "import matplotlib.pyplot as plt\n",
    "import seaborn as sns"
   ]
  },
  {
   "cell_type": "code",
   "execution_count": null,
   "metadata": {},
   "outputs": [],
   "source": [
    "df = pd.read_csv(\"creditcard.csv\")\n",
    "df = df.drop('CUST_ID',axis=1)\n",
    "df = df.fillna(df.median())\n",
    "xvar = df.columns"
   ]
  },
  {
   "cell_type": "markdown",
   "metadata": {},
   "source": [
    "#### 결측치 확인 및 처리"
   ]
  },
  {
   "cell_type": "code",
   "execution_count": null,
   "metadata": {},
   "outputs": [],
   "source": [
    "df.isnull().sum().sum()"
   ]
  },
  {
   "cell_type": "markdown",
   "metadata": {},
   "source": [
    "#### 우측 치우침이 심한 변수가 많음\n",
    "#### 로그 변환을 수행 (0에는 로그를 취할 수 없으므로, 1을 더한 후 로그변환)"
   ]
  },
  {
   "cell_type": "code",
   "execution_count": null,
   "metadata": {},
   "outputs": [],
   "source": [
    "df1 = df\n",
    "xvarlog = ['BALANCE', 'PURCHASES','ONEOFF_PURCHASES', 'INSTALLMENTS_PURCHASES', 'CASH_ADVANCE',     \n",
    "       'CASH_ADVANCE_TRX', 'PURCHASES_TRX', 'CREDIT_LIMIT', 'PAYMENTS','MINIMUM_PAYMENTS']\n",
    "df1[xvarlog] = np.log(1+df1[xvarlog])"
   ]
  },
  {
   "cell_type": "markdown",
   "metadata": {},
   "source": [
    "#### 상관관계 강한 변수들 확인하여 필요하면 제거"
   ]
  },
  {
   "cell_type": "code",
   "execution_count": null,
   "metadata": {},
   "outputs": [],
   "source": [
    "xvar_drop = ['PURCHASES','PURCHASES_INSTALLMENTS_FREQUENCY','CASH_ADVANCE_TRX','PURCHASES_FREQUENCY']\n",
    "df2 = df1.drop(xvar_drop, axis=1)\n",
    "xvar2 = df2.columns"
   ]
  },
  {
   "cell_type": "markdown",
   "metadata": {},
   "source": [
    "#### df2 는 최종 데이터, xvar2는 최종 변수명"
   ]
  },
  {
   "cell_type": "code",
   "execution_count": null,
   "metadata": {},
   "outputs": [],
   "source": [
    "plt.figure(figsize=(20,20))\n",
    "sns.heatmap(df2.corr(),cmap='coolwarm',annot=True)\n",
    "plt.show()"
   ]
  },
  {
   "cell_type": "markdown",
   "metadata": {},
   "source": [
    "# 신용카드 고객 세분화 (군집분석)\n",
    "#### 군집분석을 위한 패키지 호출"
   ]
  },
  {
   "cell_type": "code",
   "execution_count": null,
   "metadata": {},
   "outputs": [],
   "source": [
    "from sklearn.preprocessing import StandardScaler\n",
    "from sklearn.metrics import silhouette_score\n",
    "from sklearn.cluster import KMeans\n",
    "from sklearn.cluster import MeanShift\n",
    "from sklearn.cluster import DBSCAN\n",
    "from sklearn.mixture import GaussianMixture"
   ]
  },
  {
   "cell_type": "code",
   "execution_count": null,
   "metadata": {},
   "outputs": [],
   "source": [
    "scaler = StandardScaler()\n",
    "df2_std = scaler.fit_transform(df2)\n",
    "df2_std = pd.DataFrame(df2_std)\n",
    "df2_std.columns = xvar2"
   ]
  },
  {
   "cell_type": "markdown",
   "metadata": {},
   "source": [
    "## K-means clustering"
   ]
  },
  {
   "cell_type": "code",
   "execution_count": null,
   "metadata": {},
   "outputs": [],
   "source": [
    "np.random.seed(0)\n",
    "silhouette_kmean = [] \n",
    "for n_cluster in range(2, 11):\n",
    "    clus = KMeans(n_clusters = n_cluster).fit_predict(df2_std)\n",
    "    sil_score = silhouette_score(df2_std, clus) \n",
    "    silhouette_kmean.append((n_cluster, sil_score))\n",
    "df_kmean = pd.DataFrame(silhouette_kmean, columns=['number_of_clusters', 'sil_score'])\n",
    "df_kmean.sort_values('sil_score', ascending=False)"
   ]
  },
  {
   "cell_type": "code",
   "execution_count": null,
   "metadata": {},
   "outputs": [],
   "source": [
    "# Custumers per cluster\n",
    "k = 3\n",
    "np.random.seed(0)\n",
    "kmean = KMeans(n_clusters=k, random_state=0)\n",
    "clus = kmean.fit_predict(df2_std)\n",
    "pd.Series(clus).value_counts()"
   ]
  },
  {
   "cell_type": "code",
   "execution_count": null,
   "metadata": {},
   "outputs": [],
   "source": [
    "X = df2.join(pd.DataFrame({'kmean_label': clus}))\n",
    "X"
   ]
  },
  {
   "cell_type": "code",
   "execution_count": null,
   "metadata": {},
   "outputs": [],
   "source": [
    "plt.figure(figsize=(15,25))\n",
    "for i in range(0,13):\n",
    "    plt.subplot(6,3,i+1)\n",
    "    sns.kdeplot(data=X, x=xvar2[i], hue=\"kmean_label\", palette=\"Set2\")\n",
    "plt.show()"
   ]
  },
  {
   "cell_type": "code",
   "execution_count": null,
   "metadata": {},
   "outputs": [],
   "source": [
    "xvarsub = ['BALANCE','ONEOFF_PURCHASES','INSTALLMENTS_PURCHASES','CASH_ADVANCE','PURCHASES_TRX','kmean_label']\n",
    "dfgraph = X[xvarsub]\n",
    "sns.pairplot(dfgraph,hue=\"kmean_label\",palette=\"Set2\",plot_kws={'alpha': 0.01})\n",
    "#sns.pairplot(dfgraph,kind=\"kde\",hue=\"kmean_label\",palette=\"Set2\") # slow\n",
    "plt.show()"
   ]
  },
  {
   "cell_type": "code",
   "execution_count": null,
   "metadata": {},
   "outputs": [],
   "source": [
    "dfgraph.groupby('kmean_label').mean()"
   ]
  },
  {
   "cell_type": "markdown",
   "metadata": {},
   "source": [
    "### K-means 요약\n",
    "#### Cluster 0 : 일시불 많이 구매하고,  구매횟수 높음\n",
    "#### Cluster 1 : 청구액 적고, 현금서비스 적음\n",
    "#### Cluster 2 : 할부금액 적고, 구매횟수 적고, 현금서비스 많음."
   ]
  },
  {
   "cell_type": "markdown",
   "metadata": {},
   "source": [
    "## Mean-Shift clustering"
   ]
  },
  {
   "cell_type": "code",
   "execution_count": null,
   "metadata": {},
   "outputs": [],
   "source": [
    "np.random.seed(0)\n",
    "silhouette_meanshift = [] \n",
    "for bandwidth in np.arange(3.3, 3.3, 0.5):   ## slow\n",
    "    meanshift = MeanShift(bandwidth=bandwidth)\n",
    "    clus = meanshift.fit_predict(df2_std)\n",
    "    sil_score = silhouette_score(df2_std, clus) \n",
    "    silhouette_meanshift.append((bandwidth, sil_score, len(set(meanshift.labels_)) ))\n",
    "df_meanshift = pd.DataFrame(silhouette_meanshift, columns=['bandwidth', 'sil_score', 'number_of_clusters'])\n",
    "df_meanshift.sort_values('sil_score', ascending=False)"
   ]
  },
  {
   "cell_type": "code",
   "execution_count": null,
   "metadata": {},
   "outputs": [],
   "source": [
    "np.random.seed(0)\n",
    "bandwidth = 3.3\n",
    "#meanshift = MeanShift(bandwidth=bandwidth, max_iter=100)  ## sklearn v0.24 이후\n",
    "meanshift = MeanShift(bandwidth=bandwidth)  ## very slow\n",
    "clus = meanshift.fit_predict(df2_std)\n",
    "pd.Series(clus).value_counts()"
   ]
  },
  {
   "cell_type": "code",
   "execution_count": null,
   "metadata": {},
   "outputs": [],
   "source": [
    "X=df2.join(pd.DataFrame({'meanshift_label': clus}))\n",
    "plt.figure(figsize=(15,25))\n",
    "for i in range(0,13):\n",
    "    plt.subplot(6,3,i+1)\n",
    "    sns.kdeplot(data=X, x=xvar2[i], hue=\"meanshift_label\", palette=\"Set2\")\n",
    "plt.show()"
   ]
  },
  {
   "cell_type": "markdown",
   "metadata": {},
   "source": [
    "### Mean-Shift 요약\n",
    "#### 의미있는 군집이 만들어지지 않음"
   ]
  },
  {
   "cell_type": "markdown",
   "metadata": {},
   "source": [
    "## DBSCAN"
   ]
  },
  {
   "cell_type": "code",
   "execution_count": null,
   "metadata": {},
   "outputs": [],
   "source": [
    "np.random.seed(0)\n",
    "siliuette_dbscan = []\n",
    "for eps in np.arange(1.9,2.1,0.1):\n",
    "    for min_sample in range(10,14,1):\n",
    "        dbscan = DBSCAN(eps=eps, min_samples=min_sample)\n",
    "        clus = dbscan.fit_predict(df2_std)\n",
    "        sil_score = silhouette_score(df2_std, clus) \n",
    "        siliuette_dbscan.append((eps, min_sample, sil_score, len(set(dbscan.labels_))) )\n",
    "df_dbscan = pd.DataFrame(siliuette_dbscan, columns=['eps', 'min_samples', 'sil_score', 'number_of_clusters'])\n",
    "df_dbscan.sort_values('sil_score', ascending=False)"
   ]
  },
  {
   "cell_type": "code",
   "execution_count": null,
   "metadata": {
    "scrolled": true
   },
   "outputs": [],
   "source": [
    "np.random.seed(0)\n",
    "eps=2.1\n",
    "min_samples=12\n",
    "dbscan = DBSCAN(eps=eps, min_samples=min_samples)\n",
    "clus = dbscan.fit_predict(df2_std)\n",
    "pd.Series(clus).value_counts()"
   ]
  },
  {
   "cell_type": "markdown",
   "metadata": {},
   "source": [
    "### DBSCAN 요약\n",
    "#### 의미있는 군집이 만들어지지 않음"
   ]
  },
  {
   "cell_type": "markdown",
   "metadata": {},
   "source": [
    "## GMM"
   ]
  },
  {
   "cell_type": "code",
   "execution_count": null,
   "metadata": {},
   "outputs": [],
   "source": [
    "np.random.seed(0)\n",
    "siliuette_GMM = []\n",
    "for n_cluster in range(2,10,2):\n",
    "    for covariance_type in ['tied', 'diag', 'full']:\n",
    "        gmm  = GaussianMixture(n_components=n_cluster, covariance_type=covariance_type, random_state=0)\n",
    "        clus = gmm.fit_predict(df2_std)\n",
    "        sil_score = silhouette_score(df2_std, clus)\n",
    "        siliuette_GMM.append((n_cluster, sil_score, covariance_type ) )        \n",
    "df_gmm = pd.DataFrame(siliuette_GMM, columns=['number_of_clusters', 'sil_score','covariance_type'])\n",
    "df_gmm.sort_values('sil_score', ascending=False)"
   ]
  },
  {
   "cell_type": "code",
   "execution_count": null,
   "metadata": {},
   "outputs": [],
   "source": [
    "np.random.seed(0)\n",
    "gmm  = GaussianMixture(n_components=2, covariance_type='tied', random_state=0)\n",
    "clus = gmm.fit_predict(df2_std)\n",
    "pd.Series(clus).value_counts()"
   ]
  },
  {
   "cell_type": "code",
   "execution_count": null,
   "metadata": {},
   "outputs": [],
   "source": [
    "X = df2.join(pd.DataFrame({'GMM_label': clus}))\n",
    "X"
   ]
  },
  {
   "cell_type": "code",
   "execution_count": null,
   "metadata": {
    "scrolled": false
   },
   "outputs": [],
   "source": [
    "plt.figure(figsize=(15,25))\n",
    "for i in range(0,13):\n",
    "    plt.subplot(6,3,i+1)\n",
    "    sns.kdeplot(data=X, x=xvar2[i], hue=\"GMM_label\", palette=\"Set2\")\n",
    "plt.show()"
   ]
  },
  {
   "cell_type": "code",
   "execution_count": null,
   "metadata": {},
   "outputs": [],
   "source": [
    "xvarsub = ['BALANCE','CASH_ADVANCE','PURCHASES_TRX','GMM_label']\n",
    "dfgraph = X[xvarsub]\n",
    "sns.pairplot(dfgraph,kind=\"kde\",hue=\"GMM_label\",palette=\"Set2\")\n",
    "plt.show()"
   ]
  },
  {
   "cell_type": "code",
   "execution_count": null,
   "metadata": {},
   "outputs": [],
   "source": [
    "dfgraph.groupby('GMM_label').mean()"
   ]
  },
  {
   "cell_type": "markdown",
   "metadata": {},
   "source": [
    "#### 2 군집의 차이가 가장 큰 변수는 '현금서비스'임. 그외  '청구액' , '할부구매액', '구매회수' 임"
   ]
  },
  {
   "cell_type": "markdown",
   "metadata": {},
   "source": [
    "#### 군집1은 현금서비스 금액이 높은 그룹\n",
    "#### 군집0은 현금서비스 금액이 낮은 그룹"
   ]
  }
 ],
 "metadata": {
  "kernelspec": {
   "display_name": "Python 3",
   "language": "python",
   "name": "python3"
  },
  "language_info": {
   "codemirror_mode": {
    "name": "ipython",
    "version": 3
   },
   "file_extension": ".py",
   "mimetype": "text/x-python",
   "name": "python",
   "nbconvert_exporter": "python",
   "pygments_lexer": "ipython3",
   "version": "3.7.4"
  }
 },
 "nbformat": 4,
 "nbformat_minor": 4
}
