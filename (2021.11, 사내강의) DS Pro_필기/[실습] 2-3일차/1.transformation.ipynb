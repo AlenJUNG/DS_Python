{
 "cells": [
  {
   "cell_type": "markdown",
   "metadata": {
    "id": "QTM2ssi_OIHH"
   },
   "source": [
    "# Feature Engineering 예제"
   ]
  },
  {
   "cell_type": "markdown",
   "metadata": {},
   "source": [
    "## 신용카드를 소지한 고객 데이터: 17개 변수로 구성 \n",
    "예: 구매액, 현금서비스, 사용한도금액, 최소결제금액, 완납비율, 보유기간 등"
   ]
  },
  {
   "cell_type": "code",
   "execution_count": null,
   "metadata": {},
   "outputs": [],
   "source": [
    "import numpy as np \n",
    "import pandas as pd \n",
    "import matplotlib.pyplot as plt\n",
    "import seaborn as sns\n",
    "sns.__version__  # '!pip install seaborn -- upgrade' 수행"
   ]
  },
  {
   "cell_type": "code",
   "execution_count": null,
   "metadata": {
    "id": "tST_fqYVOIHJ"
   },
   "outputs": [],
   "source": [
    "df = pd.read_csv(\"creditcard.csv\")\n",
    "df"
   ]
  },
  {
   "cell_type": "code",
   "execution_count": null,
   "metadata": {
    "id": "IR67D_3cOIHK"
   },
   "outputs": [],
   "source": [
    "df.info()"
   ]
  },
  {
   "cell_type": "code",
   "execution_count": null,
   "metadata": {
    "id": "070zJKIOOIHK"
   },
   "outputs": [],
   "source": [
    "df.drop('CUST_ID', axis=1, inplace=True)\n",
    "df"
   ]
  },
  {
   "cell_type": "markdown",
   "metadata": {},
   "source": [
    "## Feature transformation"
   ]
  },
  {
   "cell_type": "markdown",
   "metadata": {
    "id": "JD6zikSQOIHK"
   },
   "source": [
    "#### 결측치 확인 및 처리"
   ]
  },
  {
   "cell_type": "code",
   "execution_count": null,
   "metadata": {
    "id": "DyHkI1FtOIHK"
   },
   "outputs": [],
   "source": [
    "df.isnull().sum()"
   ]
  },
  {
   "cell_type": "code",
   "execution_count": null,
   "metadata": {
    "id": "lJbJeJRpOIHK",
    "scrolled": true
   },
   "outputs": [],
   "source": [
    "plt.subplots(figsize=(15,10))\n",
    "sns.boxplot(data=df, width= 0.5, fliersize=2)\n",
    "plt.show()"
   ]
  },
  {
   "cell_type": "code",
   "execution_count": null,
   "metadata": {
    "id": "gZOM4uW4OIHL"
   },
   "outputs": [],
   "source": [
    "df = df.fillna(df.median())"
   ]
  },
  {
   "cell_type": "markdown",
   "metadata": {
    "id": "mYTtUDHQOIHL"
   },
   "source": [
    "#### 데이터 탐색"
   ]
  },
  {
   "cell_type": "code",
   "execution_count": null,
   "metadata": {
    "id": "5zzs1VgBOIHL"
   },
   "outputs": [],
   "source": [
    "df.describe()"
   ]
  },
  {
   "cell_type": "code",
   "execution_count": null,
   "metadata": {
    "id": "NkPvnK9-OIHL"
   },
   "outputs": [],
   "source": [
    "xvar=df.columns\n",
    "plt.figure(figsize=(25,30))\n",
    "for i in range(0,17):\n",
    "    plt.subplot(6,3,i+1)\n",
    "    sns.kdeplot(data=df, x=xvar[i])\n",
    "plt.show()"
   ]
  },
  {
   "cell_type": "markdown",
   "metadata": {
    "id": "upXNbYBAOIHL"
   },
   "source": [
    "#### 우측 치우침이 심한 변수가 많음\n",
    "#### 로그 변환을 수행 (0에는 로그를 취할 수 없으므로, 1을 더한 후 로그변환)"
   ]
  },
  {
   "cell_type": "code",
   "execution_count": null,
   "metadata": {
    "id": "H00lWftoOIHM"
   },
   "outputs": [],
   "source": [
    "df1 = df.copy()\n",
    "xvarlog = ['BALANCE', 'PURCHASES','ONEOFF_PURCHASES', 'INSTALLMENTS_PURCHASES', 'CASH_ADVANCE',     \n",
    "       'CASH_ADVANCE_TRX', 'PURCHASES_TRX', 'CREDIT_LIMIT', 'PAYMENTS','MINIMUM_PAYMENTS']\n",
    "df1[xvarlog] = np.log(1+df1[xvarlog])"
   ]
  },
  {
   "cell_type": "code",
   "execution_count": null,
   "metadata": {
    "id": "w0Zu99RkOIHM"
   },
   "outputs": [],
   "source": [
    "df1.describe()"
   ]
  },
  {
   "cell_type": "code",
   "execution_count": null,
   "metadata": {
    "id": "5meTXdKzOIHM"
   },
   "outputs": [],
   "source": [
    "plt.figure(figsize=(25,35))\n",
    "for i in range(0,17):\n",
    "    plt.subplot(6,3,i+1)\n",
    "    sns.kdeplot(data=df1, x=xvar[i])\n",
    "plt.show()"
   ]
  },
  {
   "cell_type": "code",
   "execution_count": null,
   "metadata": {
    "id": "FCaQAutBOIHM"
   },
   "outputs": [],
   "source": [
    "plt.subplots(figsize=(15,10))\n",
    "sns.boxplot(data=df1, width= 0.5, fliersize=2)\n",
    "plt.show()"
   ]
  },
  {
   "cell_type": "markdown",
   "metadata": {
    "id": "1pH_tyDhOIHM"
   },
   "source": [
    "## 비지도학습 feature selection\n",
    "#### 상관관계 강한 변수들 확인하여 필요하면 제거"
   ]
  },
  {
   "cell_type": "code",
   "execution_count": null,
   "metadata": {
    "id": "FbywajMvOIHM"
   },
   "outputs": [],
   "source": [
    "corr = df1.corr()\n",
    "corr[corr > 0.85]"
   ]
  },
  {
   "cell_type": "code",
   "execution_count": null,
   "metadata": {
    "id": "Edh9n5e3OIHN"
   },
   "outputs": [],
   "source": [
    "xvar_drop = ['PURCHASES','PURCHASES_INSTALLMENTS_FREQUENCY','CASH_ADVANCE_TRX','PURCHASES_FREQUENCY']\n",
    "df2 = df1.drop(xvar_drop, axis=1)\n",
    "xvar2 = df2.columns"
   ]
  },
  {
   "cell_type": "markdown",
   "metadata": {
    "id": "N3ozh62TOIHN"
   },
   "source": [
    "#### df2 는 최종 데이터, xvar2는 최종 변수명"
   ]
  },
  {
   "cell_type": "code",
   "execution_count": null,
   "metadata": {
    "id": "uqxtp2mDOIHN"
   },
   "outputs": [],
   "source": [
    "corr = df2.corr()\n",
    "corr[corr > 0.85]"
   ]
  },
  {
   "cell_type": "code",
   "execution_count": null,
   "metadata": {
    "id": "2LLXur4wOIHN"
   },
   "outputs": [],
   "source": [
    "plt.figure(figsize=(20,20))\n",
    "sns.heatmap(df2.corr(),cmap='coolwarm',annot=True)\n",
    "plt.show()"
   ]
  },
  {
   "cell_type": "code",
   "execution_count": null,
   "metadata": {},
   "outputs": [],
   "source": []
  }
 ],
 "metadata": {
  "colab": {
   "collapsed_sections": [],
   "name": "feature_eng.ipynb",
   "provenance": []
  },
  "kernelspec": {
   "display_name": "Python 3",
   "language": "python",
   "name": "python3"
  },
  "language_info": {
   "codemirror_mode": {
    "name": "ipython",
    "version": 3
   },
   "file_extension": ".py",
   "mimetype": "text/x-python",
   "name": "python",
   "nbconvert_exporter": "python",
   "pygments_lexer": "ipython3",
   "version": "3.7.4"
  }
 },
 "nbformat": 4,
 "nbformat_minor": 1
}
