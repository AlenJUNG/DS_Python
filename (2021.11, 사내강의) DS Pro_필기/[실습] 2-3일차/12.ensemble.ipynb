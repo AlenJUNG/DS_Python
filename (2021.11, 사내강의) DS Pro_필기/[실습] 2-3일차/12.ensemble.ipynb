{
 "cells": [
  {
   "cell_type": "markdown",
   "metadata": {
    "id": "9vjy8g6GOIHN"
   },
   "source": [
    "#  분류 분석 데이터 (불량/정상 제품)"
   ]
  },
  {
   "cell_type": "code",
   "execution_count": null,
   "metadata": {
    "id": "9vjy8g6GOIHN"
   },
   "outputs": [],
   "source": [
    "import numpy as np \n",
    "import pandas as pd \n",
    "import matplotlib.pyplot as plt\n",
    "import seaborn as sns\n",
    "from warnings import simplefilter\n",
    "simplefilter(action='ignore', category=FutureWarning)"
   ]
  },
  {
   "cell_type": "code",
   "execution_count": null,
   "metadata": {},
   "outputs": [],
   "source": [
    "df = pd.read_csv('product.csv')\n",
    "print(df.shape)\n",
    "print(df.isnull().sum().sum())"
   ]
  },
  {
   "cell_type": "code",
   "execution_count": null,
   "metadata": {
    "id": "dWYvQi_5OIHN"
   },
   "outputs": [],
   "source": [
    "X = df.drop('Defect', axis=1)\n",
    "y = df['Defect']\n",
    "y = np.where(y==\"NG\", 1, 0)\n",
    "xvar = X.columns\n",
    "xvar"
   ]
  },
  {
   "cell_type": "markdown",
   "metadata": {},
   "source": [
    "## Train/Test 분할"
   ]
  },
  {
   "cell_type": "code",
   "execution_count": null,
   "metadata": {},
   "outputs": [],
   "source": [
    "from sklearn.model_selection import train_test_split\n",
    "def data_split (x, y) : \n",
    "    X_train, X_test, Y_train, Y_test = train_test_split(x, y, test_size=0.5, random_state=1234, stratify=y)\n",
    "    print(\"Ratio of the event: Training dataset-\",round( sum(Y_train)/len(Y_train)*100,2),\"%, Test dataset -\",\n",
    "          round( sum(Y_test)/len(Y_test)*100,2), \"%\") \n",
    "    return X_train, X_test, Y_train, Y_test"
   ]
  },
  {
   "cell_type": "code",
   "execution_count": null,
   "metadata": {},
   "outputs": [],
   "source": [
    "X_train, X_test, y_train, y_test=data_split (X, y)"
   ]
  },
  {
   "cell_type": "markdown",
   "metadata": {},
   "source": [
    "## Bagging 방법"
   ]
  },
  {
   "cell_type": "code",
   "execution_count": null,
   "metadata": {},
   "outputs": [],
   "source": [
    "from sklearn.ensemble import BaggingClassifier\n",
    "model_bag= BaggingClassifier(n_estimators=100, random_state=0)\n",
    "result_bag = model_bag.fit(X_train, y_train)\n",
    "result_bag.predict_proba(X_test)"
   ]
  },
  {
   "cell_type": "markdown",
   "metadata": {
    "id": "8qi1-4IAOIHQ"
   },
   "source": [
    "## Random Forest 방법"
   ]
  },
  {
   "cell_type": "code",
   "execution_count": null,
   "metadata": {},
   "outputs": [],
   "source": [
    "from sklearn.ensemble import RandomForestClassifier\n",
    "model_rf = RandomForestClassifier(n_estimators=100, random_state=0)\n",
    "result_rf = model_rf.fit(X_train, y_train)\n",
    "result_rf.predict_proba(X_test)"
   ]
  },
  {
   "cell_type": "code",
   "execution_count": null,
   "metadata": {},
   "outputs": [],
   "source": [
    "# max_features 를 log2(#xvar)로 변경\n",
    "model_rf2 = RandomForestClassifier(n_estimators=100, random_state=0, max_features=\"log2\")\n",
    "result_rf2 = model_rf2.fit(X_train, y_train)\n",
    "result_rf2.predict_proba(X_test)"
   ]
  },
  {
   "cell_type": "markdown",
   "metadata": {},
   "source": [
    "## AdaBoost 방법"
   ]
  },
  {
   "cell_type": "code",
   "execution_count": null,
   "metadata": {},
   "outputs": [],
   "source": [
    "from sklearn.ensemble import AdaBoostClassifier\n",
    "from sklearn.tree import DecisionTreeClassifier\n",
    "model_ada= AdaBoostClassifier(base_estimator=DecisionTreeClassifier(max_depth=2), \n",
    "                              n_estimators=100, random_state=0)\n",
    "result_ada = model_ada.fit(X_train, y_train)\n",
    "result_ada.predict_proba(X_test)"
   ]
  },
  {
   "cell_type": "markdown",
   "metadata": {},
   "source": [
    "## Gradient Boosting 방법"
   ]
  },
  {
   "cell_type": "code",
   "execution_count": null,
   "metadata": {},
   "outputs": [],
   "source": [
    "from sklearn.ensemble import GradientBoostingClassifier\n",
    "model_gb = GradientBoostingClassifier(n_estimators=100, random_state=0)\n",
    "result_gb = model_gb.fit(X_train, y_train)\n",
    "result_gb.predict_proba(X_test)"
   ]
  },
  {
   "cell_type": "markdown",
   "metadata": {},
   "source": [
    "## SVM"
   ]
  },
  {
   "cell_type": "code",
   "execution_count": null,
   "metadata": {},
   "outputs": [],
   "source": [
    "from sklearn.svm import SVC\n",
    "from sklearn.metrics import roc_curve \n",
    "from sklearn.metrics import roc_auc_score \n",
    "# linear kernel 이용 \n",
    "model_svm = SVC(kernel='linear', probability=True, random_state=0)\n",
    "linear_svm= model_svm.fit(X_train, y_train)"
   ]
  },
  {
   "cell_type": "code",
   "execution_count": null,
   "metadata": {},
   "outputs": [],
   "source": [
    "# rbf kernel 이용 \n",
    "model_svm = SVC(kernel='rbf', probability=True, random_state=0)\n",
    "rbf_svm= model_svm.fit(X_train, y_train)"
   ]
  },
  {
   "cell_type": "markdown",
   "metadata": {},
   "source": [
    "## Accuracy Score 비교"
   ]
  },
  {
   "cell_type": "code",
   "execution_count": null,
   "metadata": {},
   "outputs": [],
   "source": [
    "from sklearn.metrics import accuracy_score\n",
    "acc_bag = accuracy_score(y_test, result_bag.predict(X_test))\n",
    "acc_rf = accuracy_score(y_test, result_rf.predict(X_test))\n",
    "acc_rf2 = accuracy_score(y_test, result_rf2.predict(X_test))\n",
    "acc_ada = accuracy_score(y_test, result_ada.predict(X_test))\n",
    "acc_gb = accuracy_score(y_test, result_gb.predict(X_test))\n",
    "acc_linearsvm = accuracy_score(y_test, linear_svm.predict(X_test))\n",
    "acc_rbfsvm = accuracy_score(y_test, rbf_svm.predict(X_test))\n",
    "accuracy = pd.DataFrame()\n",
    "accuracy[\"Methods\"] = ['Bagging','RandomForest','RandomForest2','AdaBoost','GradientBoosting',\n",
    "                       'Linear SVM','RBF SVM']\n",
    "accuracy[\"Accuracy\"] = [acc_bag, acc_rf, acc_rf2, acc_ada, acc_gb, acc_linearsvm, acc_rbfsvm]\n",
    "accuracy.sort_values('Accuracy', ascending=False)"
   ]
  },
  {
   "cell_type": "markdown",
   "metadata": {},
   "source": [
    "## ROC curve 와 AUC"
   ]
  },
  {
   "cell_type": "code",
   "execution_count": null,
   "metadata": {},
   "outputs": [],
   "source": [
    "# sensitivity & specificity\n",
    "fpr1, tpr1, th1 = roc_curve(y_test, result_bag.predict_proba(X_test)[:,1])\n",
    "fpr2, tpr2, th2 = roc_curve(y_test, result_rf.predict_proba(X_test)[:,1])\n",
    "fpr3, tpr3, th3 = roc_curve(y_test, result_rf2.predict_proba(X_test)[:,1])\n",
    "fpr4, tpr4, th4 = roc_curve(y_test, result_ada.predict_proba(X_test)[:,1])\n",
    "fpr5, tpr5, th5 = roc_curve(y_test, result_gb.predict_proba(X_test)[:,1])\n",
    "fpr6, tpr6, th6 = roc_curve(y_test, linear_svm.predict_proba(X_test)[:,1])\n",
    "fpr7, tpr7, th7 = roc_curve(y_test, rbf_svm.predict_proba(X_test)[:,1])\n",
    "# AUROC\n",
    "roc_auc1 = roc_auc_score(y_test, result_bag.predict_proba(X_test)[:,1] )\n",
    "roc_auc2 = roc_auc_score(y_test, result_rf.predict_proba(X_test)[:,1] )\n",
    "roc_auc3 = roc_auc_score(y_test, result_rf2.predict_proba(X_test)[:,1] )\n",
    "roc_auc4 = roc_auc_score(y_test, result_ada.predict_proba(X_test)[:,1] )\n",
    "roc_auc5 = roc_auc_score(y_test, result_gb.predict_proba(X_test)[:,1] )\n",
    "roc_auc6 = roc_auc_score(y_test, linear_svm.predict_proba(X_test)[:,1] )\n",
    "roc_auc7 = roc_auc_score(y_test, rbf_svm.predict_proba(X_test)[:,1] )\n",
    "# Curve plotting\n",
    "plt.figure()\n",
    "plt.plot(fpr1, tpr1, label='Bagging (area = %0.2f)' % roc_auc1)\n",
    "plt.plot(fpr2, tpr2, label='RF (area = %0.2f)' % roc_auc2)\n",
    "plt.plot(fpr3, tpr3, label='RF2 (area = %0.2f)' % roc_auc3)\n",
    "plt.plot(fpr4, tpr4, label='AbaBoost (area = %0.2f)' % roc_auc3)\n",
    "plt.plot(fpr5, tpr5, label='GB (area = %0.2f)' % roc_auc2)\n",
    "plt.plot(fpr6, tpr6, label='SVM linear (area = %0.2f)' % roc_auc3)\n",
    "plt.plot(fpr7, tpr7, label='SVM rbf (area = %0.2f)' % roc_auc3)\n",
    "plt.plot([0, 1], [0, 1],'r--')\n",
    "plt.xlabel('False Positive Rate')\n",
    "plt.ylabel('True Positive Rate')\n",
    "plt.title('Receiver operating characteristic')\n",
    "plt.legend(loc=\"lower right\")\n",
    "plt.show()"
   ]
  },
  {
   "cell_type": "markdown",
   "metadata": {
    "collapsed": true
   },
   "source": [
    "# SMOTE 의 효과"
   ]
  },
  {
   "cell_type": "code",
   "execution_count": null,
   "metadata": {},
   "outputs": [],
   "source": [
    "from imblearn.over_sampling import SMOTE\n",
    "from collections import Counter    # class 갯수 확인 "
   ]
  },
  {
   "cell_type": "code",
   "execution_count": null,
   "metadata": {},
   "outputs": [],
   "source": [
    "# transform the dataset\n",
    "smote = SMOTE(random_state=0)\n",
    "X_smote, y_smote = smote.fit_resample(X_train, y_train)\n",
    "# summarize the new class distribution\n",
    "counter = Counter(y_train)\n",
    "print(counter)\n",
    "counter = Counter(y_smote)\n",
    "print(counter)"
   ]
  },
  {
   "cell_type": "markdown",
   "metadata": {},
   "source": [
    "## Bagging 방법"
   ]
  },
  {
   "cell_type": "code",
   "execution_count": null,
   "metadata": {},
   "outputs": [],
   "source": [
    "from sklearn.ensemble import BaggingClassifier\n",
    "model_bag= BaggingClassifier(n_estimators=100, random_state=0)\n",
    "result_bag = model_bag.fit(X_smote, y_smote)\n",
    "result_bag.predict_proba(X_test)"
   ]
  },
  {
   "cell_type": "markdown",
   "metadata": {
    "id": "8qi1-4IAOIHQ"
   },
   "source": [
    "## Random Forest 방법"
   ]
  },
  {
   "cell_type": "code",
   "execution_count": null,
   "metadata": {},
   "outputs": [],
   "source": [
    "from sklearn.ensemble import RandomForestClassifier\n",
    "model_rf = RandomForestClassifier(n_estimators=100, random_state=0)\n",
    "result_rf = model_rf.fit(X_smote, y_smote)\n",
    "result_rf.predict_proba(X_test)"
   ]
  },
  {
   "cell_type": "code",
   "execution_count": null,
   "metadata": {},
   "outputs": [],
   "source": [
    "# max_features 를 log2(#xvar)로 변경\n",
    "model_rf2 = RandomForestClassifier(n_estimators=100, random_state=0, max_features=\"log2\")\n",
    "result_rf2 = model_rf2.fit(X_smote, y_smote)\n",
    "result_rf2.predict_proba(X_test)"
   ]
  },
  {
   "cell_type": "markdown",
   "metadata": {},
   "source": [
    "## AdaBoost 방법"
   ]
  },
  {
   "cell_type": "code",
   "execution_count": null,
   "metadata": {},
   "outputs": [],
   "source": [
    "from sklearn.ensemble import AdaBoostClassifier\n",
    "from sklearn.tree import DecisionTreeClassifier\n",
    "model_ada= AdaBoostClassifier(base_estimator=DecisionTreeClassifier(max_depth=2), \n",
    "                              n_estimators=100, random_state=0)\n",
    "result_ada = model_ada.fit(X_smote, y_smote)\n",
    "result_ada.predict_proba(X_test)"
   ]
  },
  {
   "cell_type": "markdown",
   "metadata": {},
   "source": [
    "## Gradient Boosting 방법"
   ]
  },
  {
   "cell_type": "code",
   "execution_count": null,
   "metadata": {},
   "outputs": [],
   "source": [
    "from sklearn.ensemble import GradientBoostingClassifier\n",
    "model_gb = GradientBoostingClassifier(n_estimators=100, random_state=0)\n",
    "result_gb = model_gb.fit(X_smote, y_smote)\n",
    "result_gb.predict_proba(X_test)"
   ]
  },
  {
   "cell_type": "markdown",
   "metadata": {},
   "source": [
    "## SVM"
   ]
  },
  {
   "cell_type": "code",
   "execution_count": null,
   "metadata": {},
   "outputs": [],
   "source": [
    "from sklearn.svm import SVC\n",
    "from sklearn.metrics import roc_curve \n",
    "from sklearn.metrics import roc_auc_score \n",
    "# linear kernel 이용 \n",
    "model_svm = SVC(kernel='linear', probability=True, random_state=0)\n",
    "linear_svm= model_svm.fit(X_smote, y_smote)"
   ]
  },
  {
   "cell_type": "code",
   "execution_count": null,
   "metadata": {},
   "outputs": [],
   "source": [
    "# rbf kernel 이용 \n",
    "model_svm = SVC(kernel='rbf', probability=True, random_state=0)\n",
    "rbf_svm= model_svm.fit(X_smote, y_smote)"
   ]
  },
  {
   "cell_type": "markdown",
   "metadata": {},
   "source": [
    "## Accuracy Score 비교"
   ]
  },
  {
   "cell_type": "code",
   "execution_count": null,
   "metadata": {},
   "outputs": [],
   "source": [
    "from sklearn.metrics import accuracy_score\n",
    "acc_bag = accuracy_score(y_test, result_bag.predict(X_test))\n",
    "acc_rf = accuracy_score(y_test, result_rf.predict(X_test))\n",
    "acc_rf2 = accuracy_score(y_test, result_rf2.predict(X_test))\n",
    "acc_ada = accuracy_score(y_test, result_ada.predict(X_test))\n",
    "acc_gb = accuracy_score(y_test, result_gb.predict(X_test))\n",
    "acc_linearsvm = accuracy_score(y_test, linear_svm.predict(X_test))\n",
    "acc_rbfsvm = accuracy_score(y_test, rbf_svm.predict(X_test))\n",
    "accuracy = pd.DataFrame()\n",
    "accuracy[\"Methods\"] = ['Bagging','RandomForest','RandomForest2','AdaBoost','GradientBoosting',\n",
    "                       'Linear SVM','RBF SVM']\n",
    "accuracy[\"Accuracy\"] = [acc_bag, acc_rf, acc_rf2, acc_ada, acc_gb, acc_linearsvm, acc_rbfsvm]\n",
    "accuracy.sort_values('Accuracy', ascending=False)"
   ]
  },
  {
   "cell_type": "markdown",
   "metadata": {},
   "source": [
    "## ROC curve 와 AUC"
   ]
  },
  {
   "cell_type": "code",
   "execution_count": null,
   "metadata": {
    "scrolled": true
   },
   "outputs": [],
   "source": [
    "# sensitivity & specificity\n",
    "fpr1, tpr1, th1 = roc_curve(y_test, result_bag.predict_proba(X_test)[:,1])\n",
    "fpr2, tpr2, th2 = roc_curve(y_test, result_rf.predict_proba(X_test)[:,1])\n",
    "fpr3, tpr3, th3 = roc_curve(y_test, result_rf2.predict_proba(X_test)[:,1])\n",
    "fpr4, tpr4, th4 = roc_curve(y_test, result_ada.predict_proba(X_test)[:,1])\n",
    "fpr5, tpr5, th5 = roc_curve(y_test, result_gb.predict_proba(X_test)[:,1])\n",
    "fpr6, tpr6, th6 = roc_curve(y_test, linear_svm.predict_proba(X_test)[:,1])\n",
    "fpr7, tpr7, th7 = roc_curve(y_test, rbf_svm.predict_proba(X_test)[:,1])\n",
    "# AUROC\n",
    "roc_auc1 = roc_auc_score(y_test, result_bag.predict_proba(X_test)[:,1] )\n",
    "roc_auc2 = roc_auc_score(y_test, result_rf.predict_proba(X_test)[:,1] )\n",
    "roc_auc3 = roc_auc_score(y_test, result_rf2.predict_proba(X_test)[:,1] )\n",
    "roc_auc4 = roc_auc_score(y_test, result_ada.predict_proba(X_test)[:,1] )\n",
    "roc_auc5 = roc_auc_score(y_test, result_gb.predict_proba(X_test)[:,1] )\n",
    "roc_auc6 = roc_auc_score(y_test, linear_svm.predict_proba(X_test)[:,1] )\n",
    "roc_auc7 = roc_auc_score(y_test, rbf_svm.predict_proba(X_test)[:,1] )\n",
    "# Curve plotting\n",
    "plt.figure()\n",
    "plt.plot(fpr1, tpr1, label='Bagging (area = %0.2f)' % roc_auc1)\n",
    "plt.plot(fpr2, tpr2, label='RF (area = %0.2f)' % roc_auc2)\n",
    "plt.plot(fpr3, tpr3, label='RF2 (area = %0.2f)' % roc_auc3)\n",
    "plt.plot(fpr4, tpr4, label='AbaBoost (area = %0.2f)' % roc_auc3)\n",
    "plt.plot(fpr5, tpr5, label='GB (area = %0.2f)' % roc_auc2)\n",
    "plt.plot(fpr6, tpr6, label='SVM linear (area = %0.2f)' % roc_auc3)\n",
    "plt.plot(fpr7, tpr7, label='SVM rbf (area = %0.2f)' % roc_auc3)\n",
    "plt.plot([0, 1], [0, 1],'r--')\n",
    "plt.xlabel('False Positive Rate')\n",
    "plt.ylabel('True Positive Rate')\n",
    "plt.title('Receiver operating characteristic')\n",
    "plt.legend(loc=\"lower right\")\n",
    "plt.show()"
   ]
  },
  {
   "cell_type": "code",
   "execution_count": null,
   "metadata": {},
   "outputs": [],
   "source": []
  }
 ],
 "metadata": {
  "colab": {
   "collapsed_sections": [],
   "name": "feature_eng.ipynb",
   "provenance": []
  },
  "kernelspec": {
   "display_name": "Python 3",
   "language": "python",
   "name": "python3"
  },
  "language_info": {
   "codemirror_mode": {
    "name": "ipython",
    "version": 3
   },
   "file_extension": ".py",
   "mimetype": "text/x-python",
   "name": "python",
   "nbconvert_exporter": "python",
   "pygments_lexer": "ipython3",
   "version": "3.7.4"
  }
 },
 "nbformat": 4,
 "nbformat_minor": 1
}
