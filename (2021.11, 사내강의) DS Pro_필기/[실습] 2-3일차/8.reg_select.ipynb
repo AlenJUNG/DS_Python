{
 "cells": [
  {
   "cell_type": "markdown",
   "metadata": {},
   "source": [
    "# Linear Regression : 설명을 위한 선형회귀분석\n",
    " \n",
    " 1) 종속변수 y : 만성폐쇄성폐질환 (COPD) 삶의 질 평가 검사(CAT) 증상점수\n",
    " *  COPD 평가검사(COPD assessment test, CAT)\n",
    " * CAT는 8가지 설문 사항을 통해 환자의 삶의 질 즉, 호흡기 증상, 활동 정도, 수면, 자신감을 지표로 삼고 평가\n",
    " * 0(삶의 질 가장 좋음)~40점(삶의 질 가장 나쁨)까지의 점수로 나타남 \n",
    " \n",
    "2) 독립변수 x (6개)\n",
    " * age :나이, 연속형\n",
    " * sex :성별(1:남성, 0:여성), 범주형\n",
    " * FEV1%: 1초간 노력성 폐활량(Forced Expiratory Volume in One second, FEV1), 연속형, \n",
    "  - (> 70 :mild, 60-69 :moderate ,50-59:moderagely severe, 35-49:severe, <35 :very severe)\n",
    " * Smoke_pack_year : 갑년(pack-year), 사람의 담배 노출을 측정하는 데 사용되는 지표, 하루평균 담배소비량(갑)×흡연기간(년)을 의미\n",
    " * Chol :  혈중 콜레스트롤 (mg / dl 단위), 연속형\n",
    " * Comorbid : 동반질환여부 (1:유, 0:무), 범주형\n",
    " * premium : 월평균 건강보험료(소득수준 의미), 연속형\n",
    " \n",
    " * COPD 환자의 80% 이상에서 10갑년 이상의 흡연력. 을 가지며, 특히 남자에서는 90% 이상 흡연과 관련"
   ]
  },
  {
   "cell_type": "markdown",
   "metadata": {},
   "source": [
    "## 데이터 불러오기"
   ]
  },
  {
   "cell_type": "code",
   "execution_count": null,
   "metadata": {},
   "outputs": [],
   "source": [
    "import pandas as pd\n",
    "import numpy as np\n",
    "import matplotlib.pyplot as plt\n",
    "import seaborn as sns\n",
    "from warnings import simplefilter\n",
    "simplefilter(action='ignore', category=FutureWarning)"
   ]
  },
  {
   "cell_type": "code",
   "execution_count": null,
   "metadata": {},
   "outputs": [],
   "source": [
    "df=pd.read_csv('copdcat.csv')"
   ]
  },
  {
   "cell_type": "code",
   "execution_count": null,
   "metadata": {
    "scrolled": true
   },
   "outputs": [],
   "source": [
    "X=df.drop([\"CATScore\"],axis=1)\n",
    "y=df[\"CATScore\"]\n",
    "X[\"Smoke_pack_year2\"]= df[\"Smoke_pack_year\"]**2"
   ]
  },
  {
   "cell_type": "code",
   "execution_count": null,
   "metadata": {},
   "outputs": [],
   "source": [
    "import statsmodels.api as sm\n",
    "from sklearn.linear_model import Ridge\n",
    "from sklearn.linear_model import Lasso\n",
    "from sklearn.linear_model import ElasticNet"
   ]
  },
  {
   "cell_type": "markdown",
   "metadata": {},
   "source": [
    "## Wrapper 방법을 이용한 feature selection\n",
    "### 후진제거법"
   ]
  },
  {
   "cell_type": "code",
   "execution_count": null,
   "metadata": {},
   "outputs": [],
   "source": [
    "import feature_selection as fsel"
   ]
  },
  {
   "cell_type": "code",
   "execution_count": null,
   "metadata": {},
   "outputs": [],
   "source": [
    "result_back = fsel.backwardSelection(X, y, model_type=\"linear\", elimination_criteria=\"aic\")\n",
    "result_back"
   ]
  },
  {
   "cell_type": "markdown",
   "metadata": {},
   "source": [
    "#### 최종모형"
   ]
  },
  {
   "cell_type": "code",
   "execution_count": null,
   "metadata": {},
   "outputs": [],
   "source": [
    "X_reduced=df.drop([\"CATScore\",\"Chol\",\"Smoke_pack_year\"],axis=1)\n",
    "X_reduced[\"Smoke_pack_year2\"]= df[\"Smoke_pack_year\"]**2\n",
    "y=df[\"CATScore\"]"
   ]
  },
  {
   "cell_type": "code",
   "execution_count": null,
   "metadata": {},
   "outputs": [],
   "source": [
    "model_reg3 = sm.OLS(y,sm.add_constant(X_reduced))\n",
    "result_reg3 = model_reg3.fit()\n",
    "result_reg3.summary()"
   ]
  },
  {
   "cell_type": "code",
   "execution_count": null,
   "metadata": {},
   "outputs": [],
   "source": [
    "from statsmodels.stats.outliers_influence import variance_inflation_factor\n",
    "X_design = sm.add_constant(X_reduced)\n",
    "vif = pd.DataFrame()\n",
    "vif[\"Features\"] = X_reduced.columns\n",
    "vif[\"VIF Factor\"] = [np.round(variance_inflation_factor(X_design.values, i+1),4) \n",
    "                     for i in range(len(X_reduced.columns))] \n",
    "vif"
   ]
  },
  {
   "cell_type": "markdown",
   "metadata": {},
   "source": [
    "#### Linearity"
   ]
  },
  {
   "cell_type": "code",
   "execution_count": null,
   "metadata": {},
   "outputs": [],
   "source": [
    "sns.scatterplot(x=df['CATScore'], y=result_reg3.fittedvalues, alpha=0.1)\n",
    "plt.plot([0, 30], [0, 30], color='red')\n",
    "plt.ylabel(\"Fitted values\")\n",
    "plt.show()"
   ]
  },
  {
   "cell_type": "markdown",
   "metadata": {},
   "source": [
    "#### equal variance"
   ]
  },
  {
   "cell_type": "code",
   "execution_count": null,
   "metadata": {},
   "outputs": [],
   "source": [
    "sns.scatterplot(x=result_reg3.fittedvalues, y=result_reg3.resid, alpha=0.1)\n",
    "plt.axhline(y=0, color='red')\n",
    "plt.xlabel(\"Fitted values\")\n",
    "plt.ylabel(\"Residual\")\n",
    "plt.show()"
   ]
  },
  {
   "cell_type": "code",
   "execution_count": null,
   "metadata": {},
   "outputs": [],
   "source": [
    "sm.qqplot(result_reg3.resid, line='r')\n",
    "plt.title(\"Normal Q-Q plot\")\n",
    "plt.show()"
   ]
  },
  {
   "cell_type": "markdown",
   "metadata": {},
   "source": [
    "## Embedding 방법을 이용한 feature selection\n",
    "### Ridge 회귀분석"
   ]
  },
  {
   "cell_type": "code",
   "execution_count": null,
   "metadata": {
    "scrolled": true
   },
   "outputs": [],
   "source": [
    "model_ridge = Ridge(alpha=1, fit_intercept=True)\n",
    "result_ridge = model_ridge.fit(X, y)\n",
    "coef = pd.DataFrame()\n",
    "coef[\"Features\"] = X.columns\n",
    "coef[\"Coefficients\"] = [np.round(result_ridge.coef_[i],6) for i in range(len(X.columns))] \n",
    "coef"
   ]
  },
  {
   "cell_type": "markdown",
   "metadata": {},
   "source": [
    "### Lasso 회귀분석"
   ]
  },
  {
   "cell_type": "code",
   "execution_count": null,
   "metadata": {},
   "outputs": [],
   "source": [
    "model_lasso = Lasso(alpha=1,fit_intercept=True)\n",
    "result_lasso = model_lasso.fit(X, y)\n",
    "coef = pd.DataFrame()\n",
    "coef[\"Features\"] = X.columns\n",
    "coef[\"Coefficients\"] = [np.round(result_lasso.coef_[i],6) for i in range(len(X.columns))] \n",
    "coef"
   ]
  },
  {
   "cell_type": "code",
   "execution_count": null,
   "metadata": {},
   "outputs": [],
   "source": [
    "model_lasso = Lasso(alpha=0.5,fit_intercept=True)\n",
    "result_lasso = model_lasso.fit(X, y)\n",
    "coef = pd.DataFrame()\n",
    "coef[\"Features\"] = X.columns\n",
    "coef[\"Coefficients\"] = [np.round(result_lasso.coef_[i],6) for i in range(len(X.columns))] \n",
    "coef"
   ]
  },
  {
   "cell_type": "markdown",
   "metadata": {},
   "source": [
    "### Elastic Net 회귀분석"
   ]
  },
  {
   "cell_type": "code",
   "execution_count": null,
   "metadata": {},
   "outputs": [],
   "source": [
    "model_enet = ElasticNet(alpha=1, l1_ratio=0.5, fit_intercept=True)\n",
    "result_enet = model_enet.fit(X, y)\n",
    "coef = pd.DataFrame()\n",
    "coef[\"Features\"] = X.columns\n",
    "coef[\"Coefficients\"] = [np.round(result_enet.coef_[i],6) for i in range(len(X.columns))] \n",
    "coef"
   ]
  },
  {
   "cell_type": "code",
   "execution_count": null,
   "metadata": {
    "scrolled": true
   },
   "outputs": [],
   "source": [
    "model_enet = ElasticNet(alpha=0.5, l1_ratio=0.5, fit_intercept=True)\n",
    "result_enet = model_enet.fit(X, y)\n",
    "coef = pd.DataFrame()\n",
    "coef[\"Features\"] = X.columns\n",
    "coef[\"Coefficients\"] = [np.round(result_enet.coef_[i],6) for i in range(len(X.columns))] \n",
    "coef"
   ]
  },
  {
   "cell_type": "code",
   "execution_count": null,
   "metadata": {},
   "outputs": [],
   "source": []
  },
  {
   "cell_type": "code",
   "execution_count": null,
   "metadata": {},
   "outputs": [],
   "source": []
  }
 ],
 "metadata": {
  "kernelspec": {
   "display_name": "Python 3",
   "language": "python",
   "name": "python3"
  },
  "language_info": {
   "codemirror_mode": {
    "name": "ipython",
    "version": 3
   },
   "file_extension": ".py",
   "mimetype": "text/x-python",
   "name": "python",
   "nbconvert_exporter": "python",
   "pygments_lexer": "ipython3",
   "version": "3.7.4"
  }
 },
 "nbformat": 4,
 "nbformat_minor": 2
}
