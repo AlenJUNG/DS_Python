{
 "cells": [
  {
   "cell_type": "markdown",
   "metadata": {
    "id": "9vjy8g6GOIHN"
   },
   "source": [
    "# 분류 분석 데이터 (유방암 양성/악성 예측)"
   ]
  },
  {
   "cell_type": "code",
   "execution_count": null,
   "metadata": {
    "colab": {
     "base_uri": "https://localhost:8080/"
    },
    "executionInfo": {
     "elapsed": 886,
     "status": "ok",
     "timestamp": 1609900440224,
     "user": {
      "displayName": "­김현중(전임교원/상경대학 응용통계학)",
      "photoUrl": "https://lh3.googleusercontent.com/a-/AOh14Gi0m7bMi4WYdjhXlCstTEEPsywlLI4VtjLesI7FhQ=s64",
      "userId": "10361547238773279348"
     },
     "user_tz": -540
    },
    "id": "quaKLkwrSXj_",
    "outputId": "803776cf-e9e0-4068-ffe1-f27611ad9652",
    "scrolled": false
   },
   "outputs": [],
   "source": [
    "import numpy as np \n",
    "import pandas as pd \n",
    "import matplotlib.pyplot as plt\n",
    "import seaborn as sns\n",
    "from warnings import simplefilter\n",
    "simplefilter(action='ignore', category=FutureWarning)"
   ]
  },
  {
   "cell_type": "code",
   "execution_count": null,
   "metadata": {
    "id": "dWYvQi_5OIHN"
   },
   "outputs": [],
   "source": [
    "df = pd.read_csv('wdbc.csv')\n",
    "df.shape"
   ]
  },
  {
   "cell_type": "code",
   "execution_count": null,
   "metadata": {
    "id": "E0CFVzXeOIHO",
    "scrolled": true
   },
   "outputs": [],
   "source": [
    "df.isnull().sum().sum()"
   ]
  },
  {
   "cell_type": "code",
   "execution_count": null,
   "metadata": {
    "id": "dWYvQi_5OIHN"
   },
   "outputs": [],
   "source": [
    "X = df.drop(['diagnosis','ID'], axis=1)\n",
    "y = df['diagnosis']\n",
    "y = np.where(y==\"M\", 1, 0)\n",
    "xvar = X.columns"
   ]
  },
  {
   "cell_type": "markdown",
   "metadata": {
    "id": "8qi1-4IAOIHQ"
   },
   "source": [
    "## Random Forest 방법을 이용한 feature selection"
   ]
  },
  {
   "cell_type": "code",
   "execution_count": null,
   "metadata": {},
   "outputs": [],
   "source": [
    "from sklearn.ensemble import RandomForestClassifier\n",
    "clf = RandomForestClassifier(random_state=0, n_estimators=100)\n",
    "clf = clf.fit(X, y)\n",
    "clf.feature_importances_"
   ]
  },
  {
   "cell_type": "code",
   "execution_count": null,
   "metadata": {},
   "outputs": [],
   "source": [
    "coef = pd.DataFrame()\n",
    "coef[\"Features\"] = X.columns\n",
    "coef[\"Importance\"] = clf.feature_importances_\n",
    "coef.sort_values('Importance', ascending=False)"
   ]
  },
  {
   "cell_type": "code",
   "execution_count": null,
   "metadata": {},
   "outputs": [],
   "source": [
    "xvar1=X.columns[coef['Importance']>0.07]\n",
    "X1 = X[xvar1]"
   ]
  },
  {
   "cell_type": "markdown",
   "metadata": {},
   "source": [
    "## SVM"
   ]
  },
  {
   "cell_type": "code",
   "execution_count": null,
   "metadata": {},
   "outputs": [],
   "source": [
    "from sklearn.model_selection import train_test_split\n",
    "from sklearn.svm import SVC\n",
    "from sklearn.metrics import accuracy_score\n",
    "from sklearn.metrics import roc_curve \n",
    "from sklearn.metrics import roc_auc_score \n",
    "def data_split (x, y) : \n",
    "    X_train, X_test, Y_train, Y_test = train_test_split(x, y, test_size=0.5, random_state=1234, stratify=y)\n",
    "    print(\"Ratio of the event: Training dataset-\",round( sum(Y_train)/len(Y_train)*100,2),\"%, Test dataset -\",\n",
    "          round( sum(Y_test)/len(Y_test)*100,2), \"%\") \n",
    "    return X_train, X_test, Y_train, Y_test"
   ]
  },
  {
   "cell_type": "markdown",
   "metadata": {},
   "source": [
    "#### Train / Test data 생성"
   ]
  },
  {
   "cell_type": "code",
   "execution_count": null,
   "metadata": {},
   "outputs": [],
   "source": [
    "X_train, X_test, y_train, y_test=data_split (X1, y)"
   ]
  },
  {
   "cell_type": "markdown",
   "metadata": {},
   "source": [
    "#### SVM fitting"
   ]
  },
  {
   "cell_type": "code",
   "execution_count": null,
   "metadata": {},
   "outputs": [],
   "source": [
    "# linear kernel 이용 \n",
    "model_svm = SVC(kernel='linear', probability=True, random_state=0)\n",
    "linear_svm= model_svm.fit(X_train, y_train)\n",
    "accuracy_score(y_test, linear_svm.predict(X_test))"
   ]
  },
  {
   "cell_type": "code",
   "execution_count": null,
   "metadata": {},
   "outputs": [],
   "source": [
    "# rbf kernel 이용 \n",
    "model_svm = SVC(kernel='rbf', probability=True, random_state=0)\n",
    "rbf_svm= model_svm.fit(X_train, y_train)\n",
    "accuracy_score(y_test, rbf_svm.predict(X_test))"
   ]
  },
  {
   "cell_type": "code",
   "execution_count": null,
   "metadata": {},
   "outputs": [],
   "source": [
    "# polynomial kernel 이용 \n",
    "model_svm = SVC(kernel='poly', max_iter=1000, probability=True, random_state=0) ## slow\n",
    "poly_svm= model_svm.fit(X_train, y_train)\n",
    "accuracy_score(y_test, poly_svm.predict(X_test))"
   ]
  },
  {
   "cell_type": "markdown",
   "metadata": {},
   "source": [
    "#### ROC curve 와 AUC"
   ]
  },
  {
   "cell_type": "code",
   "execution_count": null,
   "metadata": {},
   "outputs": [],
   "source": [
    "# sensitivity & specificity\n",
    "fpr1, tpr1, th1 = roc_curve(y_test, linear_svm.predict_proba(X_test)[:,1])\n",
    "fpr2, tpr2, th2 = roc_curve(y_test, rbf_svm.predict_proba(X_test)[:,1])\n",
    "fpr3, tpr3, th3 = roc_curve(y_test, poly_svm.predict_proba(X_test)[:,1])\n",
    "# AUROC\n",
    "roc_auc1 = roc_auc_score(y_test, linear_svm.predict_proba(X_test)[:,1] )\n",
    "roc_auc2 = roc_auc_score(y_test, rbf_svm.predict_proba(X_test)[:,1] )\n",
    "roc_auc3 = roc_auc_score(y_test, poly_svm.predict_proba(X_test)[:,1] )\n",
    "# Curve plotting\n",
    "plt.figure()\n",
    "plt.plot(fpr1, tpr1, label='Linear SVM (area = %0.2f)' % roc_auc1)\n",
    "plt.plot(fpr2, tpr2, label='RBF SVM (area = %0.2f)' % roc_auc2)\n",
    "plt.plot(fpr3, tpr3, label='Poly SVM (area = %0.2f)' % roc_auc3)\n",
    "plt.plot([0, 1], [0, 1],'r--')\n",
    "plt.xlabel('False Positive Rate')\n",
    "plt.ylabel('True Positive Rate')\n",
    "plt.title('Receiver operating characteristic')\n",
    "plt.legend(loc=\"lower right\")\n",
    "plt.show()"
   ]
  },
  {
   "cell_type": "code",
   "execution_count": null,
   "metadata": {},
   "outputs": [],
   "source": []
  }
 ],
 "metadata": {
  "colab": {
   "collapsed_sections": [],
   "name": "feature_eng.ipynb",
   "provenance": []
  },
  "kernelspec": {
   "display_name": "Python 3",
   "language": "python",
   "name": "python3"
  },
  "language_info": {
   "codemirror_mode": {
    "name": "ipython",
    "version": 3
   },
   "file_extension": ".py",
   "mimetype": "text/x-python",
   "name": "python",
   "nbconvert_exporter": "python",
   "pygments_lexer": "ipython3",
   "version": "3.7.4"
  }
 },
 "nbformat": 4,
 "nbformat_minor": 1
}
