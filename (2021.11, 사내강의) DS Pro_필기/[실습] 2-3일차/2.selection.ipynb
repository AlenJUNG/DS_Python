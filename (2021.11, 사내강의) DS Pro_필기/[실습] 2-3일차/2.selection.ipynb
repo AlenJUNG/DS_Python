{
 "cells": [
  {
   "cell_type": "markdown",
   "metadata": {
    "id": "9vjy8g6GOIHN"
   },
   "source": [
    "# 지도학습 feature selection\n",
    "## 분류 분석 데이터 (불량/정상 제품)\n",
    "### 다중 t-검정 기반 feature selection "
   ]
  },
  {
   "cell_type": "code",
   "execution_count": null,
   "metadata": {
    "colab": {
     "base_uri": "https://localhost:8080/"
    },
    "executionInfo": {
     "elapsed": 886,
     "status": "ok",
     "timestamp": 1609900440224,
     "user": {
      "displayName": "­김현중(전임교원/상경대학 응용통계학)",
      "photoUrl": "https://lh3.googleusercontent.com/a-/AOh14Gi0m7bMi4WYdjhXlCstTEEPsywlLI4VtjLesI7FhQ=s64",
      "userId": "10361547238773279348"
     },
     "user_tz": -540
    },
    "id": "quaKLkwrSXj_",
    "outputId": "803776cf-e9e0-4068-ffe1-f27611ad9652",
    "scrolled": false
   },
   "outputs": [],
   "source": [
    "import numpy as np \n",
    "import pandas as pd \n",
    "import matplotlib.pyplot as plt\n",
    "import seaborn as sns\n",
    "from scipy.stats import f_oneway"
   ]
  },
  {
   "cell_type": "code",
   "execution_count": null,
   "metadata": {
    "id": "dWYvQi_5OIHN"
   },
   "outputs": [],
   "source": [
    "df = pd.read_csv('product.csv')\n",
    "df.info()"
   ]
  },
  {
   "cell_type": "code",
   "execution_count": null,
   "metadata": {
    "id": "zHPNx3j-OIHO",
    "scrolled": true
   },
   "outputs": [],
   "source": [
    "print(df.shape)\n",
    "print(df.isnull().sum().sum())"
   ]
  },
  {
   "cell_type": "code",
   "execution_count": null,
   "metadata": {
    "id": "dWYvQi_5OIHN"
   },
   "outputs": [],
   "source": [
    "X = df.drop('Defect', axis=1)\n",
    "y = df['Defect']\n",
    "y = np.where(y==\"NG\", 1, 0)\n",
    "xvar = X.columns\n",
    "xvar"
   ]
  },
  {
   "cell_type": "code",
   "execution_count": null,
   "metadata": {
    "executionInfo": {
     "elapsed": 1037,
     "status": "ok",
     "timestamp": 1609900520711,
     "user": {
      "displayName": "­김현중(전임교원/상경대학 응용통계학)",
      "photoUrl": "https://lh3.googleusercontent.com/a-/AOh14Gi0m7bMi4WYdjhXlCstTEEPsywlLI4VtjLesI7FhQ=s64",
      "userId": "10361547238773279348"
     },
     "user_tz": -540
    },
    "id": "DLhFI9OAc1qe"
   },
   "outputs": [],
   "source": [
    "X1 = X[y==0]\n",
    "X2 = X[y==1]"
   ]
  },
  {
   "cell_type": "code",
   "execution_count": null,
   "metadata": {
    "executionInfo": {
     "elapsed": 937,
     "status": "ok",
     "timestamp": 1609900542226,
     "user": {
      "displayName": "­김현중(전임교원/상경대학 응용통계학)",
      "photoUrl": "https://lh3.googleusercontent.com/a-/AOh14Gi0m7bMi4WYdjhXlCstTEEPsywlLI4VtjLesI7FhQ=s64",
      "userId": "10361547238773279348"
     },
     "user_tz": -540
    },
    "id": "m52OH3H4OIHO"
   },
   "outputs": [],
   "source": [
    "var_select=[]\n",
    "for i in range(0,71):\n",
    "    f, p = f_oneway(X1[xvar[i]], X2[xvar[i]])\n",
    "    var_select.append((xvar[i], p))\n",
    "\n",
    "var_select = pd.DataFrame(var_select, columns=['Para', 'P-value'])\n",
    "var_select['Result0.05'] = var_select['P-value']<0.05\n",
    "var_select['Result0.01'] = var_select['P-value']<0.01"
   ]
  },
  {
   "cell_type": "code",
   "execution_count": null,
   "metadata": {
    "id": "a3vscU62OIHO",
    "scrolled": false
   },
   "outputs": [],
   "source": [
    "np.round(var_select[var_select['Result0.05']==True],4)"
   ]
  },
  {
   "cell_type": "code",
   "execution_count": null,
   "metadata": {},
   "outputs": [],
   "source": [
    "var_select[['Result0.05','Result0.01']].sum()"
   ]
  },
  {
   "cell_type": "markdown",
   "metadata": {
    "id": "8qi1-4IAOIHQ"
   },
   "source": [
    "### Wrapper 방법을 이용한 feature selection"
   ]
  },
  {
   "cell_type": "code",
   "execution_count": null,
   "metadata": {},
   "outputs": [],
   "source": [
    "import feature_selection as fsel"
   ]
  },
  {
   "cell_type": "markdown",
   "metadata": {},
   "source": [
    "#### 후진제거법"
   ]
  },
  {
   "cell_type": "code",
   "execution_count": null,
   "metadata": {},
   "outputs": [],
   "source": [
    "result_back = fsel.backwardSelection(X, y, model_type =\"logistic\", elimination_criteria = \"aic\")"
   ]
  },
  {
   "cell_type": "markdown",
   "metadata": {},
   "source": [
    "#### 전진제거법"
   ]
  },
  {
   "cell_type": "code",
   "execution_count": null,
   "metadata": {},
   "outputs": [],
   "source": [
    "result_forward = fsel.forwardSelection(X, y, model_type =\"logistic\", elimination_criteria = \"aic\")"
   ]
  },
  {
   "cell_type": "markdown",
   "metadata": {},
   "source": [
    "####  sklearn 패키지의 RFE 함수 (비추천)"
   ]
  },
  {
   "cell_type": "code",
   "execution_count": null,
   "metadata": {},
   "outputs": [],
   "source": [
    "from sklearn.feature_selection import RFE\n",
    "from sklearn.preprocessing import StandardScaler\n",
    "from sklearn.linear_model import LogisticRegression"
   ]
  },
  {
   "cell_type": "code",
   "execution_count": null,
   "metadata": {},
   "outputs": [],
   "source": [
    "#표준화를 반드시 먼저 수행\n",
    "scaler = StandardScaler()\n",
    "X_std = scaler.fit_transform(X)\n",
    "X_std = pd.DataFrame(X_std)\n",
    "X_std.columns = xvar"
   ]
  },
  {
   "cell_type": "code",
   "execution_count": null,
   "metadata": {},
   "outputs": [],
   "source": [
    "model = LogisticRegression(solver=\"liblinear\")\n",
    "rfe = RFE(model, n_features_to_select=4) # X변수의 갯수를 지정해야 함\n",
    "rfe.fit(X_std, y)\n",
    "\n",
    "print(\"Num Features: \",rfe.n_features_) \n",
    "print(\"Selected Features: \",xvar[rfe.support_])"
   ]
  },
  {
   "cell_type": "markdown",
   "metadata": {},
   "source": [
    "#### Genetic 알고리즘"
   ]
  },
  {
   "cell_type": "code",
   "execution_count": null,
   "metadata": {},
   "outputs": [],
   "source": [
    "import genetic_algorithm as genetic"
   ]
  },
  {
   "cell_type": "code",
   "execution_count": null,
   "metadata": {},
   "outputs": [],
   "source": [
    "# X, Y의 이름 정의 \n",
    "target = 'Defect'\n",
    "df['Defect']=np.where(df['Defect']==\"NG\", 1, 0)"
   ]
  },
  {
   "cell_type": "code",
   "execution_count": null,
   "metadata": {},
   "outputs": [],
   "source": [
    "# Execute Genetic Algorithm to obtain Important Feature\n",
    "np.random.seed(0)\n",
    "#feature_set, acc_score = genetic.ga(df, xvar, target, 10, 1000)\n",
    "feature_set, acc_score = genetic.ga(df, xvar, target, 10, 100)"
   ]
  },
  {
   "cell_type": "code",
   "execution_count": null,
   "metadata": {
    "scrolled": true
   },
   "outputs": [],
   "source": [
    "# Print List of Features\n",
    "print('Optimal Feature Set\\n',X.columns[feature_set==1],'\\nAIC =', round(1/acc_score))"
   ]
  },
  {
   "cell_type": "markdown",
   "metadata": {},
   "source": [
    "### Embedding 방법을 이용한 feature selection"
   ]
  },
  {
   "cell_type": "markdown",
   "metadata": {},
   "source": [
    "#### Decision Tree 방법"
   ]
  },
  {
   "cell_type": "code",
   "execution_count": null,
   "metadata": {
    "scrolled": true
   },
   "outputs": [],
   "source": [
    "from sklearn.tree import DecisionTreeClassifier\n",
    "clf = DecisionTreeClassifier(random_state=0)\n",
    "clf.fit(X, y)\n",
    "clf.feature_importances_"
   ]
  },
  {
   "cell_type": "code",
   "execution_count": null,
   "metadata": {},
   "outputs": [],
   "source": [
    "X.columns[clf.feature_importances_>0.001]"
   ]
  },
  {
   "cell_type": "code",
   "execution_count": null,
   "metadata": {},
   "outputs": [],
   "source": []
  }
 ],
 "metadata": {
  "colab": {
   "collapsed_sections": [],
   "name": "feature_eng.ipynb",
   "provenance": []
  },
  "kernelspec": {
   "display_name": "Python 3",
   "language": "python",
   "name": "python3"
  },
  "language_info": {
   "codemirror_mode": {
    "name": "ipython",
    "version": 3
   },
   "file_extension": ".py",
   "mimetype": "text/x-python",
   "name": "python",
   "nbconvert_exporter": "python",
   "pygments_lexer": "ipython3",
   "version": "3.7.4"
  }
 },
 "nbformat": 4,
 "nbformat_minor": 1
}
