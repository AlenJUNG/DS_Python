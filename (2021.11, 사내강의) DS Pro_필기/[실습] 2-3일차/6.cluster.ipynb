{
 "cells": [
  {
   "cell_type": "markdown",
   "metadata": {
    "id": "QTM2ssi_OIHH"
   },
   "source": [
    "# 군집분석 (Dimension Reduction 데이터)"
   ]
  },
  {
   "cell_type": "markdown",
   "metadata": {},
   "source": [
    "## 신용카드를 소지한 고객 데이터: 17개 변수로 구성 \n",
    "예: 구매액, 현금서비스, 사용한도금액, 최소결제금액, 완납비율, 보유기간 등"
   ]
  },
  {
   "cell_type": "code",
   "execution_count": null,
   "metadata": {},
   "outputs": [],
   "source": [
    "import numpy as np \n",
    "import pandas as pd \n",
    "import matplotlib.pyplot as plt\n",
    "import seaborn as sns"
   ]
  },
  {
   "cell_type": "code",
   "execution_count": null,
   "metadata": {
    "id": "tST_fqYVOIHJ"
   },
   "outputs": [],
   "source": [
    "df = pd.read_csv(\"creditcard.csv\")\n",
    "df = df.drop('CUST_ID',axis=1)"
   ]
  },
  {
   "cell_type": "markdown",
   "metadata": {
    "id": "JD6zikSQOIHK"
   },
   "source": [
    "#### 결측치 확인 및 처리"
   ]
  },
  {
   "cell_type": "code",
   "execution_count": null,
   "metadata": {
    "id": "DyHkI1FtOIHK"
   },
   "outputs": [],
   "source": [
    "df = df.fillna(df.median())\n",
    "df.isnull().sum().sum()"
   ]
  },
  {
   "cell_type": "markdown",
   "metadata": {
    "id": "upXNbYBAOIHL"
   },
   "source": [
    "#### 우측 치우침이 심한 변수가 많음\n",
    "#### 로그 변환을 수행 (0에는 로그를 취할 수 없으므로, 1을 더한 후 로그변환)"
   ]
  },
  {
   "cell_type": "code",
   "execution_count": null,
   "metadata": {
    "id": "H00lWftoOIHM"
   },
   "outputs": [],
   "source": [
    "xvar = df.columns\n",
    "df1 = df\n",
    "xvarlog = ['BALANCE', 'PURCHASES','ONEOFF_PURCHASES', 'INSTALLMENTS_PURCHASES', 'CASH_ADVANCE',     \n",
    "       'CASH_ADVANCE_TRX', 'PURCHASES_TRX', 'CREDIT_LIMIT', 'PAYMENTS','MINIMUM_PAYMENTS']\n",
    "df1[xvarlog] = np.log(1+df1[xvarlog])"
   ]
  },
  {
   "cell_type": "markdown",
   "metadata": {},
   "source": [
    "#### 표준화"
   ]
  },
  {
   "cell_type": "code",
   "execution_count": null,
   "metadata": {},
   "outputs": [],
   "source": [
    "from sklearn.preprocessing import StandardScaler\n",
    "from sklearn.decomposition import PCA\n",
    "scaler = StandardScaler()\n",
    "df1_std = scaler.fit_transform(df1)\n",
    "df1_std = pd.DataFrame(df1_std)\n",
    "df1_std.columns = xvar"
   ]
  },
  {
   "cell_type": "markdown",
   "metadata": {
    "id": "1pH_tyDhOIHM"
   },
   "source": [
    "## 차원축소"
   ]
  },
  {
   "cell_type": "markdown",
   "metadata": {},
   "source": [
    "#### 주성분 2개 추출"
   ]
  },
  {
   "cell_type": "code",
   "execution_count": null,
   "metadata": {},
   "outputs": [],
   "source": [
    "pca2 = PCA(n_components=2) \n",
    "df1_pc2 = pca2.fit_transform(df1_std) \n",
    "df1_pc2 = pd.DataFrame(df1_pc2) \n",
    "df1_pc2.columns = ['PC1', 'PC2'] \n",
    "df1_pc2"
   ]
  },
  {
   "cell_type": "code",
   "execution_count": null,
   "metadata": {},
   "outputs": [],
   "source": [
    "plt.figure(figsize=(5,5))\n",
    "sns.scatterplot(data=df1_pc2, x=\"PC1\", y=\"PC2\", alpha = 0.05)\n",
    "plt.show()"
   ]
  },
  {
   "cell_type": "markdown",
   "metadata": {},
   "source": [
    "#### t-SNE 방법"
   ]
  },
  {
   "cell_type": "code",
   "execution_count": null,
   "metadata": {},
   "outputs": [],
   "source": [
    "from sklearn.manifold import TSNE\n",
    "np.random.seed(0)\n",
    "tsne = TSNE(n_components=2, perplexity=30) # perlexity 는 이웃의 범위\n",
    "df1_tsne2 = tsne.fit_transform(df1_std)"
   ]
  },
  {
   "cell_type": "code",
   "execution_count": null,
   "metadata": {},
   "outputs": [],
   "source": [
    "df1_tsne2 = pd.DataFrame(df1_tsne2) \n",
    "df1_tsne2.columns = ['tsne1', 'tsne2'] \n",
    "df1_tsne2"
   ]
  },
  {
   "cell_type": "code",
   "execution_count": null,
   "metadata": {},
   "outputs": [],
   "source": [
    "plt.figure(figsize=(5,5))\n",
    "sns.scatterplot(data=df1_tsne2, x=\"tsne1\", y=\"tsne2\", alpha = 0.05)\n",
    "plt.show()"
   ]
  },
  {
   "cell_type": "markdown",
   "metadata": {},
   "source": [
    "# 신용카드 고객 세분화 (PC 데이터)\n",
    "#### 군집분석을 위한 패키지 호출"
   ]
  },
  {
   "cell_type": "code",
   "execution_count": null,
   "metadata": {},
   "outputs": [],
   "source": [
    "from sklearn.metrics import silhouette_score\n",
    "from sklearn.cluster import KMeans\n",
    "from sklearn.cluster import MeanShift\n",
    "from sklearn.cluster import DBSCAN\n",
    "from sklearn.mixture import GaussianMixture"
   ]
  },
  {
   "cell_type": "markdown",
   "metadata": {},
   "source": [
    "## K-means clustering"
   ]
  },
  {
   "cell_type": "code",
   "execution_count": null,
   "metadata": {},
   "outputs": [],
   "source": [
    "np.random.seed(0)\n",
    "silhouette_kmean = [] \n",
    "for n_cluster in range(2, 11):\n",
    "    clus = KMeans(n_clusters = n_cluster).fit_predict(df1_pc2)\n",
    "    sil_score = silhouette_score(df1_pc2, clus) \n",
    "    silhouette_kmean.append((n_cluster, sil_score))\n",
    "df_kmean = pd.DataFrame(silhouette_kmean, columns=['number_of_clusters', 'sil_score'])\n",
    "df_kmean.sort_values('sil_score', ascending=False)"
   ]
  },
  {
   "cell_type": "code",
   "execution_count": null,
   "metadata": {},
   "outputs": [],
   "source": [
    "# Custumers per cluster\n",
    "np.random.seed(0)\n",
    "k = 2\n",
    "kmean = KMeans(n_clusters=k, random_state=0)\n",
    "clus = kmean.fit_predict(df1_pc2)\n",
    "pd.Series(clus).value_counts()"
   ]
  },
  {
   "cell_type": "code",
   "execution_count": null,
   "metadata": {},
   "outputs": [],
   "source": [
    "X = df1_pc2.join(pd.DataFrame({'kmean_label': clus}))\n",
    "plt.figure(figsize=(5,5))\n",
    "sns.scatterplot(data=X, x=\"PC1\", y=\"PC2\", hue=\"kmean_label\", alpha = 0.05)\n",
    "plt.show()"
   ]
  },
  {
   "cell_type": "markdown",
   "metadata": {},
   "source": [
    "## GMM"
   ]
  },
  {
   "cell_type": "code",
   "execution_count": null,
   "metadata": {},
   "outputs": [],
   "source": [
    "np.random.seed(0)\n",
    "siliuette_GMM = []\n",
    "for n_cluster in range(2,10,2):\n",
    "    for covariance_type in ['tied', 'diag', 'full']:\n",
    "        gmm  = GaussianMixture(n_components=n_cluster, covariance_type=covariance_type, random_state=0)\n",
    "        clus = gmm.fit_predict(df1_pc2)\n",
    "        sil_score = silhouette_score(df1_pc2, clus)\n",
    "        siliuette_GMM.append((n_cluster, sil_score, covariance_type ) )        \n",
    "df_gmm = pd.DataFrame(siliuette_GMM, columns=['number_of_clusters', 'sil_score','covariance_type'])\n",
    "df_gmm.sort_values('sil_score', ascending=False)"
   ]
  },
  {
   "cell_type": "code",
   "execution_count": null,
   "metadata": {},
   "outputs": [],
   "source": [
    "np.random.seed(0)\n",
    "gmm  = GaussianMixture(n_components=2, covariance_type='full', random_state=0)\n",
    "clus = gmm.fit_predict(df1_pc2)\n",
    "pd.Series(clus).value_counts()"
   ]
  },
  {
   "cell_type": "code",
   "execution_count": null,
   "metadata": {},
   "outputs": [],
   "source": [
    "X = df1_pc2.join(pd.DataFrame({'GMM_label': clus}))\n",
    "plt.figure(figsize=(5,5))\n",
    "sns.scatterplot(data=X, x=\"PC1\", y=\"PC2\", hue=\"GMM_label\", alpha=0.05)\n",
    "plt.show()"
   ]
  },
  {
   "cell_type": "code",
   "execution_count": null,
   "metadata": {},
   "outputs": [],
   "source": [
    "X=df1.join(pd.DataFrame({'GMM_label': clus}))\n",
    "plt.figure(figsize=(15,25))\n",
    "for i in range(0,13):\n",
    "    plt.subplot(6,3,i+1)\n",
    "    sns.kdeplot(data=X, x=xvar[i], hue=\"GMM_label\", palette=\"Set2\")\n",
    "plt.show()"
   ]
  },
  {
   "cell_type": "code",
   "execution_count": null,
   "metadata": {},
   "outputs": [],
   "source": [
    "plt.figure(figsize=(5,5))\n",
    "sns.scatterplot(data=X, x=\"CASH_ADVANCE\", y=\"INSTALLMENTS_PURCHASES\", hue=\"GMM_label\", alpha=0.05)\n",
    "plt.show()"
   ]
  },
  {
   "cell_type": "markdown",
   "metadata": {},
   "source": [
    "# 신용카드 고객 세분화 (t-SNE 데이터)"
   ]
  },
  {
   "cell_type": "markdown",
   "metadata": {},
   "source": [
    "## K-means clustering"
   ]
  },
  {
   "cell_type": "code",
   "execution_count": null,
   "metadata": {},
   "outputs": [],
   "source": [
    "np.random.seed(0)\n",
    "silhouette_kmean = [] \n",
    "for n_cluster in range(2, 11):\n",
    "    clus = KMeans(n_clusters = n_cluster).fit_predict(df1_tsne2)\n",
    "    sil_score = silhouette_score(df1_tsne2, clus) \n",
    "    silhouette_kmean.append((n_cluster, sil_score))\n",
    "df_kmean = pd.DataFrame(silhouette_kmean, columns=['number_of_clusters', 'sil_score'])\n",
    "df_kmean.sort_values('sil_score', ascending=False)"
   ]
  },
  {
   "cell_type": "code",
   "execution_count": null,
   "metadata": {},
   "outputs": [],
   "source": [
    "# Custumers per cluster\n",
    "np.random.seed(0)\n",
    "k = 6\n",
    "kmean = KMeans(n_clusters=k, random_state=0)\n",
    "clus = kmean.fit_predict(df1_tsne2)\n",
    "pd.Series(clus).value_counts()"
   ]
  },
  {
   "cell_type": "code",
   "execution_count": null,
   "metadata": {},
   "outputs": [],
   "source": [
    "X = df1_tsne2.join(pd.DataFrame({'kmean_label': clus}))\n",
    "plt.figure(figsize=(8,5))\n",
    "sns.scatterplot(data=X, x=\"tsne1\", y=\"tsne2\", hue=\"kmean_label\", alpha=0.05, palette='Set2')\n",
    "plt.show()"
   ]
  },
  {
   "cell_type": "code",
   "execution_count": null,
   "metadata": {},
   "outputs": [],
   "source": [
    "X = df1.join(pd.DataFrame({'kmean_label': clus}))\n",
    "plt.figure(figsize=(15,25))\n",
    "for i in range(0,13):\n",
    "    plt.subplot(6,3,i+1)\n",
    "    sns.kdeplot(data=X, x=xvar[i], hue=\"kmean_label\", palette=\"Set2\")\n",
    "plt.show()"
   ]
  },
  {
   "cell_type": "markdown",
   "metadata": {},
   "source": [
    "## GMM"
   ]
  },
  {
   "cell_type": "code",
   "execution_count": null,
   "metadata": {},
   "outputs": [],
   "source": [
    "np.random.seed(0)\n",
    "siliuette_GMM = []\n",
    "for n_cluster in range(2,10,2):\n",
    "    for covariance_type in ['tied', 'diag', 'full']:\n",
    "        gmm  = GaussianMixture(n_components=n_cluster, covariance_type=covariance_type, random_state=0)\n",
    "        clus = gmm.fit_predict(df1_tsne2)\n",
    "        sil_score = silhouette_score(df1_tsne2, clus)\n",
    "        siliuette_GMM.append((n_cluster, sil_score, covariance_type ) )        \n",
    "df_gmm = pd.DataFrame(siliuette_GMM, columns=['number_of_clusters', 'sil_score','covariance_type'])\n",
    "df_gmm.sort_values('sil_score', ascending=False)"
   ]
  },
  {
   "cell_type": "code",
   "execution_count": null,
   "metadata": {},
   "outputs": [],
   "source": [
    "np.random.seed(0)\n",
    "gmm  = GaussianMixture(n_components=6, covariance_type='diag', random_state=0)\n",
    "clus = gmm.fit_predict(df1_tsne2)\n",
    "pd.Series(clus).value_counts()"
   ]
  },
  {
   "cell_type": "code",
   "execution_count": null,
   "metadata": {
    "scrolled": true
   },
   "outputs": [],
   "source": [
    "X = df1_tsne2.join(pd.DataFrame({'GMM_label': clus}))\n",
    "plt.figure(figsize=(8,5))\n",
    "sns.scatterplot(data=X, x=\"tsne1\", y=\"tsne2\", hue=\"GMM_label\", alpha=0.05, palette=\"Set2\")\n",
    "plt.show()"
   ]
  },
  {
   "cell_type": "code",
   "execution_count": null,
   "metadata": {},
   "outputs": [],
   "source": [
    "X=df1.join(pd.DataFrame({'GMM_label': clus}))\n",
    "plt.figure(figsize=(15,25))\n",
    "for i in range(0,13):\n",
    "    plt.subplot(6,3,i+1)\n",
    "    sns.kdeplot(data=X, x=xvar[i], hue=\"GMM_label\", palette=\"Set2\")\n",
    "plt.show()"
   ]
  },
  {
   "cell_type": "code",
   "execution_count": null,
   "metadata": {},
   "outputs": [],
   "source": [
    "plt.figure(figsize=(5,5))\n",
    "sns.scatterplot(data=X, x=\"CASH_ADVANCE\", y=\"INSTALLMENTS_PURCHASES\", hue=\"GMM_label\", alpha=0.2, palette=\"Set2\")\n",
    "plt.show()"
   ]
  },
  {
   "cell_type": "code",
   "execution_count": null,
   "metadata": {},
   "outputs": [],
   "source": []
  }
 ],
 "metadata": {
  "colab": {
   "collapsed_sections": [],
   "name": "feature_eng.ipynb",
   "provenance": []
  },
  "kernelspec": {
   "display_name": "Python 3",
   "language": "python",
   "name": "python3"
  },
  "language_info": {
   "codemirror_mode": {
    "name": "ipython",
    "version": 3
   },
   "file_extension": ".py",
   "mimetype": "text/x-python",
   "name": "python",
   "nbconvert_exporter": "python",
   "pygments_lexer": "ipython3",
   "version": "3.7.4"
  }
 },
 "nbformat": 4,
 "nbformat_minor": 1
}
