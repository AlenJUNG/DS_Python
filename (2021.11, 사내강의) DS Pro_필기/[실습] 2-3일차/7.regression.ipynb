{
 "cells": [
  {
   "cell_type": "markdown",
   "metadata": {},
   "source": [
    "# Linear Regression : 설명을 위한 선형회귀분석\n",
    " \n",
    " 1) 종속변수 y : 만성폐쇄성폐질환 (COPD) 삶의 질 평가 검사(CAT) 증상점수\n",
    " *  COPD 평가검사(COPD assessment test, CAT)\n",
    " * CAT는 8가지 설문 사항을 통해 환자의 삶의 질 즉, 호흡기 증상, 활동 정도, 수면, 자신감을 지표로 삼고 평가\n",
    " * 0(삶의 질 가장 좋음)~40점(삶의 질 가장 나쁨)까지의 점수로 나타남 \n",
    " \n",
    "2) 독립변수 x (7개)\n",
    " * age :나이, 연속형\n",
    " * sex :성별(1:남성, 0:여성), 범주형\n",
    " * FEV1%: 1초간 노력성 폐활량(Forced Expiratory Volume in One second, FEV1), 연속형, \n",
    "  - (> 70 :mild, 60-69 :moderate ,50-59:moderagely severe, 35-49:severe, <35 :very severe)\n",
    " * Smoke_pack_year : 갑년(pack-year), 사람의 담배 노출을 측정하는 데 사용되는 지표, 하루평균 담배소비량(갑)×흡연기간(년)을 의미\n",
    " * Chol :  혈중 콜레스트롤 (mg / dl 단위), 연속형\n",
    " * Comorbid : 동반질환여부 (1:유, 0:무), 범주형\n",
    " * premium : 월평균 건강보험료(소득수준 의미), 연속형\n",
    " \n",
    " * COPD 환자의 80% 이상에서 10갑년 이상의 흡연력. 을 가지며, 특히 남자에서는 90% 이상 흡연과 관련"
   ]
  },
  {
   "cell_type": "markdown",
   "metadata": {},
   "source": [
    "### 데이터 불러오기"
   ]
  },
  {
   "cell_type": "code",
   "execution_count": null,
   "metadata": {},
   "outputs": [],
   "source": [
    "import pandas as pd\n",
    "import numpy as np\n",
    "from warnings import simplefilter\n",
    "simplefilter(action='ignore', category=FutureWarning)"
   ]
  },
  {
   "cell_type": "code",
   "execution_count": null,
   "metadata": {},
   "outputs": [],
   "source": [
    "df=pd.read_csv('copdcat.csv')"
   ]
  },
  {
   "cell_type": "code",
   "execution_count": null,
   "metadata": {},
   "outputs": [],
   "source": [
    "df.describe()"
   ]
  },
  {
   "cell_type": "code",
   "execution_count": null,
   "metadata": {},
   "outputs": [],
   "source": [
    "X=df.drop([\"CATScore\"],axis=1)\n",
    "y=df[\"CATScore\"]"
   ]
  },
  {
   "cell_type": "markdown",
   "metadata": {},
   "source": [
    "### 그래프를 활용한 탐색적 분석"
   ]
  },
  {
   "cell_type": "code",
   "execution_count": null,
   "metadata": {},
   "outputs": [],
   "source": [
    "import matplotlib.pyplot as plt\n",
    "import seaborn as sns\n",
    "sns.pairplot(df, x_vars=X.columns, y_vars='CATScore', kind='reg', \n",
    "             plot_kws={'line_kws':{'color':'red'}, 'scatter_kws': {'alpha': 0.01}})\n",
    "plt.show()"
   ]
  },
  {
   "cell_type": "markdown",
   "metadata": {},
   "source": [
    "###  Model1 :기본 모델구축\n",
    "* Adj. R-squared : 0.74\n",
    "* 유의수준 5% 하에서 유의하지 않은 변수 : Chol\n",
    "* FEV1%(폐활량 테스트 점수)가 높을 수록, 연평균 보험료가 높을 수록 만성폐쇄성폐질환자의 삶의 질 증상점수가 낮아짐(삶의 질이 좋아짐)\n",
    "* 나이가 많을 수록, 성별이 여성대비 남성인 경우, 과거 흡연력이 클수록, 동반질환이 있을 수록 COPD환자의 증상 점수는 높아짐 "
   ]
  },
  {
   "cell_type": "code",
   "execution_count": null,
   "metadata": {},
   "outputs": [],
   "source": [
    "import statsmodels.api as sm\n",
    "model_reg = sm.OLS(y,sm.add_constant(X))\n",
    "result_reg = model_reg.fit()\n",
    "result_reg.summary()"
   ]
  },
  {
   "cell_type": "markdown",
   "metadata": {},
   "source": [
    "#### Linearity"
   ]
  },
  {
   "cell_type": "code",
   "execution_count": null,
   "metadata": {},
   "outputs": [],
   "source": [
    "sns.scatterplot(x=df['CATScore'], y=result_reg.fittedvalues, alpha=0.1)\n",
    "plt.plot([0, 30], [0, 30], color='red')\n",
    "plt.ylabel(\"Fitted values\")\n",
    "plt.show()"
   ]
  },
  {
   "cell_type": "code",
   "execution_count": null,
   "metadata": {},
   "outputs": [],
   "source": [
    "# linearity\n",
    "sns.scatterplot(x=result_reg.fittedvalues, y=result_reg.resid, alpha=0.1)\n",
    "plt.axhline(y=0, color='red')\n",
    "plt.xlabel(\"Fitted values\")\n",
    "plt.ylabel(\"Residual\")\n",
    "plt.show()"
   ]
  },
  {
   "cell_type": "markdown",
   "metadata": {},
   "source": [
    "#### Normality"
   ]
  },
  {
   "cell_type": "code",
   "execution_count": null,
   "metadata": {},
   "outputs": [],
   "source": [
    "sm.qqplot(result_reg.resid, line='r')\n",
    "plt.title(\"Normal Q-Q plot\")\n",
    "plt.show()"
   ]
  },
  {
   "cell_type": "markdown",
   "metadata": {},
   "source": [
    "#### Equal Variance"
   ]
  },
  {
   "cell_type": "code",
   "execution_count": null,
   "metadata": {},
   "outputs": [],
   "source": [
    "sns.scatterplot(x=result_reg.fittedvalues, y=result_reg.resid, alpha=0.1)\n",
    "plt.axhline(y=0, color='red')\n",
    "plt.xlabel(\"Fitted values\")\n",
    "plt.ylabel(\"Residual\")\n",
    "plt.show()"
   ]
  },
  {
   "cell_type": "markdown",
   "metadata": {},
   "source": [
    "### 모형 고급화 방안"
   ]
  },
  {
   "cell_type": "code",
   "execution_count": null,
   "metadata": {},
   "outputs": [],
   "source": [
    "# More on linearity\n",
    "df1=df.join(pd.DataFrame({'residual': result_reg.resid}))\n",
    "sns.pairplot(df1, x_vars=X.columns, y_vars='residual', kind='reg', \n",
    "             plot_kws={'line_kws':{'color':'red'}, 'scatter_kws': {'alpha': 0.01}})\n"
   ]
  },
  {
   "cell_type": "markdown",
   "metadata": {},
   "source": [
    "### Molde2 : X 변수 변환 추가"
   ]
  },
  {
   "cell_type": "code",
   "execution_count": null,
   "metadata": {
    "scrolled": false
   },
   "outputs": [],
   "source": [
    "X=df.drop([\"CATScore\"],axis=1)\n",
    "y=df[\"CATScore\"]\n",
    "X[\"Smoke_pack_year2\"]= df[\"Smoke_pack_year\"]**2\n",
    "model_reg2 = sm.OLS(y,sm.add_constant(X))\n",
    "result_reg2 = model_reg2.fit()\n",
    "result_reg2.summary()"
   ]
  },
  {
   "cell_type": "markdown",
   "metadata": {},
   "source": [
    "#### Linearity"
   ]
  },
  {
   "cell_type": "code",
   "execution_count": null,
   "metadata": {},
   "outputs": [],
   "source": [
    "sns.scatterplot(x=df['CATScore'], y=result_reg2.fittedvalues, alpha=0.1)\n",
    "plt.plot([0, 30], [0, 30], color='red')\n",
    "plt.ylabel(\"Fitted values\")\n",
    "plt.show()"
   ]
  },
  {
   "cell_type": "markdown",
   "metadata": {},
   "source": [
    "#### Normality"
   ]
  },
  {
   "cell_type": "code",
   "execution_count": null,
   "metadata": {},
   "outputs": [],
   "source": [
    "sm.qqplot(result_reg2.resid, line='r')\n",
    "plt.title(\"Normal Q-Q plot\")\n",
    "plt.show()"
   ]
  },
  {
   "cell_type": "markdown",
   "metadata": {},
   "source": [
    "#### Equal variance"
   ]
  },
  {
   "cell_type": "code",
   "execution_count": null,
   "metadata": {
    "scrolled": true
   },
   "outputs": [],
   "source": [
    "sns.scatterplot(x=result_reg2.fittedvalues, y=result_reg2.resid, alpha=0.1)\n",
    "plt.axhline(y=0, color='red')\n",
    "plt.xlabel(\"Fitted values\")\n",
    "plt.ylabel(\"Residual\")\n",
    "plt.show()"
   ]
  },
  {
   "cell_type": "markdown",
   "metadata": {},
   "source": [
    "## 다중공선성 확인\n",
    "### correlation"
   ]
  },
  {
   "cell_type": "code",
   "execution_count": null,
   "metadata": {},
   "outputs": [],
   "source": [
    "plt.figure(figsize=(10,5))\n",
    "sns.heatmap(X.corr(),cmap='coolwarm',annot=True)\n",
    "plt.show()"
   ]
  },
  {
   "cell_type": "markdown",
   "metadata": {},
   "source": [
    "### VIF 계산"
   ]
  },
  {
   "cell_type": "code",
   "execution_count": null,
   "metadata": {},
   "outputs": [],
   "source": [
    "from statsmodels.stats.outliers_influence import variance_inflation_factor\n",
    "X_design = sm.add_constant(X)\n",
    "vif = pd.DataFrame()\n",
    "vif[\"Features\"] = X.columns\n",
    "vif[\"VIF Factor\"] = [np.round(variance_inflation_factor(X_design.values, i+1),4) \n",
    "                     for i in range(len(X.columns))] \n",
    "vif"
   ]
  },
  {
   "cell_type": "markdown",
   "metadata": {},
   "source": [
    "## 이상점, 영향점"
   ]
  },
  {
   "cell_type": "code",
   "execution_count": null,
   "metadata": {},
   "outputs": [],
   "source": [
    "result_influ = result_reg2.get_influence().summary_frame() #slow\n",
    "result_influ"
   ]
  },
  {
   "cell_type": "markdown",
   "metadata": {},
   "source": [
    "#### Studentized Residual, Leverage Hii"
   ]
  },
  {
   "cell_type": "code",
   "execution_count": null,
   "metadata": {},
   "outputs": [],
   "source": [
    "plt.figure(figsize=(5,5))\n",
    "sns.scatterplot(data=result_influ, y=\"student_resid\", x=\"hat_diag\", alpha=0.5)\n",
    "plt.show()"
   ]
  },
  {
   "cell_type": "markdown",
   "metadata": {},
   "source": [
    "#### Cook's distnace, Dffits"
   ]
  },
  {
   "cell_type": "code",
   "execution_count": null,
   "metadata": {},
   "outputs": [],
   "source": [
    "plt.figure(figsize=(5,5))\n",
    "sns.scatterplot(data=result_influ, y=\"dffits\", x=\"cooks_d\", alpha=0.5)\n",
    "plt.show()"
   ]
  },
  {
   "cell_type": "markdown",
   "metadata": {},
   "source": [
    "#### 영향점 상위 10개"
   ]
  },
  {
   "cell_type": "code",
   "execution_count": null,
   "metadata": {},
   "outputs": [],
   "source": [
    "result_influ_sort = result_influ.sort_values('cooks_d', ascending=False)\n",
    "result_influ_sort[['cooks_d','student_resid','dffits','hat_diag']].head(10)"
   ]
  },
  {
   "cell_type": "markdown",
   "metadata": {},
   "source": [
    "####  [해석을 위한 참고] Model2 : 이차항을 포함한 회귀분석\n",
    "* 선형 회귀 모형의 actual CAT Score 와 predicted CAT Score 그림을 보았을 때, curve의 형태를 보이는 선형으로는 설명 불가능한 부분이 보임\n",
    "* 탐색적 그래프 분석에서 Smoke_pack_year 변수가 이차항 효과를 가지는 것으로 보여져, 해당 변수의 이차항을 추가\n",
    "* 후진제거법으로 Chol 과 Smoke_pack_year 변수는 삭제함\n",
    "* 폐 기능 검사의 노력성 폐활량 FEV1% 점수가 나쁠수록, 흡연력이 길수록, 동반질환이 있을 수록, 연 평균 보험료(소득수준)이 적을수록,\n",
    "여성보다는 남성이, 나이가 많을 수록  삶의 질 검사(CAT) 증상 점수가 높은 점수를 보인다 (증상 악화, 삶의 질이 나쁨을 뜻함) "
   ]
  }
 ],
 "metadata": {
  "kernelspec": {
   "display_name": "Python 3",
   "language": "python",
   "name": "python3"
  },
  "language_info": {
   "codemirror_mode": {
    "name": "ipython",
    "version": 3
   },
   "file_extension": ".py",
   "mimetype": "text/x-python",
   "name": "python",
   "nbconvert_exporter": "python",
   "pygments_lexer": "ipython3",
   "version": "3.7.4"
  }
 },
 "nbformat": 4,
 "nbformat_minor": 2
}
