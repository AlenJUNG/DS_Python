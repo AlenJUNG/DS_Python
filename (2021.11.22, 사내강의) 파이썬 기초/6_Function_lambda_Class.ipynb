{
 "cells": [
  {
   "cell_type": "markdown",
   "metadata": {},
   "source": [
    "# Function"
   ]
  },
  {
   "cell_type": "markdown",
   "metadata": {},
   "source": [
    "## 함수 기본구조"
   ]
  },
  {
   "cell_type": "code",
   "execution_count": null,
   "metadata": {
    "ExecuteTime": {
     "end_time": "2019-06-17T00:32:30.214400Z",
     "start_time": "2019-06-17T00:32:30.176400Z"
    }
   },
   "outputs": [],
   "source": [
    "# 한 개의 반환값\n",
    "def area(a):\n",
    "    return a ** 2\n",
    "\n",
    "# 두 개의 반환값\n",
    "def area2(a):\n",
    "    area = a ** 2\n",
    "    volume = a ** 3\n",
    "    return (area, volume)\n",
    "\n",
    "print(area(2))\n",
    "print(area2(2))"
   ]
  },
  {
   "cell_type": "markdown",
   "metadata": {},
   "source": [
    "## 가변인자"
   ]
  },
  {
   "cell_type": "code",
   "execution_count": null,
   "metadata": {
    "ExecuteTime": {
     "end_time": "2019-06-17T00:33:56.564400Z",
     "start_time": "2019-06-17T00:33:56.553400Z"
    }
   },
   "outputs": [],
   "source": [
    "def words(*args):\n",
    "    print(args)\n",
    "    print(type(args))\n",
    "    for i in args:\n",
    "        print(i)\n",
    "\n",
    "words({'사과','포도','바나나'})"
   ]
  },
  {
   "cell_type": "code",
   "execution_count": null,
   "metadata": {
    "ExecuteTime": {
     "end_time": "2019-06-17T00:34:17.801400Z",
     "start_time": "2019-06-17T00:34:17.797400Z"
    }
   },
   "outputs": [],
   "source": [
    "def words(**kargs):\n",
    "    print(type(kargs))\n",
    "    for key, value in kargs.items():\n",
    "        print(f'{key} 는 {value}')\n",
    "\n",
    "words(a='사과', b='포도',c='바나나')"
   ]
  },
  {
   "cell_type": "markdown",
   "metadata": {},
   "source": [
    "## docstring"
   ]
  },
  {
   "cell_type": "code",
   "execution_count": null,
   "metadata": {
    "ExecuteTime": {
     "end_time": "2019-06-17T00:34:23.741400Z",
     "start_time": "2019-06-17T00:34:23.737400Z"
    }
   },
   "outputs": [],
   "source": [
    "def area(a):\n",
    "    \"\"\" 주어진 길이에 대한 넓이를 \n",
    "    계산합니다 \"\"\"\n",
    "    return a ** 2\n",
    "help(area)"
   ]
  },
  {
   "cell_type": "code",
   "execution_count": null,
   "metadata": {
    "ExecuteTime": {
     "end_time": "2019-06-17T00:34:31.291400Z",
     "start_time": "2019-06-17T00:34:31.282400Z"
    }
   },
   "outputs": [],
   "source": [
    "def area3(a, h = 4):\n",
    "    area = a ** 2\n",
    "    volume = a ** h\n",
    "    return (area, volume)\n",
    "area3(2)"
   ]
  },
  {
   "cell_type": "code",
   "execution_count": null,
   "metadata": {
    "ExecuteTime": {
     "end_time": "2019-06-17T00:34:38.928400Z",
     "start_time": "2019-06-17T00:34:38.921400Z"
    }
   },
   "outputs": [],
   "source": [
    "def a(b,c,d=5,e=10):\n",
    "    print(b,c,d,e)\n",
    "\n",
    "a(5,6,e=6)"
   ]
  },
  {
   "cell_type": "markdown",
   "metadata": {},
   "source": [
    "# lambda"
   ]
  },
  {
   "cell_type": "markdown",
   "metadata": {},
   "source": [
    "## lambda 기본구조"
   ]
  },
  {
   "cell_type": "code",
   "execution_count": null,
   "metadata": {
    "ExecuteTime": {
     "end_time": "2019-06-17T01:20:26.232400Z",
     "start_time": "2019-06-17T01:20:26.228400Z"
    }
   },
   "outputs": [],
   "source": [
    "# 일반함수\n",
    "def square(x,y):\n",
    "    return x * y\n",
    "print(square(2,3))       \n",
    "\n",
    "# 람다함수\n",
    "print((lambda x, y: x * y)(2,3))"
   ]
  },
  {
   "cell_type": "code",
   "execution_count": null,
   "metadata": {
    "ExecuteTime": {
     "end_time": "2019-06-17T01:20:26.822400Z",
     "start_time": "2019-06-17T01:20:26.816400Z"
    }
   },
   "outputs": [],
   "source": [
    "def test_func (f, arg):\n",
    "    return f(arg)\n",
    "\n",
    "test_func(lambda x : x**2, 3)"
   ]
  },
  {
   "cell_type": "markdown",
   "metadata": {},
   "source": [
    "## lambda와 map활용"
   ]
  },
  {
   "cell_type": "code",
   "execution_count": null,
   "metadata": {
    "ExecuteTime": {
     "end_time": "2019-06-17T01:20:35.888400Z",
     "start_time": "2019-06-17T01:20:35.883400Z"
    }
   },
   "outputs": [],
   "source": [
    "# 각 요소에 함수를 적용한 새로운 리스트를 생성하는 경우\n",
    "nums = [1, 2, 3, 4, 5]\n",
    "\n",
    "def calc(x):\n",
    "    return x**2\n",
    "\n",
    "double_nums = []\n",
    "for x in nums:\n",
    "    double_nums.append(calc(x))   \n",
    "print(double_nums)\n",
    "\n",
    "# map \n",
    "print(list(map(calc, nums)))"
   ]
  },
  {
   "cell_type": "code",
   "execution_count": null,
   "metadata": {
    "ExecuteTime": {
     "end_time": "2019-06-17T01:20:37.929400Z",
     "start_time": "2019-06-17T01:20:37.924400Z"
    }
   },
   "outputs": [],
   "source": [
    "# lambda 와 map 을 활용\n",
    "nums = [1, 2, 3, 4, 5]\n",
    "print(list(map(lambda x : x**2, nums)))"
   ]
  },
  {
   "cell_type": "markdown",
   "metadata": {},
   "source": [
    "# Class"
   ]
  },
  {
   "cell_type": "markdown",
   "metadata": {},
   "source": [
    "## class기본구조"
   ]
  },
  {
   "cell_type": "code",
   "execution_count": null,
   "metadata": {
    "ExecuteTime": {
     "end_time": "2019-06-17T01:21:30.212400Z",
     "start_time": "2019-06-17T01:21:30.207400Z"
    }
   },
   "outputs": [],
   "source": [
    "# 클래스 생성\n",
    "class Bread:\n",
    "    def __init__(self):\n",
    "        self.source = \"팥앙금\"\n",
    "        self.shape = \"붕어\"\n",
    "\n",
    "    def intro(self):\n",
    "        return f'{self.source} 이 들어간 {self.shape}빵이에요!!'\n",
    "\n",
    "# Bread 클래스 인스턴스(객체) 생성\n",
    "fish = Bread()"
   ]
  },
  {
   "cell_type": "code",
   "execution_count": null,
   "metadata": {
    "ExecuteTime": {
     "end_time": "2019-06-17T01:21:36.132400Z",
     "start_time": "2019-06-17T01:21:36.124400Z"
    }
   },
   "outputs": [],
   "source": [
    "print(f'Source is : {fish.source}')\n",
    "print(f'shape is : {fish.shape}')"
   ]
  },
  {
   "cell_type": "code",
   "execution_count": null,
   "metadata": {
    "ExecuteTime": {
     "end_time": "2019-06-17T01:21:46.067400Z",
     "start_time": "2019-06-17T01:21:46.062400Z"
    },
    "scrolled": false
   },
   "outputs": [],
   "source": [
    "print(fish.intro())"
   ]
  },
  {
   "cell_type": "code",
   "execution_count": null,
   "metadata": {
    "ExecuteTime": {
     "end_time": "2019-06-17T01:21:49.811400Z",
     "start_time": "2019-06-17T01:21:49.807400Z"
    }
   },
   "outputs": [],
   "source": [
    "class Bread:\n",
    "    def __init__(self, scoup):\n",
    "        if scoup <= 0:\n",
    "            raise ValueError(\"0보다 커야 합니다.\")\n",
    "        self.scoup = scoup"
   ]
  },
  {
   "cell_type": "code",
   "execution_count": null,
   "metadata": {
    "ExecuteTime": {
     "end_time": "2019-06-17T01:21:51.034400Z",
     "start_time": "2019-06-17T01:21:51.024400Z"
    }
   },
   "outputs": [],
   "source": [
    "a  = Bread(0)"
   ]
  },
  {
   "cell_type": "markdown",
   "metadata": {},
   "source": [
    "## 클래스변수, 인스턴스 변수"
   ]
  },
  {
   "cell_type": "code",
   "execution_count": null,
   "metadata": {
    "ExecuteTime": {
     "end_time": "2019-06-17T01:21:58.217400Z",
     "start_time": "2019-06-17T01:21:58.210400Z"
    }
   },
   "outputs": [],
   "source": [
    "# 클래스 생성\n",
    "class Bread:\n",
    "    # 클래스 변수 class variable shared by all instances\n",
    "    num = 0\n",
    "    special = \"카스타드\"\n",
    "    def __init__(self, source, shape):\n",
    "        # 인스턴스 변수 instance variable unique to each instance\n",
    "        self.source = source\n",
    "        self.shape = shape\n",
    "        Bread.num += 1\n",
    "\n",
    "    # 인스턴스 메소드\n",
    "    def intro(self):\n",
    "        return f'{self.source} 이 들어간 {self.shape}빵이에요!!'"
   ]
  },
  {
   "cell_type": "code",
   "execution_count": null,
   "metadata": {
    "ExecuteTime": {
     "end_time": "2019-06-17T01:22:07.909400Z",
     "start_time": "2019-06-17T01:22:07.904400Z"
    }
   },
   "outputs": [],
   "source": [
    "fish = Bread(\"팥앙금\", \"붕어\")\n",
    "fish.num"
   ]
  },
  {
   "cell_type": "code",
   "execution_count": null,
   "metadata": {
    "ExecuteTime": {
     "end_time": "2019-06-17T01:22:10.598400Z",
     "start_time": "2019-06-17T01:22:10.593400Z"
    }
   },
   "outputs": [],
   "source": [
    "Bread.num"
   ]
  },
  {
   "cell_type": "code",
   "execution_count": null,
   "metadata": {
    "ExecuteTime": {
     "end_time": "2019-06-17T01:22:21.218400Z",
     "start_time": "2019-06-17T01:22:21.209400Z"
    }
   },
   "outputs": [],
   "source": [
    "print(fish.shape)\n",
    "print(Bread.shape)"
   ]
  },
  {
   "cell_type": "code",
   "execution_count": null,
   "metadata": {
    "ExecuteTime": {
     "end_time": "2019-06-17T01:22:29.387400Z",
     "start_time": "2019-06-17T01:22:29.384400Z"
    }
   },
   "outputs": [],
   "source": [
    "flower = Bread(\"크림\", \"국화\")"
   ]
  },
  {
   "cell_type": "code",
   "execution_count": null,
   "metadata": {
    "ExecuteTime": {
     "end_time": "2019-06-17T01:22:30.212400Z",
     "start_time": "2019-06-17T01:22:30.208400Z"
    }
   },
   "outputs": [],
   "source": [
    "flower.shape"
   ]
  },
  {
   "cell_type": "markdown",
   "metadata": {},
   "source": [
    "## 클래스 상속"
   ]
  },
  {
   "cell_type": "code",
   "execution_count": null,
   "metadata": {
    "ExecuteTime": {
     "end_time": "2019-06-17T01:27:30.727400Z",
     "start_time": "2019-06-17T01:27:30.723400Z"
    }
   },
   "outputs": [],
   "source": [
    "class ChildBread(Bread):\n",
    "    pass # 클래스나 함수에서 아무것도 안 할 경우 pass 로 명시  \n",
    "\n",
    "child = ChildBread(\"팥앙금\", \"붕어\")\n",
    "child.intro()"
   ]
  },
  {
   "cell_type": "code",
   "execution_count": null,
   "metadata": {
    "scrolled": false
   },
   "outputs": [],
   "source": [
    "class A:\n",
    "    def __init__(self):\n",
    "        print(\"A\", self)\n",
    "\n",
    "class B(A):\n",
    "    def __init__(self):\n",
    "        super().__init__()\n",
    "        print(\"B\", self)\n",
    "\n",
    "class C(A):\n",
    "    def __init__(self):\n",
    "        super().__init__()\n",
    "        print(\"C\", self)\n",
    "\n",
    "class D(B,C):\n",
    "    def __init__(self):\n",
    "        super().__init__()\n",
    "        print(\"D\")\n",
    "   \n",
    "print(D.__mro__)\n",
    "d = D()"
   ]
  },
  {
   "cell_type": "code",
   "execution_count": null,
   "metadata": {
    "ExecuteTime": {
     "end_time": "2019-06-18T01:24:17.050000Z",
     "start_time": "2019-06-18T01:24:17.042000Z"
    }
   },
   "outputs": [],
   "source": [
    "# 클래스 생성\n",
    "class Bread:\n",
    "    # 클래스 변수 class variable shared by all instances\n",
    "    num = 0\n",
    "    special = \"카스타드\"\n",
    "    def __init__(self, source, shape):\n",
    "        # 인스턴스 변수 instance variable unique to each instance\n",
    "        self.source = source\n",
    "        self.shape = shape\n",
    "        Bread.num += 1\n",
    "\n",
    "    # 인스턴스 메소드\n",
    "    def intro(self):\n",
    "        return f'{self.source} 이 들어간 {self.shape}빵이에요!!'\n",
    "    \n",
    "    @classmethod\n",
    "    def commons(cls):\n",
    "        return f'총 구워진 빵은 {cls.num}개이고 특별하게 {cls.special}도 들어갑니다.'\n",
    "    \n",
    "    @staticmethod\n",
    "    def bake(time = '50'):\n",
    "        return f'빵을 {time}초씩 앞뒤로 구워보아요.'"
   ]
  },
  {
   "cell_type": "code",
   "execution_count": null,
   "metadata": {
    "ExecuteTime": {
     "end_time": "2019-06-18T01:24:17.521000Z",
     "start_time": "2019-06-18T01:24:17.512000Z"
    }
   },
   "outputs": [],
   "source": [
    "Bread.commons()"
   ]
  },
  {
   "cell_type": "code",
   "execution_count": null,
   "metadata": {
    "ExecuteTime": {
     "end_time": "2019-06-18T01:24:18.038000Z",
     "start_time": "2019-06-18T01:24:18.001000Z"
    }
   },
   "outputs": [],
   "source": [
    "print(Bread.bake('40'))"
   ]
  },
  {
   "cell_type": "code",
   "execution_count": null,
   "metadata": {
    "ExecuteTime": {
     "end_time": "2019-06-18T01:24:18.786000Z",
     "start_time": "2019-06-18T01:24:18.781000Z"
    }
   },
   "outputs": [],
   "source": [
    "class ChildBread(Bread):\n",
    "    special = \"아기별모양\" \n",
    "\n",
    "print(ChildBread.commons())"
   ]
  },
  {
   "cell_type": "markdown",
   "metadata": {},
   "source": [
    "## 오버라이딩"
   ]
  },
  {
   "cell_type": "code",
   "execution_count": null,
   "metadata": {
    "ExecuteTime": {
     "end_time": "2019-06-17T04:24:51.241400Z",
     "start_time": "2019-06-17T04:24:51.231400Z"
    }
   },
   "outputs": [],
   "source": [
    "class Test:\n",
    "    def __init__(self):\n",
    "        self.a = \"John\"\n",
    "\n",
    "    def greet(self):\n",
    "        print(\"Hello!! \" + self.a)\n",
    "\n",
    "class ChildTest(Test):\n",
    "    def greet(self):\n",
    "        print(\"Hi every one!!\")\n",
    "\n",
    "hey = ChildTest()        \n",
    "hey.greet()"
   ]
  },
  {
   "cell_type": "code",
   "execution_count": null,
   "metadata": {
    "ExecuteTime": {
     "end_time": "2019-06-17T04:24:52.063400Z",
     "start_time": "2019-06-17T04:24:52.058400Z"
    }
   },
   "outputs": [],
   "source": [
    "class ChildTest2(Test):\n",
    "    def greet(self):\n",
    "        super().greet()\n",
    "        print(\"Hi every one!!\")\n",
    "        \n",
    "\n",
    "hey = ChildTest2()        \n",
    "hey.greet()        "
   ]
  },
  {
   "cell_type": "code",
   "execution_count": null,
   "metadata": {
    "ExecuteTime": {
     "end_time": "2019-06-17T04:24:53.808400Z",
     "start_time": "2019-06-17T04:24:53.798400Z"
    }
   },
   "outputs": [],
   "source": [
    "class Test:\n",
    "    def __init__(self, a):\n",
    "        self.a = a\n",
    "        \n",
    "    def greet(self):\n",
    "        print(\"Hello !!\" + self.a)\n",
    "\n",
    "    def greet(self, b):\n",
    "        print(\"Hello !!\" + self.a + \",\" + b)\n",
    "        \n",
    "hey = Test(\"Tom\")\n",
    "hey.greet()"
   ]
  },
  {
   "cell_type": "code",
   "execution_count": null,
   "metadata": {},
   "outputs": [],
   "source": []
  }
 ],
 "metadata": {
  "kernelspec": {
   "display_name": "Python 3",
   "language": "python",
   "name": "python3"
  },
  "language_info": {
   "codemirror_mode": {
    "name": "ipython",
    "version": 3
   },
   "file_extension": ".py",
   "mimetype": "text/x-python",
   "name": "python",
   "nbconvert_exporter": "python",
   "pygments_lexer": "ipython3",
   "version": "3.7.4"
  },
  "toc": {
   "base_numbering": 1,
   "nav_menu": {},
   "number_sections": true,
   "sideBar": true,
   "skip_h1_title": false,
   "title_cell": "Table of Contents",
   "title_sidebar": "Contents",
   "toc_cell": false,
   "toc_position": {},
   "toc_section_display": true,
   "toc_window_display": false
  }
 },
 "nbformat": 4,
 "nbformat_minor": 2
}
