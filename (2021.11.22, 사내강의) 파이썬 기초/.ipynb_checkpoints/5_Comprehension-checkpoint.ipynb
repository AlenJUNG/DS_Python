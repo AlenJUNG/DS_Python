{
 "cells": [
  {
   "cell_type": "markdown",
   "metadata": {},
   "source": [
    "# list Comprehension"
   ]
  },
  {
   "cell_type": "code",
   "execution_count": null,
   "metadata": {
    "ExecuteTime": {
     "end_time": "2019-06-14T06:34:36.542800Z",
     "start_time": "2019-06-14T06:34:36.497800Z"
    }
   },
   "outputs": [],
   "source": [
    "# 일반적인 생각\n",
    "import random\n",
    "\n",
    "random.seed(10)\n",
    "rand_int_list = []\n",
    "for i in range(10):\n",
    "    rand_int_list.append(random.randint(1,10))\n",
    "\n",
    "print(rand_int_list)\n",
    "\n",
    "# comprehension\n",
    "random.seed(10)\n",
    "rand_int_list = [random.randint(1,10) for i in range(10)]\n",
    "print(rand_int_list)"
   ]
  },
  {
   "cell_type": "code",
   "execution_count": null,
   "metadata": {
    "ExecuteTime": {
     "end_time": "2019-06-14T06:34:40.092800Z",
     "start_time": "2019-06-14T06:34:40.088800Z"
    }
   },
   "outputs": [],
   "source": [
    "# 문자열에서 e 를 포함하지 않는 문자열만 추출\n",
    "words = ['aaa', 'bed', 'cccc', 'died']\n",
    "\n",
    "# 일반적인 생각\n",
    "note = []\n",
    "for w in words:\n",
    "    if 'e' not in w:\n",
    "        note.append(w)\n",
    "\n",
    "print(note)\n",
    "\n",
    "# comprehension\n",
    "note = [w for w in words if 'e' not in w ]\n",
    "print(note)"
   ]
  },
  {
   "cell_type": "markdown",
   "metadata": {
    "ExecuteTime": {
     "end_time": "2019-05-23T06:47:38.549400Z",
     "start_time": "2019-05-23T06:47:38.545400Z"
    }
   },
   "source": [
    "# set Comprehension"
   ]
  },
  {
   "cell_type": "code",
   "execution_count": null,
   "metadata": {
    "ExecuteTime": {
     "end_time": "2019-06-14T06:35:41.805800Z",
     "start_time": "2019-06-14T06:35:41.800800Z"
    }
   },
   "outputs": [],
   "source": [
    "# list comprehension 의 경우\n",
    "num = [a*b for a in range(5) for b in range(3)]\n",
    "print(num)\n",
    "\n",
    "# set comprehension 의 경우\n",
    "num = {a*b for a in range(5) for b in range(3)}\n",
    "print(num)"
   ]
  },
  {
   "cell_type": "markdown",
   "metadata": {
    "ExecuteTime": {
     "end_time": "2019-05-23T06:48:00.229400Z",
     "start_time": "2019-05-23T06:48:00.226400Z"
    }
   },
   "source": [
    "# dict Comprehension"
   ]
  },
  {
   "cell_type": "code",
   "execution_count": null,
   "metadata": {
    "ExecuteTime": {
     "end_time": "2019-05-23T06:46:36.675400Z",
     "start_time": "2019-05-23T06:46:36.670400Z"
    }
   },
   "outputs": [],
   "source": [
    "x = [2, 4, 6, 8]\n",
    "\n",
    "double = {i: i**2 for i in x}\n",
    "double"
   ]
  },
  {
   "cell_type": "code",
   "execution_count": null,
   "metadata": {
    "ExecuteTime": {
     "end_time": "2019-05-23T06:46:37.826400Z",
     "start_time": "2019-05-23T06:46:37.819400Z"
    }
   },
   "outputs": [],
   "source": [
    "period = ['5년', '10년', '15년']\n",
    "amount = [20, 30, 40]\n",
    "\n",
    "period_dict = {p: a for p, a in zip(period, amount)}\n",
    "period_dict"
   ]
  },
  {
   "cell_type": "code",
   "execution_count": null,
   "metadata": {
    "ExecuteTime": {
     "end_time": "2019-05-23T06:49:06.398400Z",
     "start_time": "2019-05-23T06:49:06.390400Z"
    }
   },
   "outputs": [],
   "source": [
    "tuple_list = [('5년', 20), ('10년', 30), ('15년', 40)]\n",
    "\n",
    "period_dict = {t[0]: t[1] for t in tuple_list}\n",
    "period_dict"
   ]
  },
  {
   "cell_type": "code",
   "execution_count": null,
   "metadata": {
    "ExecuteTime": {
     "end_time": "2019-05-23T06:49:27.214400Z",
     "start_time": "2019-05-23T06:49:27.208400Z"
    }
   },
   "outputs": [],
   "source": [
    "_dict = {\"one\":1, \"two\":2}    # , 'tmp':2\n",
    "# make sure all of dict's values are unique\n",
    "assert len(_dict) == len(set(_dict.values()))\n",
    "reversed_dict = {v: k for k, v in _dict.items()}\n",
    "reversed_dict"
   ]
  }
 ],
 "metadata": {
  "kernelspec": {
   "display_name": "Python 3",
   "language": "python",
   "name": "python3"
  },
  "language_info": {
   "codemirror_mode": {
    "name": "ipython",
    "version": 3
   },
   "file_extension": ".py",
   "mimetype": "text/x-python",
   "name": "python",
   "nbconvert_exporter": "python",
   "pygments_lexer": "ipython3",
   "version": "3.7.4"
  },
  "toc": {
   "base_numbering": 1,
   "nav_menu": {},
   "number_sections": true,
   "sideBar": true,
   "skip_h1_title": false,
   "title_cell": "Table of Contents",
   "title_sidebar": "Contents",
   "toc_cell": false,
   "toc_position": {},
   "toc_section_display": true,
   "toc_window_display": false
  }
 },
 "nbformat": 4,
 "nbformat_minor": 2
}
