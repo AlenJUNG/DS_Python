{
 "cells": [
  {
   "cell_type": "markdown",
   "metadata": {},
   "source": [
    "# 다음 뉴스"
   ]
  },
  {
   "cell_type": "code",
   "execution_count": null,
   "metadata": {
    "ExecuteTime": {
     "end_time": "2019-06-10T05:41:07.760600Z",
     "start_time": "2019-06-10T05:41:07.173600Z"
    }
   },
   "outputs": [],
   "source": [
    "import requests\n",
    "from bs4 import BeautifulSoup \n",
    "\n",
    "url = 'https://news.daum.net/'\n",
    "proxy = {'http':'http://아이피:포트번호', 'https':'http://아이피:포트번호'}\n",
    "response = requests.get(url, proxies=proxy, verify=False)\n",
    "\n",
    "soup = BeautifulSoup(response.text, 'html.parser')\n",
    "\n",
    "# print(soup)\n",
    "\n",
    "# 급상승 검색어 부분 \n",
    "headlines = soup.findAll(class_=['list_headline'])\n",
    "\n",
    "for headline in headlines:\n",
    "    for title in headline.findAll('a'):\n",
    "        print(title.text.strip())"
   ]
  },
  {
   "cell_type": "markdown",
   "metadata": {},
   "source": [
    "# 교보문고 파이썬 도서 검색"
   ]
  },
  {
   "cell_type": "code",
   "execution_count": null,
   "metadata": {
    "ExecuteTime": {
     "start_time": "2019-06-11T06:22:36.259Z"
    },
    "scrolled": true
   },
   "outputs": [],
   "source": [
    "# 셀레니움 설치 는 pip install selenium\n",
    "# webdriver :: 디바이스에 설치된 브라우저 제어\n",
    "from selenium import webdriver\n",
    "from selenium.webdriver.chrome.service import Service\n",
    "from selenium.webdriver.common.by import By\n",
    "import win32com.client #엑셀\n",
    "from bs4 import BeautifulSoup\n",
    "import time\n",
    "# import ssl\n",
    "\n",
    "# ssl._create_default_https_context()\n",
    "\n",
    "# 크롬 웹 드라이버의 경로를 설정합니다.\n",
    "s = Service('C:\\chromedriver.exe')\n",
    "driver = webdriver.Chrome(service = s)\n",
    "\n",
    "# 암묵적으로 웹 자원 로드를 위해 3초까지 기다려 준다.\n",
    "driver.implicitly_wait(3)\n",
    "\n",
    "# 크롬을 통해 교보문고 화면에 접속합니다.\n",
    "driver.get('http://www.kyobobook.co.kr')\n",
    "\n",
    "# 팝업 닫기 & 창 전환\n",
    "if len(driver.window_handles) > 1 :\n",
    "    window_main = driver.window_handles[0]\n",
    "    window_pop = driver.window_handles[1]\n",
    "    driver.switch_to.window(window_pop)\n",
    "    driver.close()\n",
    "    driver.switch_to.window(window_main)\n",
    "\n",
    "# 파이썬 도서 검색\n",
    "driver.find_element(By.NAME, 'searchKeyword').send_keys('파이썬 머신러닝')\n",
    "\n",
    "# 너무 빨리 지나가서 일부러 tempo 부여.\n",
    "time.sleep(0.5)\n",
    "\n",
    "# 검색 버튼 클릭\n",
    "driver.find_element(By.XPATH, '//*[@id=\"searchTop\"]/div/input').click()\n",
    "\n",
    "\n",
    "# 페이지의 element 모두 가져오기\n",
    "html = driver.page_source\n",
    "\n",
    "# BeautifulSoup 사용하기\n",
    "soup = BeautifulSoup(html, 'html.parser')\n",
    "body = soup.find('table', class_='type_list')\n",
    "list = body.findAll(class_ ='title')\n",
    "\n",
    "# 엑셀 생성\n",
    "excel = win32com.client.Dispatch(\"Excel.Application\")\n",
    "excel_file = excel.Workbooks.Add()\n",
    "sheet = excel_file.Worksheets(\"Sheet1\")\n",
    "\n",
    "sheet.Cells(1,1).Value = 'SEQ'\n",
    "sheet.Cells(1,2).Value = '도서목록'\n",
    "\n",
    "i = 2\n",
    "\n",
    "# 타이틀 검색\n",
    "for item in list:\n",
    "    title = item.find(\"strong\") # strong 태그 찾기\n",
    "    \n",
    "    if title != None:\n",
    "        text = title.text.strip()\n",
    "        print(text)\n",
    "        sheet.Cells(i,1).Value = i-1\n",
    "        sheet.Cells(i,2).Value = text\n",
    "        i += 1  \n",
    "        \n",
    "sheet.Columns.AutoFit()    # 자동 열 맞춤\n",
    "\n",
    "# 엑셀 저장 및 close\n",
    "excel_file.SaveAs(\"C:\\Books.xlsx\")\n",
    "excel.Quit()\n",
    "\n",
    "sheet = None\n",
    "excel = None  \n",
    "\n",
    "# 브라우저 종료\n",
    "driver.close()"
   ]
  },
  {
   "cell_type": "markdown",
   "metadata": {},
   "source": [
    "# Documentation \n",
    " - beautifulsoup4  \n",
    "  https://www.crummy.com/software/BeautifulSoup/bs4/doc/\n",
    " - selenium  \n",
    "  https://selenium-python.readthedocs.io/"
   ]
  }
 ],
 "metadata": {
  "kernelspec": {
   "display_name": "Python 3",
   "language": "python",
   "name": "python3"
  },
  "language_info": {
   "codemirror_mode": {
    "name": "ipython",
    "version": 3
   },
   "file_extension": ".py",
   "mimetype": "text/x-python",
   "name": "python",
   "nbconvert_exporter": "python",
   "pygments_lexer": "ipython3",
   "version": "3.7.4"
  },
  "toc": {
   "base_numbering": 1,
   "nav_menu": {},
   "number_sections": true,
   "sideBar": true,
   "skip_h1_title": false,
   "title_cell": "Table of Contents",
   "title_sidebar": "Contents",
   "toc_cell": false,
   "toc_position": {},
   "toc_section_display": true,
   "toc_window_display": false
  }
 },
 "nbformat": 4,
 "nbformat_minor": 2
}
