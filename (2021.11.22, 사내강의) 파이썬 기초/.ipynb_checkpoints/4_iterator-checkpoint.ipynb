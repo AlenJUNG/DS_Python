{
 "cells": [
  {
   "cell_type": "markdown",
   "metadata": {},
   "source": [
    "# 들여쓰기"
   ]
  },
  {
   "cell_type": "code",
   "execution_count": null,
   "metadata": {
    "ExecuteTime": {
     "end_time": "2019-06-14T06:12:57.983800Z",
     "start_time": "2019-06-14T06:12:57.946800Z"
    },
    "scrolled": true
   },
   "outputs": [],
   "source": [
    "x = 2\n",
    "\n",
    "if x == 2:\n",
    "    print(x)\n",
    "    print(x+1)"
   ]
  },
  {
   "cell_type": "code",
   "execution_count": null,
   "metadata": {
    "ExecuteTime": {
     "end_time": "2019-06-14T06:13:00.027800Z",
     "start_time": "2019-06-14T06:13:00.022800Z"
    }
   },
   "outputs": [],
   "source": [
    "if x == 2:\n",
    "print(x)"
   ]
  },
  {
   "cell_type": "code",
   "execution_count": null,
   "metadata": {
    "ExecuteTime": {
     "end_time": "2019-06-14T06:13:03.112800Z",
     "start_time": "2019-06-14T06:13:03.108800Z"
    }
   },
   "outputs": [],
   "source": [
    "if x == 2:\n",
    "    print(x)\n",
    "  print(x+1)"
   ]
  },
  {
   "cell_type": "markdown",
   "metadata": {},
   "source": [
    "# 조건문"
   ]
  },
  {
   "cell_type": "code",
   "execution_count": null,
   "metadata": {
    "ExecuteTime": {
     "end_time": "2019-06-14T06:14:43.790800Z",
     "start_time": "2019-06-14T06:14:43.785800Z"
    }
   },
   "outputs": [],
   "source": [
    "if x < 0:\n",
    "    x = 0\n",
    "    print('Negative changed to zero')\n",
    "elif x == 0:\n",
    "    print('Zero')\n",
    "elif x == 1:\n",
    "    print('Single')\n",
    "else:\n",
    "    x=15\n",
    "    print('More')  "
   ]
  },
  {
   "cell_type": "code",
   "execution_count": null,
   "metadata": {
    "ExecuteTime": {
     "end_time": "2019-06-14T06:14:44.429800Z",
     "start_time": "2019-06-14T06:14:44.425800Z"
    }
   },
   "outputs": [],
   "source": [
    "if x >= 10:\n",
    "    print('10이상입니다.')\n",
    "    if 15 <= x < 20:\n",
    "        print('15이상 20미만 입니다.')\n",
    "    elif x == 20:\n",
    "        print('20입니다.')"
   ]
  },
  {
   "cell_type": "code",
   "execution_count": null,
   "metadata": {
    "ExecuteTime": {
     "end_time": "2019-06-14T06:14:45.950800Z",
     "start_time": "2019-06-14T06:14:45.947800Z"
    }
   },
   "outputs": [],
   "source": [
    "if x <= 15:\n",
    "    pass  # pass를 넣지 않으면 indentationError발생\n",
    "else:\n",
    "    print('15보다 크거나 같다')"
   ]
  },
  {
   "cell_type": "code",
   "execution_count": null,
   "metadata": {
    "ExecuteTime": {
     "end_time": "2019-06-14T06:14:46.646800Z",
     "start_time": "2019-06-14T06:14:46.643800Z"
    }
   },
   "outputs": [],
   "source": [
    "print('0 이상' if x >= 0 else '음수')"
   ]
  },
  {
   "cell_type": "markdown",
   "metadata": {},
   "source": [
    "# 반복문"
   ]
  },
  {
   "cell_type": "markdown",
   "metadata": {},
   "source": [
    "## while"
   ]
  },
  {
   "cell_type": "code",
   "execution_count": null,
   "metadata": {
    "ExecuteTime": {
     "end_time": "2019-05-22T04:22:42.033586Z",
     "start_time": "2019-05-22T04:22:42.028601Z"
    },
    "scrolled": true
   },
   "outputs": [],
   "source": [
    "n = 5\n",
    "while n > 0:\n",
    "    n -= 1\n",
    "    print(' '*n, '*'*(1+(4-n)*2), ' '*n)\n",
    "else:\n",
    "    print('end print stars')"
   ]
  },
  {
   "cell_type": "markdown",
   "metadata": {},
   "source": [
    "## for"
   ]
  },
  {
   "cell_type": "code",
   "execution_count": null,
   "metadata": {
    "ExecuteTime": {
     "end_time": "2019-06-14T06:23:07.276800Z",
     "start_time": "2019-06-14T06:23:07.267800Z"
    }
   },
   "outputs": [],
   "source": [
    "import random\n",
    "strike, ball = 0, 0\n",
    "\n",
    "for i in range(7):\n",
    "    rand_i = random.randint(0, 1)\n",
    "\n",
    "    if rand_i == 1:\n",
    "        strike += 1\n",
    "    else:\n",
    "        ball += 1\n",
    "\n",
    "    print(ball, 'balls', strike, 'strikes')\n",
    "\n",
    "    if strike == 3:\n",
    "        print('strike out')\n",
    "        break\n",
    "\n",
    "    if ball == 4:\n",
    "        print('four-ball')\n",
    "        break"
   ]
  },
  {
   "cell_type": "markdown",
   "metadata": {},
   "source": [
    "## 내장 컨테이너 자료형의 Iterator"
   ]
  },
  {
   "cell_type": "markdown",
   "metadata": {},
   "source": [
    "대표적인 iterable 한 타입 list, tuple, set, dict, range, str, bytes  \n",
    "대표적인 iterable 하지 않은 타입 int, float, none"
   ]
  },
  {
   "cell_type": "code",
   "execution_count": null,
   "metadata": {},
   "outputs": [],
   "source": [
    "import collections.abc\n",
    "\n",
    "# iterable\n",
    "a = [0,1,2,3]\n",
    "b = (0,1,2,3)\n",
    "c = {\"고양이\" : \"cat\", \"개\": \"dog\"}\n",
    "d = {0,1,2,3}\n",
    "e = range(4)\n",
    "\n",
    "print(\"list  iterable : \", isinstance(a, collections.abc.Iterable))\n",
    "print(\"tuple iterable : \", isinstance(b, collections.abc.Iterable))\n",
    "print(\"dict  iterable : \", isinstance(c, collections.abc.Iterable))\n",
    "print(\"set   iterable : \", isinstance(d, collections.abc.Iterable))\n",
    "print(\"range iterable : \", isinstance(e, collections.abc.Iterable))"
   ]
  },
  {
   "cell_type": "code",
   "execution_count": null,
   "metadata": {},
   "outputs": [],
   "source": [
    "# not iterable\n",
    "f = 100\n",
    "g = 100.0\n",
    "h = None\n",
    "print(\"int   iterable : \", isinstance(f, collections.abc.Iterable))\n",
    "print(\"float iterable : \", isinstance(g, collections.abc.Iterable))\n",
    "print(\"None  iterable : \", isinstance(h, collections.abc.Iterable))"
   ]
  },
  {
   "cell_type": "markdown",
   "metadata": {
    "ExecuteTime": {
     "end_time": "2019-06-14T06:20:40.452800Z",
     "start_time": "2019-06-14T06:20:40.449800Z"
    }
   },
   "source": [
    "### list"
   ]
  },
  {
   "cell_type": "code",
   "execution_count": null,
   "metadata": {
    "ExecuteTime": {
     "end_time": "2019-06-14T06:23:09.828800Z",
     "start_time": "2019-06-14T06:23:09.823800Z"
    }
   },
   "outputs": [],
   "source": [
    "rand_int_list = []\n",
    "for i in range(10):\n",
    "    rand_int_list.append(random.randint(1,10))\n",
    "print(rand_int_list)"
   ]
  },
  {
   "cell_type": "code",
   "execution_count": null,
   "metadata": {},
   "outputs": [],
   "source": [
    "print(type(rand_int_list))"
   ]
  },
  {
   "cell_type": "code",
   "execution_count": null,
   "metadata": {},
   "outputs": [],
   "source": [
    "print(dir(rand_int_list))"
   ]
  },
  {
   "cell_type": "code",
   "execution_count": null,
   "metadata": {},
   "outputs": [],
   "source": [
    "print(iter(rand_int_list))"
   ]
  },
  {
   "cell_type": "code",
   "execution_count": null,
   "metadata": {},
   "outputs": [],
   "source": [
    "for int_v in rand_int_list:  # list iterator\n",
    "    print(int_v, end=', ')"
   ]
  },
  {
   "cell_type": "markdown",
   "metadata": {
    "ExecuteTime": {
     "end_time": "2019-06-14T06:20:54.758800Z",
     "start_time": "2019-06-14T06:20:54.754800Z"
    }
   },
   "source": [
    "### tuple"
   ]
  },
  {
   "cell_type": "code",
   "execution_count": null,
   "metadata": {
    "ExecuteTime": {
     "end_time": "2019-06-14T06:23:59.275800Z",
     "start_time": "2019-06-14T06:23:59.263800Z"
    },
    "scrolled": true
   },
   "outputs": [],
   "source": [
    "rand_int_tuple = tuple(rand_int_list)\n",
    "print(rand_int_tuple)"
   ]
  },
  {
   "cell_type": "code",
   "execution_count": null,
   "metadata": {},
   "outputs": [],
   "source": [
    "print(type(rand_int_tuple))"
   ]
  },
  {
   "cell_type": "code",
   "execution_count": null,
   "metadata": {},
   "outputs": [],
   "source": [
    "print(dir(rand_int_tuple))"
   ]
  },
  {
   "cell_type": "code",
   "execution_count": null,
   "metadata": {},
   "outputs": [],
   "source": [
    "print(iter(rand_int_tuple))"
   ]
  },
  {
   "cell_type": "code",
   "execution_count": null,
   "metadata": {},
   "outputs": [],
   "source": [
    "for int_v in rand_int_tuple:  # tuple iterator\n",
    "    print(int_v, end=', ')"
   ]
  },
  {
   "cell_type": "markdown",
   "metadata": {},
   "source": [
    "### set"
   ]
  },
  {
   "cell_type": "code",
   "execution_count": null,
   "metadata": {
    "ExecuteTime": {
     "end_time": "2019-06-14T06:24:23.782800Z",
     "start_time": "2019-06-14T06:24:23.777800Z"
    },
    "scrolled": true
   },
   "outputs": [],
   "source": [
    "rand_int_set = set(rand_int_tuple)  # 중복 사라짐\n",
    "print(rand_int_set)"
   ]
  },
  {
   "cell_type": "code",
   "execution_count": null,
   "metadata": {},
   "outputs": [],
   "source": [
    "print(type(rand_int_set))"
   ]
  },
  {
   "cell_type": "code",
   "execution_count": null,
   "metadata": {},
   "outputs": [],
   "source": [
    "print(dir(rand_int_set))"
   ]
  },
  {
   "cell_type": "code",
   "execution_count": null,
   "metadata": {},
   "outputs": [],
   "source": [
    "print(iter(rand_int_set))"
   ]
  },
  {
   "cell_type": "code",
   "execution_count": null,
   "metadata": {},
   "outputs": [],
   "source": [
    "for int_v in rand_int_set:  # set iterator\n",
    "    print(int_v, end=', ')"
   ]
  },
  {
   "cell_type": "markdown",
   "metadata": {},
   "source": [
    "### dict"
   ]
  },
  {
   "cell_type": "code",
   "execution_count": null,
   "metadata": {
    "ExecuteTime": {
     "end_time": "2019-06-14T06:25:16.078800Z",
     "start_time": "2019-06-14T06:25:16.073800Z"
    }
   },
   "outputs": [],
   "source": [
    "rand_int_dict = dict.fromkeys(rand_int_set)  # value가 None인 dictionary\n",
    "print(rand_int_dict)"
   ]
  },
  {
   "cell_type": "code",
   "execution_count": null,
   "metadata": {},
   "outputs": [],
   "source": [
    "print(type(rand_int_dict))"
   ]
  },
  {
   "cell_type": "code",
   "execution_count": null,
   "metadata": {},
   "outputs": [],
   "source": [
    "print(dir(rand_int_dict))"
   ]
  },
  {
   "cell_type": "code",
   "execution_count": null,
   "metadata": {},
   "outputs": [],
   "source": [
    "print(iter(rand_int_dict))"
   ]
  },
  {
   "cell_type": "code",
   "execution_count": null,
   "metadata": {},
   "outputs": [],
   "source": [
    "for int_v in rand_int_dict:  # dict iterator. key만 출력된다.\n",
    "    print(int_v, end=', ')"
   ]
  },
  {
   "cell_type": "code",
   "execution_count": null,
   "metadata": {
    "ExecuteTime": {
     "end_time": "2019-06-14T06:25:21.381800Z",
     "start_time": "2019-06-14T06:25:21.377800Z"
    },
    "scrolled": true
   },
   "outputs": [],
   "source": [
    "for key, value in rand_int_dict.items():  # key, value모두 출력시 items()함수를 이용.\n",
    "    print(key, value, end=', ')"
   ]
  },
  {
   "cell_type": "markdown",
   "metadata": {},
   "source": [
    "## enumerate(), zip()"
   ]
  },
  {
   "cell_type": "code",
   "execution_count": null,
   "metadata": {
    "ExecuteTime": {
     "end_time": "2019-06-14T06:26:46.400800Z",
     "start_time": "2019-06-14T06:26:46.391800Z"
    }
   },
   "outputs": [],
   "source": [
    "list(enumerate(rand_int_list))"
   ]
  },
  {
   "cell_type": "code",
   "execution_count": null,
   "metadata": {
    "ExecuteTime": {
     "end_time": "2019-06-14T06:27:11.037800Z",
     "start_time": "2019-06-14T06:27:11.033800Z"
    }
   },
   "outputs": [],
   "source": [
    "for idx, int_v in enumerate(rand_int_list):\n",
    "    print(idx, int_v)"
   ]
  },
  {
   "cell_type": "code",
   "execution_count": null,
   "metadata": {
    "ExecuteTime": {
     "end_time": "2019-06-14T06:27:15.981800Z",
     "start_time": "2019-06-14T06:27:15.977800Z"
    }
   },
   "outputs": [],
   "source": [
    "rand_char_list = []\n",
    "for i in range(10):\n",
    "    rand_char_list.append(chr(random.randint(65,90)))\n",
    "print(rand_char_list)   "
   ]
  },
  {
   "cell_type": "code",
   "execution_count": null,
   "metadata": {
    "ExecuteTime": {
     "end_time": "2019-06-14T06:27:24.110800Z",
     "start_time": "2019-06-14T06:27:24.106800Z"
    }
   },
   "outputs": [],
   "source": [
    "list(zip(rand_int_list, rand_char_list))"
   ]
  },
  {
   "cell_type": "code",
   "execution_count": null,
   "metadata": {
    "ExecuteTime": {
     "end_time": "2019-06-14T06:30:34.320800Z",
     "start_time": "2019-06-14T06:30:34.315800Z"
    }
   },
   "outputs": [],
   "source": [
    "dict_by_zip = dict(zip(rand_int_list, rand_char_list))\n",
    "\n",
    "dict_by_zip"
   ]
  },
  {
   "cell_type": "code",
   "execution_count": null,
   "metadata": {
    "ExecuteTime": {
     "end_time": "2019-06-14T06:30:37.012800Z",
     "start_time": "2019-06-14T06:30:37.009800Z"
    }
   },
   "outputs": [],
   "source": [
    "for key, value in dict_by_zip.items():  \n",
    "    print(key, value, sep=':', end=' ')"
   ]
  },
  {
   "cell_type": "code",
   "execution_count": null,
   "metadata": {
    "ExecuteTime": {
     "end_time": "2019-05-23T06:33:49.980400Z",
     "start_time": "2019-05-23T06:33:49.975400Z"
    }
   },
   "outputs": [],
   "source": [
    "team = ['A', 'B', 'C', 'D']      \n",
    "country = ['Korea', 'America', 'France', 'China']\n",
    "player = ['kim', 'hans', 'guillaume', 'cheng']\n",
    "\n",
    "for a1, a2, a3 in zip(team, country, player):\n",
    "    print(f\"소속 {a1} / 국가 {a2} / 이름 {a3}\")"
   ]
  }
 ],
 "metadata": {
  "kernelspec": {
   "display_name": "Python 3",
   "language": "python",
   "name": "python3"
  },
  "language_info": {
   "codemirror_mode": {
    "name": "ipython",
    "version": 3
   },
   "file_extension": ".py",
   "mimetype": "text/x-python",
   "name": "python",
   "nbconvert_exporter": "python",
   "pygments_lexer": "ipython3",
   "version": "3.7.4"
  },
  "toc": {
   "base_numbering": 1,
   "nav_menu": {},
   "number_sections": true,
   "sideBar": true,
   "skip_h1_title": false,
   "title_cell": "Table of Contents",
   "title_sidebar": "Contents",
   "toc_cell": false,
   "toc_position": {},
   "toc_section_display": true,
   "toc_window_display": false
  }
 },
 "nbformat": 4,
 "nbformat_minor": 2
}
