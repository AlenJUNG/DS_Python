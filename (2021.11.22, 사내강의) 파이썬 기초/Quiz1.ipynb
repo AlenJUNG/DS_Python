{
 "cells": [
  {
   "cell_type": "markdown",
   "id": "94f2392b",
   "metadata": {},
   "source": [
    "## 1. 다음 리스트의 중복을 제거하세요."
   ]
  },
  {
   "cell_type": "code",
   "execution_count": 4,
   "id": "2991aa5d",
   "metadata": {},
   "outputs": [],
   "source": [
    "aa = [ 1, 2, 3, 4, 5, 5, 5, 6]"
   ]
  },
  {
   "cell_type": "code",
   "execution_count": null,
   "id": "6018917f",
   "metadata": {},
   "outputs": [],
   "source": []
  },
  {
   "cell_type": "markdown",
   "id": "c18d32aa",
   "metadata": {},
   "source": [
    "## 2. 아래 bb 의 구조체 타입은 무엇입니까?"
   ]
  },
  {
   "cell_type": "code",
   "execution_count": 9,
   "id": "05e33a07",
   "metadata": {},
   "outputs": [],
   "source": [
    "bb = {1, \"안녕하세요\", ('ss', 'tt')}"
   ]
  },
  {
   "cell_type": "code",
   "execution_count": null,
   "id": "4ec98d31",
   "metadata": {},
   "outputs": [],
   "source": []
  },
  {
   "cell_type": "markdown",
   "id": "492a40fb",
   "metadata": {},
   "source": [
    "## 3. 1~ 10 까지의 수 중 짝수를 요소로 가지는 tuple 을 생성하세요.(range 함수 활용)"
   ]
  },
  {
   "cell_type": "code",
   "execution_count": null,
   "id": "c0437ba9",
   "metadata": {},
   "outputs": [],
   "source": []
  }
 ],
 "metadata": {
  "kernelspec": {
   "display_name": "Python 3",
   "language": "python",
   "name": "python3"
  },
  "language_info": {
   "codemirror_mode": {
    "name": "ipython",
    "version": 3
   },
   "file_extension": ".py",
   "mimetype": "text/x-python",
   "name": "python",
   "nbconvert_exporter": "python",
   "pygments_lexer": "ipython3",
   "version": "3.8.3"
  }
 },
 "nbformat": 4,
 "nbformat_minor": 5
}
