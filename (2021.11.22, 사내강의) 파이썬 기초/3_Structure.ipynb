{
 "cells": [
  {
   "cell_type": "markdown",
   "metadata": {},
   "source": [
    "# 리스트"
   ]
  },
  {
   "cell_type": "markdown",
   "metadata": {},
   "source": [
    "##  리스트 만들기"
   ]
  },
  {
   "cell_type": "code",
   "execution_count": null,
   "metadata": {
    "ExecuteTime": {
     "end_time": "2019-05-27T01:21:58.124727Z",
     "start_time": "2019-05-27T01:21:58.121740Z"
    },
    "scrolled": false
   },
   "outputs": [],
   "source": [
    "color_list = ['black', 448668, 'red', 556757, ['blue', 'green']]\n",
    "\n",
    "print(color_list)"
   ]
  },
  {
   "cell_type": "code",
   "execution_count": null,
   "metadata": {
    "ExecuteTime": {
     "end_time": "2019-05-27T01:11:13.282001Z",
     "start_time": "2019-05-27T01:11:13.279009Z"
    }
   },
   "outputs": [],
   "source": [
    "print(type(color_list))"
   ]
  },
  {
   "cell_type": "code",
   "execution_count": null,
   "metadata": {
    "ExecuteTime": {
     "end_time": "2019-05-27T01:11:57.302340Z",
     "start_time": "2019-05-27T01:11:57.298389Z"
    },
    "scrolled": true
   },
   "outputs": [],
   "source": [
    "empty_list = []\n",
    "empty_list2 = list()\n",
    "\n",
    "print(empty_list)\n",
    "print(empty_list2)"
   ]
  },
  {
   "cell_type": "markdown",
   "metadata": {},
   "source": [
    "## 리스트 연산"
   ]
  },
  {
   "cell_type": "code",
   "execution_count": null,
   "metadata": {
    "ExecuteTime": {
     "end_time": "2019-05-27T01:11:58.142095Z",
     "start_time": "2019-05-27T01:11:58.137142Z"
    }
   },
   "outputs": [],
   "source": [
    "colors1 = ['white', 'yellow', 'brown']\n",
    "colors2 = ['pink', 'purple', 'sky']\n",
    "\n",
    "added_list = colors1 + colors2\n",
    "\n",
    "print(added_list)"
   ]
  },
  {
   "cell_type": "code",
   "execution_count": null,
   "metadata": {
    "ExecuteTime": {
     "end_time": "2019-05-27T01:11:58.894120Z",
     "start_time": "2019-05-27T01:11:58.891125Z"
    }
   },
   "outputs": [],
   "source": [
    "multi_list = colors1 * 3\n",
    "\n",
    "print(multi_list)"
   ]
  },
  {
   "cell_type": "code",
   "execution_count": null,
   "metadata": {
    "ExecuteTime": {
     "end_time": "2019-05-27T01:12:13.637451Z",
     "start_time": "2019-05-27T01:12:13.634458Z"
    }
   },
   "outputs": [],
   "source": [
    "concat_list = [*empty_list, *colors1, *colors2]\n",
    "\n",
    "print(concat_list)"
   ]
  },
  {
   "cell_type": "markdown",
   "metadata": {},
   "source": [
    "## 리스트 인덱싱과 슬라이싱"
   ]
  },
  {
   "cell_type": "code",
   "execution_count": null,
   "metadata": {},
   "outputs": [],
   "source": [
    "color_list"
   ]
  },
  {
   "cell_type": "code",
   "execution_count": null,
   "metadata": {
    "ExecuteTime": {
     "end_time": "2019-05-21T08:56:19.310037Z",
     "start_time": "2019-05-21T08:56:19.307038Z"
    }
   },
   "outputs": [],
   "source": [
    "color_list[0]"
   ]
  },
  {
   "cell_type": "code",
   "execution_count": null,
   "metadata": {
    "ExecuteTime": {
     "end_time": "2019-05-21T08:56:20.318345Z",
     "start_time": "2019-05-21T08:56:20.313358Z"
    }
   },
   "outputs": [],
   "source": [
    "color_list[-1]"
   ]
  },
  {
   "cell_type": "code",
   "execution_count": null,
   "metadata": {
    "ExecuteTime": {
     "end_time": "2019-05-21T08:56:21.229905Z",
     "start_time": "2019-05-21T08:56:21.225952Z"
    }
   },
   "outputs": [],
   "source": [
    "color_list[:3]"
   ]
  },
  {
   "cell_type": "code",
   "execution_count": null,
   "metadata": {
    "ExecuteTime": {
     "end_time": "2019-05-27T01:12:22.881729Z",
     "start_time": "2019-05-27T01:12:22.874747Z"
    }
   },
   "outputs": [],
   "source": [
    "color_list[::2]"
   ]
  },
  {
   "cell_type": "code",
   "execution_count": null,
   "metadata": {
    "ExecuteTime": {
     "end_time": "2019-05-27T01:12:55.628845Z",
     "start_time": "2019-05-27T01:12:55.624856Z"
    }
   },
   "outputs": [],
   "source": [
    "color_list[0] = 'gray'\n",
    "\n",
    "color_list"
   ]
  },
  {
   "cell_type": "code",
   "execution_count": null,
   "metadata": {
    "ExecuteTime": {
     "end_time": "2019-05-27T01:12:50.858639Z",
     "start_time": "2019-05-27T01:12:50.855649Z"
    }
   },
   "outputs": [],
   "source": [
    "color_list[2:4] = ['crimson', 665874]\n",
    "\n",
    "color_list"
   ]
  },
  {
   "cell_type": "markdown",
   "metadata": {},
   "source": [
    "## 리스트 함수들"
   ]
  },
  {
   "cell_type": "code",
   "execution_count": null,
   "metadata": {},
   "outputs": [],
   "source": [
    "dir(list)"
   ]
  },
  {
   "cell_type": "code",
   "execution_count": null,
   "metadata": {
    "ExecuteTime": {
     "end_time": "2019-05-27T01:13:41.894284Z",
     "start_time": "2019-05-27T01:13:41.890294Z"
    }
   },
   "outputs": [],
   "source": [
    "del color_list[4:]\n",
    "\n",
    "color_list"
   ]
  },
  {
   "cell_type": "code",
   "execution_count": null,
   "metadata": {
    "ExecuteTime": {
     "end_time": "2019-05-21T09:01:09.624257Z",
     "start_time": "2019-05-21T09:01:09.620266Z"
    }
   },
   "outputs": [],
   "source": [
    "len(color_list)"
   ]
  },
  {
   "cell_type": "code",
   "execution_count": null,
   "metadata": {
    "ExecuteTime": {
     "end_time": "2019-05-21T08:56:41.437215Z",
     "start_time": "2019-05-21T08:56:41.432233Z"
    }
   },
   "outputs": [],
   "source": [
    "'grey' in color_list"
   ]
  },
  {
   "cell_type": "code",
   "execution_count": null,
   "metadata": {
    "ExecuteTime": {
     "end_time": "2019-05-21T09:01:13.494865Z",
     "start_time": "2019-05-21T09:01:13.489878Z"
    }
   },
   "outputs": [],
   "source": [
    "all(color_list)"
   ]
  },
  {
   "cell_type": "code",
   "execution_count": null,
   "metadata": {
    "ExecuteTime": {
     "end_time": "2019-05-21T08:53:16.325674Z",
     "start_time": "2019-05-21T08:53:16.322675Z"
    }
   },
   "outputs": [],
   "source": [
    "any(color_list)"
   ]
  },
  {
   "cell_type": "code",
   "execution_count": null,
   "metadata": {
    "ExecuteTime": {
     "end_time": "2019-05-21T08:53:51.783467Z",
     "start_time": "2019-05-21T08:53:51.779479Z"
    }
   },
   "outputs": [],
   "source": [
    "all([True, False, False])"
   ]
  },
  {
   "cell_type": "code",
   "execution_count": null,
   "metadata": {
    "ExecuteTime": {
     "end_time": "2019-05-21T08:55:05.365969Z",
     "start_time": "2019-05-21T08:55:05.359987Z"
    }
   },
   "outputs": [],
   "source": [
    "any([True, False, False])"
   ]
  },
  {
   "cell_type": "code",
   "execution_count": null,
   "metadata": {
    "ExecuteTime": {
     "end_time": "2019-05-21T09:01:15.207284Z",
     "start_time": "2019-05-21T09:01:15.203335Z"
    }
   },
   "outputs": [],
   "source": [
    "color_list.append('coral')\n",
    "\n",
    "color_list"
   ]
  },
  {
   "cell_type": "code",
   "execution_count": null,
   "metadata": {
    "ExecuteTime": {
     "end_time": "2019-05-21T09:01:18.709947Z",
     "start_time": "2019-05-21T09:01:18.706953Z"
    }
   },
   "outputs": [],
   "source": [
    "color_list.index('crimson')"
   ]
  },
  {
   "cell_type": "code",
   "execution_count": null,
   "metadata": {
    "ExecuteTime": {
     "end_time": "2019-05-21T09:01:22.511740Z",
     "start_time": "2019-05-21T09:01:22.507786Z"
    }
   },
   "outputs": [],
   "source": [
    "color_list.remove('crimson')"
   ]
  },
  {
   "cell_type": "code",
   "execution_count": null,
   "metadata": {
    "ExecuteTime": {
     "end_time": "2019-05-21T09:01:24.246097Z",
     "start_time": "2019-05-21T09:01:24.241111Z"
    }
   },
   "outputs": [],
   "source": [
    "color_list.insert(1, 'silver')\n",
    "\n",
    "color_list"
   ]
  },
  {
   "cell_type": "code",
   "execution_count": null,
   "metadata": {
    "ExecuteTime": {
     "end_time": "2019-05-21T09:01:27.479484Z",
     "start_time": "2019-05-21T09:01:27.475491Z"
    }
   },
   "outputs": [],
   "source": [
    "reversed_list = reversed(color_list)\n",
    "\n",
    "list(reversed_list)"
   ]
  },
  {
   "cell_type": "code",
   "execution_count": null,
   "metadata": {
    "ExecuteTime": {
     "end_time": "2019-05-21T09:01:59.151070Z",
     "start_time": "2019-05-21T09:01:59.147072Z"
    }
   },
   "outputs": [],
   "source": [
    "print(color_list)\n",
    "\n",
    "color_list.reverse()\n",
    "\n",
    "color_list"
   ]
  },
  {
   "cell_type": "code",
   "execution_count": null,
   "metadata": {
    "ExecuteTime": {
     "end_time": "2019-05-21T09:02:11.113985Z",
     "start_time": "2019-05-21T09:02:11.110989Z"
    }
   },
   "outputs": [],
   "source": [
    "color_list.pop()"
   ]
  },
  {
   "cell_type": "code",
   "execution_count": null,
   "metadata": {
    "ExecuteTime": {
     "end_time": "2019-05-21T09:02:19.462499Z",
     "start_time": "2019-05-21T09:02:19.459515Z"
    }
   },
   "outputs": [],
   "source": [
    "color_list"
   ]
  },
  {
   "cell_type": "code",
   "execution_count": null,
   "metadata": {
    "ExecuteTime": {
     "end_time": "2019-05-21T09:02:36.095285Z",
     "start_time": "2019-05-21T09:02:36.086339Z"
    }
   },
   "outputs": [],
   "source": [
    "color_list.sort()"
   ]
  },
  {
   "cell_type": "code",
   "execution_count": null,
   "metadata": {
    "ExecuteTime": {
     "end_time": "2019-05-21T09:03:23.297590Z",
     "start_time": "2019-05-21T09:03:23.293600Z"
    }
   },
   "outputs": [],
   "source": [
    "print(colors1)\n",
    "\n",
    "colors1.sort()\n",
    "\n",
    "colors1"
   ]
  },
  {
   "cell_type": "code",
   "execution_count": null,
   "metadata": {
    "ExecuteTime": {
     "end_time": "2019-05-21T09:04:05.654506Z",
     "start_time": "2019-05-21T09:04:05.649556Z"
    }
   },
   "outputs": [],
   "source": [
    "print(colors2)\n",
    "\n",
    "sorted_color2 = sorted(colors2, reverse = True)\n",
    "\n",
    "sorted_color2"
   ]
  },
  {
   "cell_type": "code",
   "execution_count": null,
   "metadata": {},
   "outputs": [],
   "source": [
    "empty_list.append(colors1)"
   ]
  },
  {
   "cell_type": "code",
   "execution_count": null,
   "metadata": {},
   "outputs": [],
   "source": [
    "empty_list.pop()"
   ]
  },
  {
   "cell_type": "code",
   "execution_count": null,
   "metadata": {
    "ExecuteTime": {
     "end_time": "2019-05-21T09:04:44.532643Z",
     "start_time": "2019-05-21T09:04:44.527658Z"
    },
    "scrolled": false
   },
   "outputs": [],
   "source": [
    "print(empty_list)\n",
    "\n",
    "empty_list.extend(colors1)\n",
    "\n",
    "empty_list"
   ]
  },
  {
   "cell_type": "markdown",
   "metadata": {},
   "source": [
    "## range"
   ]
  },
  {
   "cell_type": "code",
   "execution_count": null,
   "metadata": {
    "ExecuteTime": {
     "end_time": "2019-05-21T09:04:59.020484Z",
     "start_time": "2019-05-21T09:04:59.017491Z"
    }
   },
   "outputs": [],
   "source": [
    "my_range = range(3, 10)"
   ]
  },
  {
   "cell_type": "code",
   "execution_count": null,
   "metadata": {
    "ExecuteTime": {
     "end_time": "2019-05-21T09:05:06.349005Z",
     "start_time": "2019-05-21T09:05:06.345015Z"
    }
   },
   "outputs": [],
   "source": [
    "print(type(my_range))"
   ]
  },
  {
   "cell_type": "code",
   "execution_count": null,
   "metadata": {
    "ExecuteTime": {
     "end_time": "2019-05-21T09:05:30.358900Z",
     "start_time": "2019-05-21T09:05:30.353913Z"
    }
   },
   "outputs": [],
   "source": [
    "range_list = list(range(3, 10))\n",
    "\n",
    "range_list"
   ]
  },
  {
   "cell_type": "code",
   "execution_count": null,
   "metadata": {
    "ExecuteTime": {
     "end_time": "2019-05-21T09:05:34.520797Z",
     "start_time": "2019-05-21T09:05:34.515811Z"
    }
   },
   "outputs": [],
   "source": [
    "rng_inc_2_list = list(range(0, 10, 2))\n",
    "\n",
    "rng_inc_2_list"
   ]
  },
  {
   "cell_type": "code",
   "execution_count": null,
   "metadata": {
    "ExecuteTime": {
     "end_time": "2019-05-27T01:14:58.437898Z",
     "start_time": "2019-05-27T01:14:58.434928Z"
    }
   },
   "outputs": [],
   "source": [
    "range(10)"
   ]
  },
  {
   "cell_type": "code",
   "execution_count": null,
   "metadata": {
    "ExecuteTime": {
     "end_time": "2019-05-27T01:15:03.381676Z",
     "start_time": "2019-05-27T01:15:03.377684Z"
    }
   },
   "outputs": [],
   "source": [
    "range(0,10,1)"
   ]
  },
  {
   "cell_type": "markdown",
   "metadata": {},
   "source": [
    "# 튜플 자료형"
   ]
  },
  {
   "cell_type": "markdown",
   "metadata": {},
   "source": [
    "## 튜플 만들기"
   ]
  },
  {
   "cell_type": "code",
   "execution_count": null,
   "metadata": {
    "ExecuteTime": {
     "end_time": "2019-05-21T09:06:01.088899Z",
     "start_time": "2019-05-21T09:06:01.083930Z"
    }
   },
   "outputs": [],
   "source": [
    "lang_tuple = ('python', 'java', ('perl', 'ruby'), ['JS', 'HTML'], 5)\n",
    "\n",
    "lang_tuple"
   ]
  },
  {
   "cell_type": "code",
   "execution_count": null,
   "metadata": {
    "ExecuteTime": {
     "end_time": "2019-05-21T09:06:18.817897Z",
     "start_time": "2019-05-21T09:06:18.814870Z"
    }
   },
   "outputs": [],
   "source": [
    "print(type(lang_tuple))"
   ]
  },
  {
   "cell_type": "code",
   "execution_count": null,
   "metadata": {
    "ExecuteTime": {
     "end_time": "2019-05-21T09:06:34.076080Z",
     "start_time": "2019-05-21T09:06:34.071082Z"
    }
   },
   "outputs": [],
   "source": [
    "empty_tuple = ()\n",
    "\n",
    "empty_tuple2 = tuple()\n",
    "\n",
    "print(empty_tuple)\n",
    "\n",
    "print(empty_tuple2)"
   ]
  },
  {
   "cell_type": "markdown",
   "metadata": {},
   "source": [
    "## 튜플 연산"
   ]
  },
  {
   "cell_type": "code",
   "execution_count": null,
   "metadata": {
    "ExecuteTime": {
     "end_time": "2019-05-22T00:19:29.259455Z",
     "start_time": "2019-05-22T00:19:29.254468Z"
    }
   },
   "outputs": [],
   "source": [
    "lang1 = ('python', 'java', ('perl', 'ruby'))\n",
    "lang2 = (['JS', 'HTML'], 5)"
   ]
  },
  {
   "cell_type": "code",
   "execution_count": null,
   "metadata": {
    "ExecuteTime": {
     "end_time": "2019-05-22T00:19:30.287702Z",
     "start_time": "2019-05-22T00:19:30.281749Z"
    }
   },
   "outputs": [],
   "source": [
    "lang1 + lang2"
   ]
  },
  {
   "cell_type": "code",
   "execution_count": null,
   "metadata": {
    "ExecuteTime": {
     "end_time": "2019-05-22T00:19:32.166676Z",
     "start_time": "2019-05-22T00:19:32.160709Z"
    }
   },
   "outputs": [],
   "source": [
    "lang2 * 3"
   ]
  },
  {
   "cell_type": "code",
   "execution_count": null,
   "metadata": {
    "ExecuteTime": {
     "end_time": "2019-05-22T00:19:33.393222Z",
     "start_time": "2019-05-22T00:19:33.388233Z"
    }
   },
   "outputs": [],
   "source": [
    "(*empty_tuple, *lang1, *lang2)"
   ]
  },
  {
   "cell_type": "markdown",
   "metadata": {},
   "source": [
    "## 튜플 인덱싱과 슬라이싱"
   ]
  },
  {
   "cell_type": "code",
   "execution_count": null,
   "metadata": {
    "ExecuteTime": {
     "end_time": "2019-05-22T00:19:48.393980Z",
     "start_time": "2019-05-22T00:19:48.387996Z"
    }
   },
   "outputs": [],
   "source": [
    "lang_tuple[0]"
   ]
  },
  {
   "cell_type": "code",
   "execution_count": null,
   "metadata": {
    "ExecuteTime": {
     "end_time": "2019-05-22T00:19:52.928846Z",
     "start_time": "2019-05-22T00:19:52.923860Z"
    }
   },
   "outputs": [],
   "source": [
    "lang_tuple[-1]"
   ]
  },
  {
   "cell_type": "code",
   "execution_count": null,
   "metadata": {
    "ExecuteTime": {
     "end_time": "2019-05-22T00:19:58.865663Z",
     "start_time": "2019-05-22T00:19:58.860677Z"
    }
   },
   "outputs": [],
   "source": [
    "lang_tuple[:3]"
   ]
  },
  {
   "cell_type": "code",
   "execution_count": null,
   "metadata": {
    "ExecuteTime": {
     "end_time": "2019-05-22T00:20:05.040356Z",
     "start_time": "2019-05-22T00:20:05.036366Z"
    }
   },
   "outputs": [],
   "source": [
    "lang_tuple[::2]"
   ]
  },
  {
   "cell_type": "code",
   "execution_count": null,
   "metadata": {
    "ExecuteTime": {
     "end_time": "2019-05-22T00:20:12.208202Z",
     "start_time": "2019-05-22T00:20:12.201315Z"
    }
   },
   "outputs": [],
   "source": [
    "lang_tuple[1] = 'C++'"
   ]
  },
  {
   "cell_type": "markdown",
   "metadata": {},
   "source": [
    "## 튜플 리스트 간 변환하기"
   ]
  },
  {
   "cell_type": "code",
   "execution_count": null,
   "metadata": {
    "ExecuteTime": {
     "end_time": "2019-05-22T00:20:22.777210Z",
     "start_time": "2019-05-22T00:20:22.774255Z"
    }
   },
   "outputs": [],
   "source": [
    "list_from_tuple = list(lang_tuple)"
   ]
  },
  {
   "cell_type": "code",
   "execution_count": null,
   "metadata": {
    "ExecuteTime": {
     "end_time": "2019-05-22T00:20:46.715229Z",
     "start_time": "2019-05-22T00:20:46.711241Z"
    }
   },
   "outputs": [],
   "source": [
    "type(list_from_tuple)"
   ]
  },
  {
   "cell_type": "code",
   "execution_count": null,
   "metadata": {
    "ExecuteTime": {
     "end_time": "2019-05-22T00:20:31.015176Z",
     "start_time": "2019-05-22T00:20:31.012220Z"
    }
   },
   "outputs": [],
   "source": [
    "tuple_from_list = tuple(list_from_tuple)"
   ]
  },
  {
   "cell_type": "code",
   "execution_count": null,
   "metadata": {
    "ExecuteTime": {
     "end_time": "2019-05-22T00:20:53.601214Z",
     "start_time": "2019-05-22T00:20:53.596255Z"
    }
   },
   "outputs": [],
   "source": [
    "type(tuple_from_list)"
   ]
  },
  {
   "cell_type": "code",
   "execution_count": null,
   "metadata": {
    "ExecuteTime": {
     "end_time": "2019-05-22T00:21:02.407971Z",
     "start_time": "2019-05-22T00:21:02.403982Z"
    }
   },
   "outputs": [],
   "source": [
    "range_tuple = tuple(range(3, 10))"
   ]
  },
  {
   "cell_type": "code",
   "execution_count": null,
   "metadata": {
    "ExecuteTime": {
     "end_time": "2019-05-22T00:21:33.658421Z",
     "start_time": "2019-05-22T00:21:33.653434Z"
    }
   },
   "outputs": [],
   "source": [
    "range_tuple"
   ]
  },
  {
   "cell_type": "markdown",
   "metadata": {},
   "source": [
    "## 리스트와 튜플로 변수 만들기"
   ]
  },
  {
   "cell_type": "code",
   "execution_count": null,
   "metadata": {
    "ExecuteTime": {
     "end_time": "2019-05-22T00:22:13.344577Z",
     "start_time": "2019-05-22T00:22:13.340587Z"
    }
   },
   "outputs": [],
   "source": [
    "lang1, lang2, lang3 = lang_tuple[:3]"
   ]
  },
  {
   "cell_type": "code",
   "execution_count": null,
   "metadata": {
    "ExecuteTime": {
     "end_time": "2019-05-22T00:22:54.359197Z",
     "start_time": "2019-05-22T00:22:54.355207Z"
    }
   },
   "outputs": [],
   "source": [
    "print(lang1, lang2, lang3, sep=' / ')"
   ]
  },
  {
   "cell_type": "markdown",
   "metadata": {},
   "source": [
    "# 딕셔너리"
   ]
  },
  {
   "cell_type": "markdown",
   "metadata": {},
   "source": [
    "## 딕셔너리 만들기"
   ]
  },
  {
   "cell_type": "code",
   "execution_count": null,
   "metadata": {
    "ExecuteTime": {
     "end_time": "2019-05-27T01:15:54.863628Z",
     "start_time": "2019-05-27T01:15:54.859602Z"
    }
   },
   "outputs": [],
   "source": [
    "zoo_dict = {'개':'DOG', '고양이':'CAT', '소':'COW', ('사자', '호랑이'):{'LION','TIGER' }, '새': ['PIGEON','SWALLOW']}\n",
    "\n",
    "zoo_dict"
   ]
  },
  {
   "cell_type": "code",
   "execution_count": null,
   "metadata": {
    "ExecuteTime": {
     "end_time": "2019-05-27T01:16:58.447591Z",
     "start_time": "2019-05-27T01:16:58.443601Z"
    }
   },
   "outputs": [],
   "source": [
    "empty_dict = {}\n",
    "empty_dict2 = dict()\n",
    "\n",
    "print(empty_dict)\n",
    "print(empty_dict2)"
   ]
  },
  {
   "cell_type": "markdown",
   "metadata": {},
   "source": [
    "## 딕셔너리 value접근"
   ]
  },
  {
   "cell_type": "code",
   "execution_count": null,
   "metadata": {
    "ExecuteTime": {
     "end_time": "2019-05-27T01:16:06.221281Z",
     "start_time": "2019-05-27T01:16:06.216232Z"
    }
   },
   "outputs": [],
   "source": [
    "zoo_dict['개']"
   ]
  },
  {
   "cell_type": "code",
   "execution_count": null,
   "metadata": {
    "ExecuteTime": {
     "end_time": "2019-05-27T01:16:13.222529Z",
     "start_time": "2019-05-27T01:16:13.218540Z"
    }
   },
   "outputs": [],
   "source": [
    "zoo_dict['개'] = 'PUPPY'\n",
    "\n",
    "zoo_dict"
   ]
  },
  {
   "cell_type": "code",
   "execution_count": null,
   "metadata": {
    "ExecuteTime": {
     "end_time": "2019-05-27T01:16:19.509721Z",
     "start_time": "2019-05-27T01:16:19.505692Z"
    }
   },
   "outputs": [],
   "source": [
    "zoo_dict['닭'] = 'CHICKEN'\n",
    "\n",
    "zoo_dict"
   ]
  },
  {
   "cell_type": "code",
   "execution_count": null,
   "metadata": {
    "ExecuteTime": {
     "end_time": "2019-05-22T00:25:22.090853Z",
     "start_time": "2019-05-22T00:25:22.081897Z"
    },
    "scrolled": true
   },
   "outputs": [],
   "source": [
    "zoo_dict['말']"
   ]
  },
  {
   "cell_type": "code",
   "execution_count": null,
   "metadata": {
    "ExecuteTime": {
     "end_time": "2019-05-27T01:16:31.782311Z",
     "start_time": "2019-05-27T01:16:31.777324Z"
    }
   },
   "outputs": [],
   "source": [
    "zoo_dict.get('말', 'HORSE')"
   ]
  },
  {
   "cell_type": "markdown",
   "metadata": {},
   "source": [
    "## 딕셔너리 키 중복 허용X"
   ]
  },
  {
   "cell_type": "code",
   "execution_count": null,
   "metadata": {
    "ExecuteTime": {
     "end_time": "2019-05-27T01:17:12.681490Z",
     "start_time": "2019-05-27T01:17:12.676536Z"
    }
   },
   "outputs": [],
   "source": [
    "my_dict = {1:'one', 1:'first', 2:'two', 2:'second'}\n",
    "\n",
    "my_dict"
   ]
  },
  {
   "cell_type": "markdown",
   "metadata": {},
   "source": [
    "## 딕셔너리 함수들"
   ]
  },
  {
   "cell_type": "code",
   "execution_count": null,
   "metadata": {
    "ExecuteTime": {
     "end_time": "2019-05-27T01:17:15.147933Z",
     "start_time": "2019-05-27T01:17:15.143940Z"
    }
   },
   "outputs": [],
   "source": [
    "{**empty_dict, **zoo_dict, **my_dict}"
   ]
  },
  {
   "cell_type": "code",
   "execution_count": null,
   "metadata": {
    "ExecuteTime": {
     "end_time": "2019-05-22T00:26:49.688506Z",
     "start_time": "2019-05-22T00:26:49.684516Z"
    }
   },
   "outputs": [],
   "source": [
    "len(zoo_dict)"
   ]
  },
  {
   "cell_type": "code",
   "execution_count": null,
   "metadata": {
    "ExecuteTime": {
     "end_time": "2019-05-27T01:17:22.740627Z",
     "start_time": "2019-05-27T01:17:22.737631Z"
    }
   },
   "outputs": [],
   "source": [
    "'개' in zoo_dict"
   ]
  },
  {
   "cell_type": "code",
   "execution_count": null,
   "metadata": {
    "ExecuteTime": {
     "end_time": "2019-05-22T00:27:00.648859Z",
     "start_time": "2019-05-22T00:27:00.643846Z"
    }
   },
   "outputs": [],
   "source": [
    "all(zoo_dict)"
   ]
  },
  {
   "cell_type": "code",
   "execution_count": null,
   "metadata": {
    "ExecuteTime": {
     "end_time": "2019-05-22T00:27:06.815396Z",
     "start_time": "2019-05-22T00:27:06.810415Z"
    }
   },
   "outputs": [],
   "source": [
    "any(zoo_dict)"
   ]
  },
  {
   "cell_type": "code",
   "execution_count": null,
   "metadata": {
    "ExecuteTime": {
     "end_time": "2019-05-27T01:17:33.646456Z",
     "start_time": "2019-05-27T01:17:33.641474Z"
    }
   },
   "outputs": [],
   "source": [
    "zoo_dict.update(토끼='RABBIT')\n",
    "\n",
    "zoo_dict"
   ]
  },
  {
   "cell_type": "code",
   "execution_count": null,
   "metadata": {
    "ExecuteTime": {
     "end_time": "2019-05-27T01:19:23.667275Z",
     "start_time": "2019-05-27T01:19:23.663283Z"
    }
   },
   "outputs": [],
   "source": [
    "zoo_dict.update(닭='HEN')\n",
    "\n",
    "zoo_dict"
   ]
  },
  {
   "cell_type": "code",
   "execution_count": null,
   "metadata": {
    "ExecuteTime": {
     "end_time": "2019-05-27T01:18:40.842609Z",
     "start_time": "2019-05-27T01:18:40.836626Z"
    }
   },
   "outputs": [],
   "source": [
    "print(zoo_dict.pop('개'))\n",
    "\n",
    "zoo_dict"
   ]
  },
  {
   "cell_type": "code",
   "execution_count": null,
   "metadata": {
    "ExecuteTime": {
     "end_time": "2019-05-27T01:19:30.533932Z",
     "start_time": "2019-05-27T01:19:30.529921Z"
    }
   },
   "outputs": [],
   "source": [
    "del zoo_dict['닭']\n",
    "\n",
    "zoo_dict"
   ]
  },
  {
   "cell_type": "code",
   "execution_count": null,
   "metadata": {
    "ExecuteTime": {
     "end_time": "2019-05-27T01:19:41.711021Z",
     "start_time": "2019-05-27T01:19:41.707029Z"
    }
   },
   "outputs": [],
   "source": [
    "print(zoo_dict.popitem())\n",
    "\n",
    "zoo_dict"
   ]
  },
  {
   "cell_type": "code",
   "execution_count": null,
   "metadata": {
    "ExecuteTime": {
     "end_time": "2019-05-27T01:19:48.727259Z",
     "start_time": "2019-05-27T01:19:48.721272Z"
    }
   },
   "outputs": [],
   "source": [
    "zoo_dict.keys()"
   ]
  },
  {
   "cell_type": "code",
   "execution_count": null,
   "metadata": {
    "ExecuteTime": {
     "end_time": "2019-05-27T01:19:50.663081Z",
     "start_time": "2019-05-27T01:19:50.660087Z"
    }
   },
   "outputs": [],
   "source": [
    "zoo_dict.values()"
   ]
  },
  {
   "cell_type": "code",
   "execution_count": null,
   "metadata": {
    "ExecuteTime": {
     "end_time": "2019-05-27T01:19:52.751511Z",
     "start_time": "2019-05-27T01:19:52.748500Z"
    },
    "scrolled": true
   },
   "outputs": [],
   "source": [
    "zoo_dict.items()"
   ]
  },
  {
   "cell_type": "markdown",
   "metadata": {},
   "source": [
    "## 딕셔너리와 문자열 포매팅"
   ]
  },
  {
   "cell_type": "code",
   "execution_count": null,
   "metadata": {},
   "outputs": [],
   "source": [
    "# 딕셔너리를 쓰지 않았을 때\n",
    "'{name}은 전직 야구선수로 KBO 통산 홈런 갯수는 {homerun}개 이다.'.format(homerun=467, name='이승엽')"
   ]
  },
  {
   "cell_type": "code",
   "execution_count": null,
   "metadata": {
    "ExecuteTime": {
     "end_time": "2019-05-22T00:54:34.505549Z",
     "start_time": "2019-05-22T00:54:34.501553Z"
    }
   },
   "outputs": [],
   "source": [
    "baseball_dict = {'homerun': 467, 'name': '이승엽'}\n",
    "# 딕셔너리를 사용\n",
    "'{name}은 전직 야구선수로 KBO 통산 홈런 갯수는 {homerun}개 이다.'.format(**baseball_dict)"
   ]
  },
  {
   "cell_type": "markdown",
   "metadata": {},
   "source": [
    "# 집합"
   ]
  },
  {
   "cell_type": "markdown",
   "metadata": {},
   "source": [
    "## 집합 만들기"
   ]
  },
  {
   "cell_type": "code",
   "execution_count": null,
   "metadata": {
    "ExecuteTime": {
     "end_time": "2019-05-22T01:53:20.380634Z",
     "start_time": "2019-05-22T01:53:20.375648Z"
    }
   },
   "outputs": [],
   "source": [
    "marvel_set = set(('hulk', 'thanos', 'iron_man', ('thor', 'loki'), 'captain_marvel'))\n",
    "\n",
    "marvel_set"
   ]
  },
  {
   "cell_type": "code",
   "execution_count": null,
   "metadata": {
    "ExecuteTime": {
     "end_time": "2019-05-22T00:55:38.546531Z",
     "start_time": "2019-05-22T00:55:38.540563Z"
    }
   },
   "outputs": [],
   "source": [
    "marvel_set_2 = {'ant_man', ['groot', 'gamora']}"
   ]
  },
  {
   "cell_type": "code",
   "execution_count": null,
   "metadata": {
    "ExecuteTime": {
     "end_time": "2019-05-22T01:53:25.344537Z",
     "start_time": "2019-05-22T01:53:25.339549Z"
    }
   },
   "outputs": [],
   "source": [
    "marvel_set_2 = {'ant_man', ('groot', 'gamora'), 'ant_man', 'hulk'}\n",
    "\n",
    "marvel_set_2"
   ]
  },
  {
   "cell_type": "code",
   "execution_count": null,
   "metadata": {
    "ExecuteTime": {
     "end_time": "2019-05-22T01:53:11.776231Z",
     "start_time": "2019-05-22T01:53:11.771275Z"
    }
   },
   "outputs": [],
   "source": [
    "empty_set = set()\n",
    "\n",
    "empty_set"
   ]
  },
  {
   "cell_type": "markdown",
   "metadata": {},
   "source": [
    "## 집합 연산자"
   ]
  },
  {
   "cell_type": "code",
   "execution_count": null,
   "metadata": {
    "ExecuteTime": {
     "end_time": "2019-05-22T01:56:15.728545Z",
     "start_time": "2019-05-22T01:56:15.722595Z"
    }
   },
   "outputs": [],
   "source": [
    "union_set = marvel_set | marvel_set_2\n",
    "\n",
    "union_set"
   ]
  },
  {
   "cell_type": "code",
   "execution_count": null,
   "metadata": {
    "ExecuteTime": {
     "end_time": "2019-05-22T01:56:28.202622Z",
     "start_time": "2019-05-22T01:56:28.198599Z"
    }
   },
   "outputs": [],
   "source": [
    "inter_set = marvel_set & marvel_set_2\n",
    "\n",
    "inter_set"
   ]
  },
  {
   "cell_type": "code",
   "execution_count": null,
   "metadata": {
    "ExecuteTime": {
     "end_time": "2019-05-22T01:57:10.847936Z",
     "start_time": "2019-05-22T01:57:10.842917Z"
    }
   },
   "outputs": [],
   "source": [
    "minus_set = marvel_set - marvel_set_2\n",
    "\n",
    "minus_set"
   ]
  },
  {
   "cell_type": "code",
   "execution_count": null,
   "metadata": {
    "ExecuteTime": {
     "end_time": "2019-05-22T01:57:25.673195Z",
     "start_time": "2019-05-22T01:57:25.668184Z"
    }
   },
   "outputs": [],
   "source": [
    "xor_set = marvel_set ^ marvel_set_2\n",
    "\n",
    "xor_set"
   ]
  },
  {
   "cell_type": "markdown",
   "metadata": {},
   "source": [
    "## 집합 함수"
   ]
  },
  {
   "cell_type": "code",
   "execution_count": null,
   "metadata": {
    "ExecuteTime": {
     "end_time": "2019-05-22T01:57:37.919246Z",
     "start_time": "2019-05-22T01:57:37.915256Z"
    }
   },
   "outputs": [],
   "source": [
    "len(marvel_set)"
   ]
  },
  {
   "cell_type": "code",
   "execution_count": null,
   "metadata": {
    "ExecuteTime": {
     "end_time": "2019-05-22T01:57:50.502534Z",
     "start_time": "2019-05-22T01:57:50.497547Z"
    }
   },
   "outputs": [],
   "source": [
    "set.union(marvel_set, marvel_set_2)"
   ]
  },
  {
   "cell_type": "code",
   "execution_count": null,
   "metadata": {
    "ExecuteTime": {
     "end_time": "2019-05-22T01:57:59.376436Z",
     "start_time": "2019-05-22T01:57:59.372446Z"
    }
   },
   "outputs": [],
   "source": [
    "set.intersection(marvel_set, marvel_set_2)"
   ]
  },
  {
   "cell_type": "code",
   "execution_count": null,
   "metadata": {
    "ExecuteTime": {
     "end_time": "2019-05-22T01:58:04.991834Z",
     "start_time": "2019-05-22T01:58:04.987846Z"
    }
   },
   "outputs": [],
   "source": [
    "set.difference(marvel_set, marvel_set_2)"
   ]
  },
  {
   "cell_type": "code",
   "execution_count": null,
   "metadata": {
    "ExecuteTime": {
     "end_time": "2019-05-22T01:58:09.768306Z",
     "start_time": "2019-05-22T01:58:09.763319Z"
    }
   },
   "outputs": [],
   "source": [
    "set.symmetric_difference(marvel_set, marvel_set_2)"
   ]
  },
  {
   "cell_type": "code",
   "execution_count": null,
   "metadata": {
    "ExecuteTime": {
     "end_time": "2019-05-22T01:58:22.428430Z",
     "start_time": "2019-05-22T01:58:22.424441Z"
    }
   },
   "outputs": [],
   "source": [
    "marvel_set.add('captain_america')\n",
    "\n",
    "marvel_set"
   ]
  },
  {
   "cell_type": "code",
   "execution_count": null,
   "metadata": {
    "ExecuteTime": {
     "end_time": "2019-05-22T01:58:41.880563Z",
     "start_time": "2019-05-22T01:58:41.875579Z"
    }
   },
   "outputs": [],
   "source": [
    "marvel_set.update(['spider_man', 'black_widow'])\n",
    "\n",
    "marvel_set"
   ]
  },
  {
   "cell_type": "code",
   "execution_count": null,
   "metadata": {
    "ExecuteTime": {
     "end_time": "2019-05-22T01:59:06.430156Z",
     "start_time": "2019-05-22T01:59:06.427182Z"
    }
   },
   "outputs": [],
   "source": [
    "marvel_set.remove('captain_america')"
   ]
  },
  {
   "cell_type": "code",
   "execution_count": null,
   "metadata": {
    "ExecuteTime": {
     "end_time": "2019-05-22T01:59:10.941101Z",
     "start_time": "2019-05-22T01:59:10.935087Z"
    },
    "scrolled": true
   },
   "outputs": [],
   "source": [
    "marvel_set.remove('captain_america')"
   ]
  },
  {
   "cell_type": "code",
   "execution_count": null,
   "metadata": {
    "ExecuteTime": {
     "end_time": "2019-05-22T01:59:19.191995Z",
     "start_time": "2019-05-22T01:59:19.189036Z"
    }
   },
   "outputs": [],
   "source": [
    "marvel_set.discard('captain_america')"
   ]
  },
  {
   "cell_type": "code",
   "execution_count": null,
   "metadata": {
    "ExecuteTime": {
     "end_time": "2019-05-22T01:59:45.263490Z",
     "start_time": "2019-05-22T01:59:45.259466Z"
    }
   },
   "outputs": [],
   "source": [
    "print(marvel_set.pop())\n",
    "\n",
    "marvel_set"
   ]
  },
  {
   "cell_type": "code",
   "execution_count": null,
   "metadata": {
    "ExecuteTime": {
     "end_time": "2019-05-22T02:00:01.747653Z",
     "start_time": "2019-05-22T02:00:01.743628Z"
    }
   },
   "outputs": [],
   "source": [
    "{*marvel_set, *marvel_set_2}"
   ]
  }
 ],
 "metadata": {
  "kernelspec": {
   "display_name": "Python 3",
   "language": "python",
   "name": "python3"
  },
  "language_info": {
   "codemirror_mode": {
    "name": "ipython",
    "version": 3
   },
   "file_extension": ".py",
   "mimetype": "text/x-python",
   "name": "python",
   "nbconvert_exporter": "python",
   "pygments_lexer": "ipython3",
   "version": "3.7.7"
  },
  "toc": {
   "base_numbering": 1,
   "nav_menu": {},
   "number_sections": true,
   "sideBar": true,
   "skip_h1_title": false,
   "title_cell": "Table of Contents",
   "title_sidebar": "Contents",
   "toc_cell": false,
   "toc_position": {},
   "toc_section_display": true,
   "toc_window_display": false
  }
 },
 "nbformat": 4,
 "nbformat_minor": 2
}
