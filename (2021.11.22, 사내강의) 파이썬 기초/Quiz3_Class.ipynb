{
 "cells": [
  {
   "cell_type": "markdown",
   "id": "716ea9e7",
   "metadata": {},
   "source": [
    "## ☆ Lambda ☆"
   ]
  },
  {
   "cell_type": "markdown",
   "id": "8067311c",
   "metadata": {},
   "source": [
    "### 1. 아래 함수를 lambda 함수로 변환한 후 x에 5를 대입했을 때의 결과를 출력하세요.¶\n",
    " (함수)(x) 형태로 출력합니다."
   ]
  },
  {
   "cell_type": "code",
   "execution_count": 1,
   "id": "f1e4d7e3",
   "metadata": {},
   "outputs": [],
   "source": [
    "# lambda 함수로 변환하세요.\n",
    "def gugu9 (x):\n",
    "    return x*9"
   ]
  },
  {
   "cell_type": "code",
   "execution_count": null,
   "id": "92b297ed",
   "metadata": {},
   "outputs": [],
   "source": []
  },
  {
   "cell_type": "markdown",
   "id": "69f36cbc",
   "metadata": {},
   "source": [
    "### 2. 아래 nums 리스트에서 짝수만 골라 even 리스트를 생성하고 있습니다. \n",
    "###    물음표에 들어갈 알맞은 단어를 채워넣으세요"
   ]
  },
  {
   "cell_type": "code",
   "execution_count": null,
   "id": "16710c5b",
   "metadata": {},
   "outputs": [],
   "source": [
    "nums = [1, 2, 3, 5, 8]\n",
    "even = list(filter(?? x:x%2==0, ??))\n",
    "print(even)"
   ]
  },
  {
   "cell_type": "code",
   "execution_count": null,
   "id": "2b529fab",
   "metadata": {},
   "outputs": [],
   "source": []
  },
  {
   "cell_type": "markdown",
   "id": "7f8522d2",
   "metadata": {},
   "source": [
    "## ☆ Pop_Quiz ☆"
   ]
  },
  {
   "cell_type": "code",
   "execution_count": 1,
   "id": "16580b7f",
   "metadata": {},
   "outputs": [],
   "source": [
    "class Pop_quiz:\n",
    "    def __init__(self, question, answer):\n",
    "        self.question = question\n",
    "        self.answer = answer\n",
    "        \n",
    "question_list = [\n",
    "    \"1. 다음 중 튜플형태는 무엇인가요?\\n(a) []\\n(b) {}\\n(c) ()\\n\",\n",
    "    \"2. 익명 함수로 한 줄로 간결하게 표현하는 함수는 무엇인가요?\\n(a) comprehension\\n(b) lambda\\n(c) function\\n\",\n",
    "    \"3. for 문에서도 많이 쓰이며 연속된 정수를 반환하는 함수는?\\n(a) range\\n(b) zip\\n(c) enumerate\\n\",\n",
    "    \"4. generator 함수 내부에서 값은 반환하는 방법은?\\n(a) return\\n(b) yield\\n(c) next\\n\"\n",
    "]\n",
    "quiz_list = [\n",
    "    Pop_quiz(question_list[0], \"c\"),\n",
    "    Pop_quiz(question_list[1], \"b\"),\n",
    "    Pop_quiz(question_list[2], \"a\"),\n",
    "    Pop_quiz(question_list[3], \"b\"),\n",
    "]\n",
    "\n",
    "def quiz_start(quiz_list):\n",
    "    score = 0\n",
    "\n",
    "    for quiz in quiz_list:\n",
    "        answer = input(quiz.question)\n",
    "        if answer == quiz.answer:\n",
    "            score += 25\n",
    "        \n",
    "    print(\"\\n당신은 \", len(quiz_list), \"문제 중에 \", score, \"점을 기록하였습니다.\")"
   ]
  },
  {
   "cell_type": "code",
   "execution_count": 2,
   "id": "5f33e29c",
   "metadata": {},
   "outputs": [
    {
     "name": "stdout",
     "output_type": "stream",
     "text": [
      "1. 다음 중 튜플형태는 무엇인가요?\n",
      "(a) []\n",
      "(b) {}\n",
      "(c) ()\n",
      "c\n",
      "2. 익명 함수로 한 줄로 간결하게 표현하는 함수는 무엇인가요?\n",
      "(a) comprehension\n",
      "(b) lambda\n",
      "(c) function\n",
      "b\n",
      "3. for 문에서도 많이 쓰이며 연속된 정수를 반환하는 함수는?\n",
      "(a) range\n",
      "(b) zip\n",
      "(c) enumerate\n",
      "a\n",
      "4. generator 함수 내부에서 값은 반환하는 방법은?\n",
      "(a) return\n",
      "(b) yield\n",
      "(c) next\n",
      "b\n",
      "\n",
      "당신은  4 문제 중에  100 점을 기록하였습니다.\n"
     ]
    }
   ],
   "source": [
    "quiz_start(quiz_list)"
   ]
  },
  {
   "cell_type": "markdown",
   "id": "1fb37fae",
   "metadata": {},
   "source": [
    "## ☆ bills 만들기 ☆"
   ]
  },
  {
   "cell_type": "markdown",
   "id": "4c6c7c79",
   "metadata": {},
   "source": [
    "■ 커피/티/쥬스/아이스크림/팥빙수 음료에 대한 주문을 입력받아 총 합산금액을 출력해 봅시다!     \n",
    "\n",
    "■ MENU\n",
    "- 커피 : 2500원  \n",
    "- 티   : 3000원  \n",
    "- 쥬스 : 4000원  \n",
    "- 아이스크림 : 3500원  \n",
    "- 팥빙수 : 8000원  "
   ]
  },
  {
   "cell_type": "markdown",
   "id": "ba7049b8",
   "metadata": {},
   "source": [
    "1. input() 함수를 이용하여 값을 입력받습니다."
   ]
  },
  {
   "cell_type": "code",
   "execution_count": 3,
   "id": "496d2ea0",
   "metadata": {},
   "outputs": [
    {
     "name": "stdout",
     "output_type": "stream",
     "text": [
      "□ 메뉴를 주문해 주세요. 메뉴는 space로 구분하여 입력하세요\n",
      "□ menu : 커피/ 티/ 쥬스/ 아이스크림/ 팥빙수  ▶▶▶ 커피 커피 티\n"
     ]
    }
   ],
   "source": [
    "order = input('''□ 메뉴를 주문해 주세요. 메뉴는 space로 구분하여 입력하세요\n",
    "□ menu : 커피/ 티/ 쥬스/ 아이스크림/ 팥빙수  ▶▶▶ ''')"
   ]
  },
  {
   "cell_type": "markdown",
   "id": "b4b18a15",
   "metadata": {},
   "source": [
    "2. split() 함수를 이용하여 input 값을 list 로 반환합니다."
   ]
  },
  {
   "cell_type": "code",
   "execution_count": null,
   "id": "9e547ea9",
   "metadata": {},
   "outputs": [],
   "source": [
    "order_list =  # 문자열을 space로 구분하여 list 를 반환합니다.\n",
    "order_list"
   ]
  },
  {
   "cell_type": "markdown",
   "id": "d719d60d",
   "metadata": {},
   "source": [
    "3. class 를 하나 선언  \n",
    "3-1. 메뉴별 가격 dictionary 로 표현  \n",
    "3-2. 초기화 함수 정의 및 총 금액(total) 초기화  \n",
    "3-3. for 문을 이용하여 메뉴별 가격 출력  "
   ]
  },
  {
   "cell_type": "code",
   "execution_count": null,
   "id": "ccc81ee8",
   "metadata": {},
   "outputs": [],
   "source": [
    "# class 선언\n",
    "class Cafe:\n",
    "    \n",
    "    # 메뉴별 가격 : dictionary 로 정의\n",
    "    menu = {\n",
    "        ######## 3-1 ##########\n",
    "\n",
    "    }\n",
    "    \n",
    "    # 초기화 함수 정의 및 총 금액(total) 초기화\n",
    "    ######## 3-2 ##########\n",
    "\n",
    "    \n",
    "    # 총 주문한 가격 계산\n",
    "    def print_bill(self, items):\n",
    "        \n",
    "        # 메뉴별 가격 출력 및 총 금액 계산\n",
    "        # print(f'{item} : {금액}')\n",
    "        ######## 3-3 ##########\n",
    "\n",
    "        \n",
    "        # 총 금액      \n",
    "        print('========================')\n",
    "        print(f'Total :   {self.total} 원')    "
   ]
  },
  {
   "cell_type": "code",
   "execution_count": null,
   "id": "f2af428a",
   "metadata": {},
   "outputs": [],
   "source": [
    "cafe = Cafe()"
   ]
  },
  {
   "cell_type": "code",
   "execution_count": null,
   "id": "d6a72bf9",
   "metadata": {},
   "outputs": [],
   "source": [
    "cafe.print_bill(order_list)"
   ]
  },
  {
   "cell_type": "code",
   "execution_count": null,
   "id": "d94cecd2",
   "metadata": {},
   "outputs": [],
   "source": []
  }
 ],
 "metadata": {
  "kernelspec": {
   "display_name": "Python 3",
   "language": "python",
   "name": "python3"
  },
  "language_info": {
   "codemirror_mode": {
    "name": "ipython",
    "version": 3
   },
   "file_extension": ".py",
   "mimetype": "text/x-python",
   "name": "python",
   "nbconvert_exporter": "python",
   "pygments_lexer": "ipython3",
   "version": "3.8.3"
  }
 },
 "nbformat": 4,
 "nbformat_minor": 5
}
