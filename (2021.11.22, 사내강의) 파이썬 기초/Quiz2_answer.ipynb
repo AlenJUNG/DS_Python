{
 "cells": [
  {
   "cell_type": "markdown",
   "metadata": {},
   "source": [
    "## 1. x 값이 10보다 큰 경우 \"10보다 작은 수를 입력하세요\"\n",
    "##    x 값이 2보다 작은 경우 \"2이상으로 입력하세요\"\n",
    "##    라는 문구를 출력하는 if 문을 작성하시오"
   ]
  },
  {
   "cell_type": "code",
   "execution_count": null,
   "metadata": {},
   "outputs": [],
   "source": [
    "x = int(input(\"테스트하고자 하는 숫자를 입력하세요 : \"))"
   ]
  },
  {
   "cell_type": "code",
   "execution_count": null,
   "metadata": {},
   "outputs": [],
   "source": [
    "if x > 10:\n",
    "    print(\"10보다 작은 수를 입력하세요\")\n",
    "elif x < 2:\n",
    "    print(\"2이상으로 입력하세요\")"
   ]
  },
  {
   "cell_type": "markdown",
   "metadata": {},
   "source": [
    "## 2. range 를 이용하여 구구단을 출력하는 함수를 정의하시오."
   ]
  },
  {
   "cell_type": "code",
   "execution_count": null,
   "metadata": {},
   "outputs": [],
   "source": [
    "for i in range(2, 10):\n",
    "    print('--------- ', i, '단----------------')\n",
    "    for j in range(1,10):\n",
    "        print(i, '*', j, '=', i*j)\n",
    "#         print(f'{i} * {j} = {i*j}')"
   ]
  },
  {
   "cell_type": "markdown",
   "metadata": {},
   "source": [
    "## 3. comprehension 을 이용하여 구구단 9단의 결과값을 nine 이라는 list에 저장하시오. "
   ]
  },
  {
   "cell_type": "code",
   "execution_count": null,
   "metadata": {},
   "outputs": [],
   "source": [
    "nine = [9*x for x in range(1,10)]\n",
    "nine"
   ]
  }
 ],
 "metadata": {
  "kernelspec": {
   "display_name": "Python 3",
   "language": "python",
   "name": "python3"
  },
  "language_info": {
   "codemirror_mode": {
    "name": "ipython",
    "version": 3
   },
   "file_extension": ".py",
   "mimetype": "text/x-python",
   "name": "python",
   "nbconvert_exporter": "python",
   "pygments_lexer": "ipython3",
   "version": "3.8.3"
  }
 },
 "nbformat": 4,
 "nbformat_minor": 4
}
