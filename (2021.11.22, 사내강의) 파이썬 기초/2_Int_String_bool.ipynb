{
 "cells": [
  {
   "cell_type": "markdown",
   "metadata": {},
   "source": [
    "# hello world"
   ]
  },
  {
   "cell_type": "code",
   "execution_count": null,
   "metadata": {
    "ExecuteTime": {
     "end_time": "2019-09-19T06:23:53.843466Z",
     "start_time": "2019-09-19T06:23:53.819530Z"
    }
   },
   "outputs": [],
   "source": [
    " print('hello world')"
   ]
  },
  {
   "cell_type": "markdown",
   "metadata": {},
   "source": [
    "# 변수선언"
   ]
  },
  {
   "cell_type": "code",
   "execution_count": null,
   "metadata": {
    "ExecuteTime": {
     "end_time": "2019-09-19T06:23:56.204154Z",
     "start_time": "2019-09-19T06:23:56.200165Z"
    }
   },
   "outputs": [],
   "source": [
    "hello_python = 'hello python'\n",
    "print(hello_python)"
   ]
  },
  {
   "cell_type": "code",
   "execution_count": null,
   "metadata": {
    "ExecuteTime": {
     "end_time": "2019-06-14T00:53:02.805800Z",
     "start_time": "2019-06-14T00:53:02.802800Z"
    }
   },
   "outputs": [],
   "source": [
    "number_var = 33\n",
    "print(number_var)"
   ]
  },
  {
   "cell_type": "code",
   "execution_count": null,
   "metadata": {
    "ExecuteTime": {
     "end_time": "2019-06-14T00:53:03.255800Z",
     "start_time": "2019-06-14T00:53:03.251800Z"
    }
   },
   "outputs": [],
   "source": [
    "5_eggs = 20"
   ]
  },
  {
   "cell_type": "code",
   "execution_count": null,
   "metadata": {
    "ExecuteTime": {
     "end_time": "2019-06-14T00:53:04.630800Z",
     "start_time": "2019-06-14T00:53:04.626800Z"
    },
    "scrolled": true
   },
   "outputs": [],
   "source": [
    "empty_var = None\n",
    "print(empty_var)"
   ]
  },
  {
   "cell_type": "code",
   "execution_count": null,
   "metadata": {},
   "outputs": [],
   "source": [
    "print = 'hello'  # %reset"
   ]
  },
  {
   "cell_type": "code",
   "execution_count": null,
   "metadata": {
    "ExecuteTime": {
     "end_time": "2019-06-14T00:53:15.336800Z",
     "start_time": "2019-06-14T00:53:15.332800Z"
    }
   },
   "outputs": [],
   "source": [
    "first, second, third = 1, 2, 3\n",
    "\n",
    "print(first, second, third)"
   ]
  },
  {
   "cell_type": "code",
   "execution_count": null,
   "metadata": {
    "ExecuteTime": {
     "end_time": "2019-06-14T00:53:17.687800Z",
     "start_time": "2019-06-14T00:53:17.683800Z"
    }
   },
   "outputs": [],
   "source": [
    "second, third, first = first, second, third\n",
    "\n",
    "print(first, second, third)"
   ]
  },
  {
   "cell_type": "markdown",
   "metadata": {},
   "source": [
    "# 주석처리"
   ]
  },
  {
   "cell_type": "code",
   "execution_count": null,
   "metadata": {},
   "outputs": [],
   "source": [
    "# 주석처리 된 문자"
   ]
  },
  {
   "cell_type": "markdown",
   "metadata": {},
   "source": [
    "# 숫자형"
   ]
  },
  {
   "cell_type": "markdown",
   "metadata": {},
   "source": [
    "## 숫자형 연산"
   ]
  },
  {
   "cell_type": "code",
   "execution_count": null,
   "metadata": {
    "ExecuteTime": {
     "end_time": "2019-06-14T01:48:59.688800Z",
     "start_time": "2019-06-14T01:48:59.684800Z"
    }
   },
   "outputs": [],
   "source": [
    "a = 6\n",
    "b = 4\n",
    "\n",
    "print(a+b)\n",
    "\n",
    "print(a-b)\n",
    "\n",
    "print(a*b)\n",
    "\n",
    "print(a/b)"
   ]
  },
  {
   "cell_type": "code",
   "execution_count": null,
   "metadata": {
    "ExecuteTime": {
     "end_time": "2019-06-14T01:49:04.558800Z",
     "start_time": "2019-06-14T01:49:04.552800Z"
    }
   },
   "outputs": [],
   "source": [
    "print(a//b)  # 몫\n",
    "\n",
    "print(a%b)  # 나머지\n",
    "\n",
    "print(a**b)  # a^b"
   ]
  },
  {
   "cell_type": "code",
   "execution_count": null,
   "metadata": {
    "ExecuteTime": {
     "end_time": "2019-06-14T01:49:06.714800Z",
     "start_time": "2019-06-14T01:49:06.699800Z"
    },
    "scrolled": true
   },
   "outputs": [],
   "source": [
    "divmod(a,b)"
   ]
  },
  {
   "cell_type": "markdown",
   "metadata": {},
   "source": [
    "## 형 변환"
   ]
  },
  {
   "cell_type": "code",
   "execution_count": null,
   "metadata": {
    "ExecuteTime": {
     "end_time": "2019-06-14T01:50:20.873800Z",
     "start_time": "2019-06-14T01:50:20.870800Z"
    }
   },
   "outputs": [],
   "source": [
    "str_var = '5123'\n",
    "\n",
    "print(type(str_var))"
   ]
  },
  {
   "cell_type": "code",
   "execution_count": null,
   "metadata": {
    "ExecuteTime": {
     "end_time": "2019-05-23T00:01:01.984400Z",
     "start_time": "2019-05-23T00:01:01.980400Z"
    }
   },
   "outputs": [],
   "source": [
    "print(int('FC', 16))\n",
    "\n",
    "print(int('76', 8))\n",
    "\n",
    "print(int('110', 2))"
   ]
  },
  {
   "cell_type": "code",
   "execution_count": null,
   "metadata": {
    "ExecuteTime": {
     "end_time": "2019-05-23T00:55:28.757400Z",
     "start_time": "2019-05-23T00:55:28.751400Z"
    }
   },
   "outputs": [],
   "source": [
    "print(hex(252))\n",
    "\n",
    "print(oct(62))\n",
    "\n",
    "print(bin(6))"
   ]
  },
  {
   "cell_type": "code",
   "execution_count": null,
   "metadata": {
    "ExecuteTime": {
     "end_time": "2019-05-23T00:55:46.244400Z",
     "start_time": "2019-05-23T00:55:46.241400Z"
    }
   },
   "outputs": [],
   "source": [
    "print(ord('A'))\n",
    "\n",
    "print(ord('a'))"
   ]
  },
  {
   "cell_type": "code",
   "execution_count": null,
   "metadata": {
    "ExecuteTime": {
     "end_time": "2019-05-23T00:55:47.106400Z",
     "start_time": "2019-05-23T00:55:47.103400Z"
    }
   },
   "outputs": [],
   "source": [
    "print(chr(65))\n",
    "\n",
    "print(chr(97))"
   ]
  },
  {
   "cell_type": "markdown",
   "metadata": {},
   "source": [
    "# 문자열 "
   ]
  },
  {
   "cell_type": "markdown",
   "metadata": {},
   "source": [
    "## 문자열 선언"
   ]
  },
  {
   "cell_type": "code",
   "execution_count": null,
   "metadata": {
    "ExecuteTime": {
     "end_time": "2019-06-14T01:51:40.970800Z",
     "start_time": "2019-06-14T01:51:40.967800Z"
    }
   },
   "outputs": [],
   "source": [
    "str1 = \"안녕하세요\"\n",
    "\n",
    "str2 = '반갑습니다'"
   ]
  },
  {
   "cell_type": "code",
   "execution_count": null,
   "metadata": {
    "ExecuteTime": {
     "end_time": "2019-06-14T01:51:41.886800Z",
     "start_time": "2019-06-14T01:51:41.882800Z"
    }
   },
   "outputs": [],
   "source": [
    "print(str1)\n",
    "\n",
    "print(str2)"
   ]
  },
  {
   "cell_type": "code",
   "execution_count": null,
   "metadata": {
    "ExecuteTime": {
     "end_time": "2019-06-14T01:51:44.754800Z",
     "start_time": "2019-06-14T01:51:44.752800Z"
    }
   },
   "outputs": [],
   "source": [
    "str1 = \"I'm fine.\"\n",
    "\n",
    "str2 = 'He said. \"I\\'m tired\"'"
   ]
  },
  {
   "cell_type": "code",
   "execution_count": null,
   "metadata": {
    "ExecuteTime": {
     "end_time": "2019-06-14T01:52:57.890800Z",
     "start_time": "2019-06-14T01:52:57.887800Z"
    }
   },
   "outputs": [],
   "source": [
    "print(str1)\n",
    "\n",
    "print(str2)"
   ]
  },
  {
   "cell_type": "code",
   "execution_count": null,
   "metadata": {
    "ExecuteTime": {
     "end_time": "2019-09-19T06:24:39.508868Z",
     "start_time": "2019-09-19T06:24:39.503882Z"
    }
   },
   "outputs": [],
   "source": [
    "multi_line_str = '''\n",
    "    이름: 홍길동\n",
    "    직급: 프로\n",
    "    소속: 금융실행그룹\n",
    "'''\n",
    "\n",
    "multi_line_str2 = \"\"\"\n",
    "    이름: 전우치\n",
    "    직급: 프로\n",
    "    소속: 금융실행그룹\n",
    "\"\"\""
   ]
  },
  {
   "cell_type": "code",
   "execution_count": null,
   "metadata": {
    "scrolled": false
   },
   "outputs": [],
   "source": [
    "print(multi_line_str)\n",
    "print(multi_line_str2)"
   ]
  },
  {
   "cell_type": "code",
   "execution_count": null,
   "metadata": {
    "ExecuteTime": {
     "end_time": "2019-05-23T00:58:42.478400Z",
     "start_time": "2019-05-23T00:58:42.474400Z"
    }
   },
   "outputs": [],
   "source": [
    "print(multi_line_str)\n",
    "\n",
    "multi_line_str"
   ]
  },
  {
   "cell_type": "markdown",
   "metadata": {},
   "source": [
    "## 문자열 연산 "
   ]
  },
  {
   "cell_type": "code",
   "execution_count": null,
   "metadata": {
    "ExecuteTime": {
     "end_time": "2019-06-14T01:54:35.662800Z",
     "start_time": "2019-06-14T01:54:35.658800Z"
    }
   },
   "outputs": [],
   "source": [
    "head = 'python '\n",
    "tail = 'language'"
   ]
  },
  {
   "cell_type": "code",
   "execution_count": null,
   "metadata": {
    "ExecuteTime": {
     "end_time": "2019-06-14T01:54:36.735800Z",
     "start_time": "2019-06-14T01:54:36.731800Z"
    }
   },
   "outputs": [],
   "source": [
    "concat_str = head + tail\n",
    "\n",
    "print(concat_str)"
   ]
  },
  {
   "cell_type": "code",
   "execution_count": null,
   "metadata": {
    "ExecuteTime": {
     "end_time": "2019-06-14T01:54:38.416800Z",
     "start_time": "2019-06-14T01:54:38.412800Z"
    }
   },
   "outputs": [],
   "source": [
    "multi_str = head * 3\n",
    "\n",
    "print(multi_str)"
   ]
  },
  {
   "cell_type": "markdown",
   "metadata": {},
   "source": [
    "## 문자열 인덱싱 및 슬라이싱"
   ]
  },
  {
   "cell_type": "code",
   "execution_count": null,
   "metadata": {},
   "outputs": [],
   "source": [
    "korea = '대한민국'\n",
    "\n",
    "print(korea[1])\n",
    "print(korea[-1])"
   ]
  },
  {
   "cell_type": "code",
   "execution_count": null,
   "metadata": {
    "ExecuteTime": {
     "end_time": "2019-05-23T00:59:17.098400Z",
     "start_time": "2019-05-23T00:59:17.094400Z"
    }
   },
   "outputs": [],
   "source": [
    "anthem = '동해물과 백두산이 마르고 닳도록'"
   ]
  },
  {
   "cell_type": "code",
   "execution_count": null,
   "metadata": {
    "ExecuteTime": {
     "end_time": "2019-05-23T00:59:18.153400Z",
     "start_time": "2019-05-23T00:59:18.148400Z"
    }
   },
   "outputs": [],
   "source": [
    "anthem[0:4]"
   ]
  },
  {
   "cell_type": "code",
   "execution_count": null,
   "metadata": {
    "ExecuteTime": {
     "end_time": "2019-05-23T01:00:07.564400Z",
     "start_time": "2019-05-23T01:00:07.560400Z"
    }
   },
   "outputs": [],
   "source": [
    "anthem[10:]"
   ]
  },
  {
   "cell_type": "code",
   "execution_count": null,
   "metadata": {
    "ExecuteTime": {
     "end_time": "2019-05-23T01:00:12.269400Z",
     "start_time": "2019-05-23T01:00:12.265400Z"
    }
   },
   "outputs": [],
   "source": [
    "anthem[:9]"
   ]
  },
  {
   "cell_type": "code",
   "execution_count": null,
   "metadata": {
    "ExecuteTime": {
     "end_time": "2019-05-23T01:02:49.982400Z",
     "start_time": "2019-05-23T01:02:49.979400Z"
    }
   },
   "outputs": [],
   "source": [
    "anthem[:]"
   ]
  },
  {
   "cell_type": "code",
   "execution_count": null,
   "metadata": {
    "ExecuteTime": {
     "end_time": "2019-05-23T01:00:22.127400Z",
     "start_time": "2019-05-23T01:00:22.121400Z"
    }
   },
   "outputs": [],
   "source": [
    "anthem[5:-4]"
   ]
  },
  {
   "cell_type": "code",
   "execution_count": null,
   "metadata": {
    "ExecuteTime": {
     "end_time": "2019-05-23T01:03:30.651400Z",
     "start_time": "2019-05-23T01:03:30.645400Z"
    }
   },
   "outputs": [],
   "source": [
    "number = '0123456789'"
   ]
  },
  {
   "cell_type": "code",
   "execution_count": null,
   "metadata": {
    "ExecuteTime": {
     "end_time": "2019-05-23T01:01:02.165400Z",
     "start_time": "2019-05-23T01:01:02.161400Z"
    }
   },
   "outputs": [],
   "source": [
    "number[::2]"
   ]
  },
  {
   "cell_type": "code",
   "execution_count": null,
   "metadata": {
    "ExecuteTime": {
     "end_time": "2019-05-23T01:01:16.761400Z",
     "start_time": "2019-05-23T01:01:16.757400Z"
    }
   },
   "outputs": [],
   "source": [
    "number[1::2]"
   ]
  },
  {
   "cell_type": "code",
   "execution_count": null,
   "metadata": {
    "ExecuteTime": {
     "end_time": "2019-05-23T01:01:29.386400Z",
     "start_time": "2019-05-23T01:01:29.382400Z"
    }
   },
   "outputs": [],
   "source": [
    "number[2:8:2]"
   ]
  },
  {
   "cell_type": "code",
   "execution_count": null,
   "metadata": {
    "ExecuteTime": {
     "end_time": "2019-05-23T01:01:40.243400Z",
     "start_time": "2019-05-23T01:01:40.239400Z"
    }
   },
   "outputs": [],
   "source": [
    "number[::-1]"
   ]
  },
  {
   "cell_type": "code",
   "execution_count": null,
   "metadata": {
    "ExecuteTime": {
     "end_time": "2019-05-23T01:04:28.581400Z",
     "start_time": "2019-05-23T01:04:28.577400Z"
    }
   },
   "outputs": [],
   "source": [
    "number[-1:3:-2]"
   ]
  },
  {
   "cell_type": "markdown",
   "metadata": {},
   "source": [
    "## 문자열 포매팅"
   ]
  },
  {
   "cell_type": "code",
   "execution_count": null,
   "metadata": {
    "ExecuteTime": {
     "end_time": "2019-05-23T01:04:59.857400Z",
     "start_time": "2019-05-23T01:04:59.853400Z"
    }
   },
   "outputs": [],
   "source": [
    "print('류현진의 2019시즌 방어율은 %.2f이다.' % 2.32)\n",
    "\n",
    "print('손흥민의 소속팀은 %s이다.' % '토트넘')\n",
    "\n",
    "print('류현진의 소속팀은 %s이며 %d년에 이적했다.' % ('토론토', 2019))"
   ]
  },
  {
   "cell_type": "code",
   "execution_count": null,
   "metadata": {
    "ExecuteTime": {
     "end_time": "2019-05-23T01:14:24.702400Z",
     "start_time": "2019-05-23T01:14:24.697400Z"
    }
   },
   "outputs": [],
   "source": [
    "print('{0}는 전직 국가대표 피겨스케이팅 선수이다.'.format('김연아'))\n",
    "\n",
    "print('{0}는 {1}년 {2} 동계올림픽에서 금메달을 획득했다.'.format('김연아', 2010, '벤쿠버'))\n",
    "\n",
    "print('{name}은 전직 야구선수로 KBO 통산 홈런 갯수는 {homerun}개 이다.'.format(homerun=467, name='이승엽'))\n",
    "\n",
    "print('{0:!^5}의 KBO 통산 타율은 {1:.3f}이다.'.format('이승엽', 0.3022994))"
   ]
  },
  {
   "cell_type": "code",
   "execution_count": null,
   "metadata": {
    "ExecuteTime": {
     "end_time": "2019-05-23T01:10:36.588400Z",
     "start_time": "2019-05-23T01:10:36.585400Z"
    }
   },
   "outputs": [],
   "source": [
    "print('hello {1} {0}'.format('Park','ChanHo'))"
   ]
  },
  {
   "cell_type": "code",
   "execution_count": null,
   "metadata": {
    "ExecuteTime": {
     "end_time": "2019-06-14T02:04:42.788800Z",
     "start_time": "2019-06-14T02:04:42.781800Z"
    }
   },
   "outputs": [],
   "source": [
    "player_name = '박찬호'\n",
    "nickname = 'too much talker'\n",
    "birth = 1973\n",
    "\n",
    "print(f'{player_name}는 전직 야구선수로 {2021-birth}살 이고 별명은 {nickname:☆^17}이다.')"
   ]
  },
  {
   "cell_type": "markdown",
   "metadata": {},
   "source": [
    "## 문자열 함수들"
   ]
  },
  {
   "cell_type": "code",
   "execution_count": null,
   "metadata": {},
   "outputs": [],
   "source": [
    "dir(str)"
   ]
  },
  {
   "cell_type": "code",
   "execution_count": null,
   "metadata": {
    "ExecuteTime": {
     "end_time": "2019-06-14T02:06:46.574800Z",
     "start_time": "2019-06-14T02:06:46.572800Z"
    }
   },
   "outputs": [],
   "source": [
    "players = '류현진,손흥민,김연아,이승엽,박찬호 '"
   ]
  },
  {
   "cell_type": "code",
   "execution_count": null,
   "metadata": {
    "ExecuteTime": {
     "end_time": "2019-05-23T01:16:10.004400Z",
     "start_time": "2019-05-23T01:16:09.999400Z"
    }
   },
   "outputs": [],
   "source": [
    "len(players)"
   ]
  },
  {
   "cell_type": "code",
   "execution_count": null,
   "metadata": {
    "ExecuteTime": {
     "end_time": "2019-05-23T01:16:11.111400Z",
     "start_time": "2019-05-23T01:16:11.107400Z"
    }
   },
   "outputs": [],
   "source": [
    "players_list = players.split(',')\n",
    "\n",
    "players_list"
   ]
  },
  {
   "cell_type": "code",
   "execution_count": null,
   "metadata": {
    "ExecuteTime": {
     "end_time": "2019-05-23T01:16:37.513400Z",
     "start_time": "2019-05-23T01:16:37.509400Z"
    }
   },
   "outputs": [],
   "source": [
    "join_list = '%'.join(players_list)\n",
    "\n",
    "join_list"
   ]
  },
  {
   "cell_type": "code",
   "execution_count": null,
   "metadata": {
    "ExecuteTime": {
     "end_time": "2019-05-23T01:18:11.756400Z",
     "start_time": "2019-05-23T01:18:11.739400Z"
    }
   },
   "outputs": [],
   "source": [
    "players.count(',')"
   ]
  },
  {
   "cell_type": "code",
   "execution_count": null,
   "metadata": {
    "ExecuteTime": {
     "end_time": "2019-06-14T02:06:48.063800Z",
     "start_time": "2019-06-14T02:06:48.058800Z"
    }
   },
   "outputs": [],
   "source": [
    "players.find('이')"
   ]
  },
  {
   "cell_type": "code",
   "execution_count": null,
   "metadata": {
    "ExecuteTime": {
     "end_time": "2019-05-23T01:18:28.114400Z",
     "start_time": "2019-05-23T01:18:28.107400Z"
    }
   },
   "outputs": [],
   "source": [
    "players.strip()"
   ]
  },
  {
   "cell_type": "code",
   "execution_count": null,
   "metadata": {
    "ExecuteTime": {
     "end_time": "2019-05-23T01:18:31.087400Z",
     "start_time": "2019-05-23T01:18:31.081400Z"
    }
   },
   "outputs": [],
   "source": [
    "players.replace(',', '/')"
   ]
  },
  {
   "cell_type": "code",
   "execution_count": null,
   "metadata": {
    "ExecuteTime": {
     "end_time": "2019-06-14T02:07:03.863800Z",
     "start_time": "2019-06-14T02:07:03.858800Z"
    }
   },
   "outputs": [],
   "source": [
    "players.startswith('류현진')"
   ]
  },
  {
   "cell_type": "code",
   "execution_count": null,
   "metadata": {
    "ExecuteTime": {
     "end_time": "2019-05-23T01:18:38.022400Z",
     "start_time": "2019-05-23T01:18:38.017400Z"
    }
   },
   "outputs": [],
   "source": [
    "players.endswith(\"박찬호 \")"
   ]
  },
  {
   "cell_type": "code",
   "execution_count": null,
   "metadata": {
    "ExecuteTime": {
     "end_time": "2019-05-23T01:18:42.198400Z",
     "start_time": "2019-05-23T01:18:42.193400Z"
    }
   },
   "outputs": [],
   "source": [
    "'a'.upper()"
   ]
  },
  {
   "cell_type": "code",
   "execution_count": null,
   "metadata": {
    "ExecuteTime": {
     "end_time": "2019-05-23T01:18:42.768400Z",
     "start_time": "2019-05-23T01:18:42.764400Z"
    }
   },
   "outputs": [],
   "source": [
    "'A'.lower()"
   ]
  },
  {
   "cell_type": "markdown",
   "metadata": {},
   "source": [
    "# bool 자료형"
   ]
  },
  {
   "cell_type": "code",
   "execution_count": null,
   "metadata": {},
   "outputs": [],
   "source": [
    "1000000007 == 1000000007"
   ]
  },
  {
   "cell_type": "code",
   "execution_count": null,
   "metadata": {},
   "outputs": [],
   "source": [
    "1000000007 > 1000000007"
   ]
  },
  {
   "cell_type": "code",
   "execution_count": null,
   "metadata": {},
   "outputs": [],
   "source": [
    "'Python' == 'Python'"
   ]
  },
  {
   "cell_type": "code",
   "execution_count": null,
   "metadata": {},
   "outputs": [],
   "source": [
    "'Java' != 'Java'"
   ]
  },
  {
   "cell_type": "code",
   "execution_count": null,
   "metadata": {},
   "outputs": [],
   "source": [
    "comp1, comp2 = [103, 104] , [103, 104]\n",
    "\n",
    "print(comp1)\n",
    "print(comp2)"
   ]
  },
  {
   "cell_type": "code",
   "execution_count": null,
   "metadata": {},
   "outputs": [],
   "source": [
    "comp1 == comp2"
   ]
  },
  {
   "cell_type": "code",
   "execution_count": null,
   "metadata": {},
   "outputs": [],
   "source": [
    "comp1 is comp2"
   ]
  },
  {
   "cell_type": "code",
   "execution_count": null,
   "metadata": {
    "scrolled": false
   },
   "outputs": [],
   "source": [
    "print(id(comp1))\n",
    "print(id(comp2))"
   ]
  },
  {
   "cell_type": "code",
   "execution_count": null,
   "metadata": {},
   "outputs": [],
   "source": [
    "10 == 10 and 10 != 5"
   ]
  },
  {
   "cell_type": "code",
   "execution_count": null,
   "metadata": {},
   "outputs": [],
   "source": [
    "10 > 5 or 10 < 3"
   ]
  },
  {
   "cell_type": "code",
   "execution_count": null,
   "metadata": {},
   "outputs": [],
   "source": [
    "not 10 > 5"
   ]
  },
  {
   "cell_type": "code",
   "execution_count": null,
   "metadata": {},
   "outputs": [],
   "source": [
    "not 1+1==2 or 4==4 and 7==8"
   ]
  },
  {
   "cell_type": "code",
   "execution_count": null,
   "metadata": {},
   "outputs": [],
   "source": [
    "1+2 > 4 and 'abc' != 'abc' or not False and isinstance(1, int)"
   ]
  }
 ],
 "metadata": {
  "kernelspec": {
   "display_name": "Python 3",
   "language": "python",
   "name": "python3"
  },
  "language_info": {
   "codemirror_mode": {
    "name": "ipython",
    "version": 3
   },
   "file_extension": ".py",
   "mimetype": "text/x-python",
   "name": "python",
   "nbconvert_exporter": "python",
   "pygments_lexer": "ipython3",
   "version": "3.7.4"
  },
  "toc": {
   "base_numbering": 1,
   "nav_menu": {},
   "number_sections": true,
   "sideBar": true,
   "skip_h1_title": false,
   "title_cell": "Table of Contents",
   "title_sidebar": "Contents",
   "toc_cell": false,
   "toc_position": {},
   "toc_section_display": true,
   "toc_window_display": false
  }
 },
 "nbformat": 4,
 "nbformat_minor": 2
}
