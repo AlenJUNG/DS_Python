{
 "cells": [
  {
   "cell_type": "markdown",
   "metadata": {},
   "source": [
    "# Package"
   ]
  },
  {
   "cell_type": "markdown",
   "metadata": {},
   "source": [
    "## Modules"
   ]
  },
  {
   "cell_type": "code",
   "execution_count": null,
   "metadata": {
    "ExecuteTime": {
     "end_time": "2019-06-17T05:27:42.167400Z",
     "start_time": "2019-06-17T05:27:42.131400Z"
    }
   },
   "outputs": [],
   "source": [
    "# 1. import 모듈이름\n",
    "import mod\n",
    "print(mod.square(2,3))"
   ]
  },
  {
   "cell_type": "code",
   "execution_count": null,
   "metadata": {
    "ExecuteTime": {
     "end_time": "2019-06-17T05:27:54.805400Z",
     "start_time": "2019-06-17T05:27:54.799400Z"
    }
   },
   "outputs": [],
   "source": [
    "# 2. from 모듈이름 import 함수이름\n",
    "from mod import square\n",
    "print(square(2,3))"
   ]
  },
  {
   "cell_type": "code",
   "execution_count": null,
   "metadata": {
    "ExecuteTime": {
     "end_time": "2019-06-17T05:27:59.880400Z",
     "start_time": "2019-06-17T05:27:59.873400Z"
    }
   },
   "outputs": [],
   "source": [
    "# 3. from 모듈이름 import 함수이름 as 별칭\n",
    "from mod import square as s\n",
    "print(s(2,3))"
   ]
  },
  {
   "cell_type": "code",
   "execution_count": null,
   "metadata": {
    "ExecuteTime": {
     "end_time": "2019-06-17T05:28:05.740400Z",
     "start_time": "2019-06-17T05:28:05.735400Z"
    }
   },
   "outputs": [],
   "source": [
    "# class 의 경우도 마찬가지이다. \n",
    "import mod\n",
    "a = mod.Bread()\n",
    "print(a.intro())"
   ]
  },
  {
   "cell_type": "code",
   "execution_count": null,
   "metadata": {
    "ExecuteTime": {
     "end_time": "2019-06-17T05:28:10.874400Z",
     "start_time": "2019-06-17T05:28:10.869400Z"
    }
   },
   "outputs": [],
   "source": [
    "from mod import Bread\n",
    "a = Bread()\n",
    "print(a.intro())"
   ]
  },
  {
   "cell_type": "code",
   "execution_count": null,
   "metadata": {
    "ExecuteTime": {
     "end_time": "2019-06-17T05:28:16.706400Z",
     "start_time": "2019-06-17T05:28:16.698400Z"
    }
   },
   "outputs": [],
   "source": [
    "# 현재 경로\n",
    "import os\n",
    "os.getcwd()"
   ]
  },
  {
   "cell_type": "code",
   "execution_count": null,
   "metadata": {},
   "outputs": [],
   "source": [
    "# The Zen of Python\n",
    "import this"
   ]
  }
 ],
 "metadata": {
  "kernelspec": {
   "display_name": "Python 3",
   "language": "python",
   "name": "python3"
  },
  "language_info": {
   "codemirror_mode": {
    "name": "ipython",
    "version": 3
   },
   "file_extension": ".py",
   "mimetype": "text/x-python",
   "name": "python",
   "nbconvert_exporter": "python",
   "pygments_lexer": "ipython3",
   "version": "3.7.7"
  },
  "toc": {
   "base_numbering": 1,
   "nav_menu": {},
   "number_sections": true,
   "sideBar": true,
   "skip_h1_title": false,
   "title_cell": "Table of Contents",
   "title_sidebar": "Contents",
   "toc_cell": false,
   "toc_position": {},
   "toc_section_display": true,
   "toc_window_display": false
  }
 },
 "nbformat": 4,
 "nbformat_minor": 2
}
