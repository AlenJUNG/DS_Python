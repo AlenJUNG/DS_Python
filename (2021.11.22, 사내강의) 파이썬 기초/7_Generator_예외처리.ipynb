{
 "cells": [
  {
   "cell_type": "markdown",
   "metadata": {},
   "source": [
    "\n",
    "# Generator"
   ]
  },
  {
   "cell_type": "code",
   "execution_count": null,
   "metadata": {
    "ExecuteTime": {
     "end_time": "2019-06-17T07:18:27.018000Z",
     "start_time": "2019-06-17T07:18:26.847000Z"
    }
   },
   "outputs": [],
   "source": [
    "list_iter = iter([1,2,3])\n",
    "\n",
    "print(next(list_iter))  # 1\n",
    "print(next(list_iter))  # 2\n",
    "print(next(list_iter))  # 3\n",
    "print(next(list_iter))  # StopIteration"
   ]
  },
  {
   "cell_type": "code",
   "execution_count": null,
   "metadata": {
    "ExecuteTime": {
     "end_time": "2019-06-17T07:21:41.979000Z",
     "start_time": "2019-06-17T07:21:41.971000Z"
    }
   },
   "outputs": [],
   "source": [
    "# 일반함수\n",
    "def tmp_function():\n",
    "    print('in tmp_function')\n",
    "\n",
    "f_itr = iter(tmp_function())  # not iterable 오류 발생"
   ]
  },
  {
   "cell_type": "code",
   "execution_count": null,
   "metadata": {
    "ExecuteTime": {
     "end_time": "2019-06-17T07:21:57.210000Z",
     "start_time": "2019-06-17T07:21:57.199000Z"
    }
   },
   "outputs": [],
   "source": [
    "# 제너레이터\n",
    "def tmp_generator():\n",
    "    print('in tmp_generator : before first')\n",
    "    yield 'fisrt'\n",
    "    print('in tmp_generator : before second')\n",
    "    yield 'second'\n",
    "    print('in tmp_generator : before third')\n",
    "    yield 'third'\n",
    "    print('in tmp_generator : end')\n",
    "\n",
    "g_itr = tmp_generator()\n",
    "print('-- start looping generator --')\n",
    "print(next(g_itr))  # first\n",
    "print('-- ----------------------- --')\n",
    "print(next(g_itr))  # second\n",
    "print('-- ----------------------- --')\n",
    "print(next(g_itr))  # third\n",
    "print('-- ----------------------- --')\n",
    "print(next(g_itr))  # StopIteration"
   ]
  },
  {
   "cell_type": "code",
   "execution_count": null,
   "metadata": {
    "ExecuteTime": {
     "end_time": "2019-06-17T07:23:51.761000Z",
     "start_time": "2019-06-17T07:23:51.756000Z"
    }
   },
   "outputs": [],
   "source": [
    "def double(size):\n",
    "    for i in range(size):\n",
    "        yield i*2\n",
    "\n",
    "dob_gen = double(10)\n",
    "\n",
    "print(type(dob_gen))\n",
    "\n",
    "for i in dob_gen:\n",
    "    print(i)"
   ]
  },
  {
   "cell_type": "code",
   "execution_count": null,
   "metadata": {
    "ExecuteTime": {
     "end_time": "2019-06-17T07:25:21.085000Z",
     "start_time": "2019-06-17T07:25:21.078000Z"
    }
   },
   "outputs": [],
   "source": [
    "# list comprehension\n",
    "com = [i*2 for i in range(10000)]\n",
    "# generator\n",
    "gen = (i*2 for i in range(10000))\n",
    "print(com)\n",
    "print(gen)"
   ]
  },
  {
   "cell_type": "code",
   "execution_count": null,
   "metadata": {
    "ExecuteTime": {
     "end_time": "2019-06-17T07:25:25.081000Z",
     "start_time": "2019-06-17T07:25:25.076000Z"
    }
   },
   "outputs": [],
   "source": [
    "import sys\n",
    "print(sys.getsizeof(com))\n",
    "print(sys.getsizeof(gen))"
   ]
  },
  {
   "cell_type": "code",
   "execution_count": null,
   "metadata": {
    "ExecuteTime": {
     "end_time": "2019-06-17T08:17:07.115000Z",
     "start_time": "2019-06-17T08:17:07.071000Z"
    }
   },
   "outputs": [],
   "source": [
    "# 제너레이터로 피보나치 수열 List만들기\n",
    "def fib(n):\n",
    "    f0, f1 = 0, 1\n",
    "    for i in range(1, n+1):\n",
    "        f0, f1 = f1, f0 + f1\n",
    "        yield f0\n",
    "\n",
    "for res in fib(10):\n",
    "    print(res, end=', ')"
   ]
  },
  {
   "cell_type": "code",
   "execution_count": null,
   "metadata": {
    "ExecuteTime": {
     "end_time": "2019-06-17T07:33:59.839000Z",
     "start_time": "2019-06-17T07:31:20.581000Z"
    }
   },
   "outputs": [],
   "source": [
    "# comprehension 피보나치 수열\n",
    "import time\n",
    "\n",
    "total = 0\n",
    "\n",
    "def fib(n):\n",
    "    global total\n",
    "    total += 1\n",
    "    return 1 if n <= 2 else fib(n - 1) + fib(n - 2)\n",
    "\n",
    "\n",
    "cur_time = time.time()\n",
    "\n",
    "fib_list = [fib(i) for i in range(1, 41)]\n",
    "\n",
    "end_time = time.time()\n",
    "\n",
    "print(fib_list)\n",
    "print(total)\n",
    "print(cur_time, end_time)\n",
    "print(end_time-cur_time)"
   ]
  },
  {
   "cell_type": "markdown",
   "metadata": {},
   "source": [
    "# 예외처리"
   ]
  },
  {
   "cell_type": "markdown",
   "metadata": {},
   "source": [
    "## 예외처리"
   ]
  },
  {
   "cell_type": "code",
   "execution_count": null,
   "metadata": {
    "ExecuteTime": {
     "end_time": "2019-06-17T07:40:30.563000Z",
     "start_time": "2019-06-17T07:40:30.557000Z"
    }
   },
   "outputs": [],
   "source": [
    "def divide(a, b):\n",
    "    return a / b\n",
    "\n",
    "try:\n",
    "    c = divide(5, 3)\n",
    "except ZeroDivisionError:\n",
    "    print('두 번째 인자는 0이여서는 안됩니다.')\n",
    "except NameError:\n",
    "    print('정의되어 있지 않은 변수입니다.')\n",
    "except TypeError:\n",
    "    print('숫자로 입력하여 주세요')\n",
    "else:\n",
    "    print(f'결과는 {c}입니다.')\n",
    "finally:\n",
    "    print('계산이 완료되었습니다')"
   ]
  },
  {
   "cell_type": "code",
   "execution_count": null,
   "metadata": {
    "ExecuteTime": {
     "end_time": "2019-06-17T07:41:37.810000Z",
     "start_time": "2019-06-17T07:41:37.800000Z"
    }
   },
   "outputs": [],
   "source": [
    "def raise_error_func():\n",
    "    raise NameError\n",
    "\n",
    "try:\n",
    "    raise_error_func()\n",
    "except NameError:\n",
    "    print (\"NameError occrued\")"
   ]
  },
  {
   "cell_type": "markdown",
   "metadata": {},
   "source": [
    "## 사용자 정의 예외처리"
   ]
  },
  {
   "cell_type": "code",
   "execution_count": null,
   "metadata": {
    "ExecuteTime": {
     "end_time": "2019-06-17T07:43:03.028000Z",
     "start_time": "2019-06-17T07:43:03.022000Z"
    }
   },
   "outputs": [],
   "source": [
    "class NegativeDivisionError(Exception):\n",
    "    def __init__(self, value):\n",
    "        self.value = value\n",
    "\n",
    "def positive_divide(a, b):\n",
    "    if ( b < 0):\n",
    "        raise NegativeDivisionError(b)\n",
    "    return a / b\n",
    "\n",
    "try:\n",
    "    result = positive_divide(10, -1)\n",
    "except NegativeDivisionError as e:\n",
    "    print(f'두번째 인자는 양수여야 합니다. :: {e.value}')"
   ]
  },
  {
   "cell_type": "code",
   "execution_count": null,
   "metadata": {},
   "outputs": [],
   "source": []
  }
 ],
 "metadata": {
  "kernelspec": {
   "display_name": "Python 3",
   "language": "python",
   "name": "python3"
  },
  "language_info": {
   "codemirror_mode": {
    "name": "ipython",
    "version": 3
   },
   "file_extension": ".py",
   "mimetype": "text/x-python",
   "name": "python",
   "nbconvert_exporter": "python",
   "pygments_lexer": "ipython3",
   "version": "3.7.4"
  },
  "toc": {
   "base_numbering": 1,
   "nav_menu": {},
   "number_sections": true,
   "sideBar": true,
   "skip_h1_title": false,
   "title_cell": "Table of Contents",
   "title_sidebar": "Contents",
   "toc_cell": false,
   "toc_position": {},
   "toc_section_display": true,
   "toc_window_display": false
  }
 },
 "nbformat": 4,
 "nbformat_minor": 2
}
