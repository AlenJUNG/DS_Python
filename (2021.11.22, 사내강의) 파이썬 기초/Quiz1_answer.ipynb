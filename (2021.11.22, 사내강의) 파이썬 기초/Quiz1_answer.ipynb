{
 "cells": [
  {
   "cell_type": "markdown",
   "id": "64631062",
   "metadata": {},
   "source": [
    "## 1. 다음 리스트의 중복을 제거하세요."
   ]
  },
  {
   "cell_type": "code",
   "execution_count": 4,
   "id": "f4d35e41",
   "metadata": {},
   "outputs": [],
   "source": [
    "aa = [ 1, 2, 3, 4, 5, 5, 5, 6]"
   ]
  },
  {
   "cell_type": "code",
   "execution_count": 6,
   "id": "e98e53dd",
   "metadata": {},
   "outputs": [
    {
     "data": {
      "text/plain": [
       "[1, 2, 3, 4, 5, 6]"
      ]
     },
     "execution_count": 6,
     "metadata": {},
     "output_type": "execute_result"
    }
   ],
   "source": [
    "list(set(aa))"
   ]
  },
  {
   "cell_type": "markdown",
   "id": "e24e5780",
   "metadata": {},
   "source": [
    "## 2. 아래 bb 의 구조체 타입은 무엇입니까?"
   ]
  },
  {
   "cell_type": "code",
   "execution_count": 9,
   "id": "f377b953",
   "metadata": {},
   "outputs": [],
   "source": [
    "bb = {1, \"안녕하세요\", ('ss', 'tt')}"
   ]
  },
  {
   "cell_type": "code",
   "execution_count": 10,
   "id": "21f33951",
   "metadata": {},
   "outputs": [
    {
     "data": {
      "text/plain": [
       "set"
      ]
     },
     "execution_count": 10,
     "metadata": {},
     "output_type": "execute_result"
    }
   ],
   "source": [
    "type(bb)"
   ]
  },
  {
   "cell_type": "markdown",
   "id": "c759d1ad",
   "metadata": {},
   "source": [
    "정답 : set(집합)"
   ]
  },
  {
   "cell_type": "markdown",
   "id": "217c1963",
   "metadata": {},
   "source": [
    "## 3. 1~ 10 까지의 수 중 짝수를 요소로 가지는 tuple 을 생성하세요.(range 함수 활용)"
   ]
  },
  {
   "cell_type": "code",
   "execution_count": 15,
   "id": "1b61a4a1",
   "metadata": {},
   "outputs": [
    {
     "data": {
      "text/plain": [
       "(2, 4, 6, 8, 10)"
      ]
     },
     "execution_count": 15,
     "metadata": {},
     "output_type": "execute_result"
    }
   ],
   "source": [
    "tuple(range(2,11,2))"
   ]
  },
  {
   "cell_type": "code",
   "execution_count": null,
   "id": "3084a72c",
   "metadata": {},
   "outputs": [],
   "source": []
  }
 ],
 "metadata": {
  "kernelspec": {
   "display_name": "Python 3",
   "language": "python",
   "name": "python3"
  },
  "language_info": {
   "codemirror_mode": {
    "name": "ipython",
    "version": 3
   },
   "file_extension": ".py",
   "mimetype": "text/x-python",
   "name": "python",
   "nbconvert_exporter": "python",
   "pygments_lexer": "ipython3",
   "version": "3.8.3"
  }
 },
 "nbformat": 4,
 "nbformat_minor": 5
}
